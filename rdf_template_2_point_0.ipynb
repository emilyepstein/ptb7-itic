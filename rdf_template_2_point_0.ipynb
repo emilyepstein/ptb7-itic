{
 "cells": [
  {
   "cell_type": "code",
   "execution_count": 1,
   "metadata": {},
   "outputs": [],
   "source": [
    "import signac\n",
    "import numpy as np\n",
    "import matplotlib as plt\n",
    "import freud\n",
    "import gsd\n",
    "import hoomd\n",
    "import gsd.pygsd\n",
    "import gsd.hoomd"
   ]
  },
  {
   "cell_type": "code",
   "execution_count": 2,
   "metadata": {},
   "outputs": [
    {
     "name": "stdout",
     "output_type": "stream",
     "text": [
      "fe36ee4052a01cae041ef5988477de10\n"
     ]
    }
   ],
   "source": [
    "data_path = \"Projects/ptb7-itic/\"\n",
    "project = signac.get_project(data_path)\n",
    "for job in project:\n",
    "    print(job)"
   ]
  },
  {
   "cell_type": "code",
   "execution_count": 7,
   "metadata": {},
   "outputs": [
    {
     "name": "stdout",
     "output_type": "stream",
     "text": [
      "['cc', 'cd', 'ca', 'os', 'c3', 'ss', 'c', 'o', 'f']\n"
     ]
    }
   ],
   "source": [
    "f_name = \"/Users/emilyepstein/Projects/ptb7-itic/workspace/fe36ee4052a01cae041ef5988477de10/trajectory.gsd\"\n",
    "with gsd.hoomd.open(name=f_name, mode=\"rb\") as gsd_file:\n",
    "    snap = gsd_file[0]\n",
    "print(snap.particles.types)"
   ]
  },
  {
   "cell_type": "code",
   "execution_count": 12,
   "metadata": {},
   "outputs": [
    {
     "name": "stdout",
     "output_type": "stream",
     "text": [
      "['N', '__class__', '__delattr__', '__dict__', '__dir__', '__doc__', '__eq__', '__format__', '__ge__', '__getattribute__', '__gt__', '__hash__', '__init__', '__init_subclass__', '__le__', '__lt__', '__module__', '__ne__', '__new__', '__reduce__', '__reduce_ex__', '__repr__', '__setattr__', '__sizeof__', '__str__', '__subclasshook__', '__weakref__', '_default_value', 'angmom', 'body', 'charge', 'diameter', 'image', 'mass', 'moment_inertia', 'orientation', 'position', 'type_shapes', 'typeid', 'types', 'validate', 'velocity']\n"
     ]
    }
   ],
   "source": [
    "#snap.particles.position\n",
    "\n",
    "#len(snap.particles.position\n",
    "    \n",
    "snap.particles.N\n",
    "\n",
    "print(dir(snap.particles))"
   ]
  },
  {
   "cell_type": "code",
   "execution_count": 5,
   "metadata": {},
   "outputs": [],
   "source": [
    "# in gsd file look up type_id with 'frame.particles.types'\n",
    "\n",
    "def atom_type_pos(frame, atom_types): \n",
    "    positions = [] #makes empty list for coordinates\n",
    "    for idx, type_id in enumerate(frame.particles.typeid):\n",
    "        #type id is which atom type it is, ss, cc, etc\n",
    "        if frame.particles.types[type_id] in atom_types:\n",
    "            positions.append(frame.particles.position[idx])\n",
    "    return positions"
   ]
  },
  {
   "cell_type": "code",
   "execution_count": null,
   "metadata": {},
   "outputs": [],
   "source": []
  }
 ],
 "metadata": {
  "kernelspec": {
   "display_name": "Python 3",
   "language": "python",
   "name": "python3"
  },
  "language_info": {
   "codemirror_mode": {
    "name": "ipython",
    "version": 3
   },
   "file_extension": ".py",
   "mimetype": "text/x-python",
   "name": "python",
   "nbconvert_exporter": "python",
   "pygments_lexer": "ipython3",
   "version": "3.7.7"
  }
 },
 "nbformat": 4,
 "nbformat_minor": 4
}
