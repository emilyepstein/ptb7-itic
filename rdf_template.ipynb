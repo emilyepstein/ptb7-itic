{
 "cells": [
  {
   "cell_type": "code",
   "execution_count": 1,
   "metadata": {},
   "outputs": [],
   "source": [
    "import signac\n",
    "import numpy as np\n",
    "import matplotlib as plt\n",
    "import freud\n",
    "import gsd\n",
    "import hoomd\n",
    "import gsd.pygsd\n",
    "import gsd.hoomd"
   ]
  },
  {
   "cell_type": "code",
   "execution_count": 26,
   "metadata": {},
   "outputs": [
    {
     "name": "stdout",
     "output_type": "stream",
     "text": [
      "fe36ee4052a01cae041ef5988477de10\n"
     ]
    }
   ],
   "source": [
    "data_path = \"Projects/ptb7-itic/\"\n",
    "project = signac.get_project(data_path)\n",
    "for job in project:\n",
    "    print(job)"
   ]
  },
  {
   "cell_type": "code",
   "execution_count": 29,
   "metadata": {},
   "outputs": [
    {
     "data": {
      "text/html": [
       "JobsCursor(project=Project.get_project('/Users/emilyepstein/Projects/ptb7-itic'), filter={'process': 'quench', 'size': 'medium'}, doc_filter=None)<div>\n",
       "<style scoped>\n",
       "    .dataframe tbody tr th:only-of-type {\n",
       "        vertical-align: middle;\n",
       "    }\n",
       "\n",
       "    .dataframe tbody tr th {\n",
       "        vertical-align: top;\n",
       "    }\n",
       "\n",
       "    .dataframe thead th {\n",
       "        text-align: right;\n",
       "    }\n",
       "</style>\n",
       "<table border=\"1\" class=\"dataframe\">\n",
       "  <thead>\n",
       "    <tr style=\"text-align: right;\">\n",
       "      <th></th>\n",
       "      <th>sp.molecule</th>\n",
       "      <th>sp.n_compounds</th>\n",
       "      <th>sp.density</th>\n",
       "      <th>sp.e_factor</th>\n",
       "      <th>sp.kT_reduced</th>\n",
       "      <th>sp.tau</th>\n",
       "      <th>sp.n_steps</th>\n",
       "      <th>sp.dt</th>\n",
       "      <th>sp.remove_hydrogens</th>\n",
       "      <th>sp.original_id</th>\n",
       "      <th>...</th>\n",
       "      <th>doc.mass</th>\n",
       "      <th>doc.mass_units</th>\n",
       "      <th>doc.energy</th>\n",
       "      <th>doc.energy_units</th>\n",
       "      <th>doc.distance</th>\n",
       "      <th>doc.distance_units</th>\n",
       "      <th>doc.T_SI</th>\n",
       "      <th>doc.T_unit</th>\n",
       "      <th>doc.real_timestep</th>\n",
       "      <th>doc.time_unit</th>\n",
       "    </tr>\n",
       "  </thead>\n",
       "  <tbody>\n",
       "    <tr>\n",
       "      <th>fe36ee4052a01cae041ef5988477de10</th>\n",
       "      <td>PTB7_10mer_smiles</td>\n",
       "      <td>200</td>\n",
       "      <td>0.9</td>\n",
       "      <td>0.5</td>\n",
       "      <td>1.7</td>\n",
       "      <td>1</td>\n",
       "      <td>60000000.0</td>\n",
       "      <td>0.001</td>\n",
       "      <td>True</td>\n",
       "      <td>ecca9fd02b6f816abf804563103b7ef8</td>\n",
       "      <td>...</td>\n",
       "      <td>32.06</td>\n",
       "      <td>amu</td>\n",
       "      <td>1.046</td>\n",
       "      <td>kj/mol</td>\n",
       "      <td>0.356359</td>\n",
       "      <td>nm</td>\n",
       "      <td>214.0</td>\n",
       "      <td>K</td>\n",
       "      <td>1.973</td>\n",
       "      <td>fs</td>\n",
       "    </tr>\n",
       "  </tbody>\n",
       "</table>\n",
       "<p>1 rows × 28 columns</p>\n",
       "</div>"
      ],
      "text/plain": [
       "JobsCursor(project=Project.get_project('/Users/emilyepstein/Projects/ptb7-itic'), filter={'process': 'quench', 'size': 'medium'}, doc_filter=None)"
      ]
     },
     "execution_count": 29,
     "metadata": {},
     "output_type": "execute_result"
    }
   ],
   "source": [
    "state_dict = {\"process\": \"quench\", \"size\": \"medium\"}\n",
    "job_list = project.find_jobs(state_dict)\n",
    "job_list"
   ]
  },
  {
   "cell_type": "code",
   "execution_count": 43,
   "metadata": {},
   "outputs": [
    {
     "name": "stdout",
     "output_type": "stream",
     "text": [
      "/Users/emilyepstein/Projects/ptb7-itic/workspace/fe36ee4052a01cae041ef5988477de10/trajectory.gsd\n"
     ]
    },
    {
     "ename": "RuntimeError",
     "evalue": "Not a GSD file: <_io.BufferedReader name='/Users/emilyepstein/Projects/ptb7-itic/workspace/fe36ee4052a01cae041ef5988477de10/trajectory.gsd'>",
     "output_type": "error",
     "traceback": [
      "\u001b[0;31m---------------------------------------------------------------------------\u001b[0m",
      "\u001b[0;31mRuntimeError\u001b[0m                              Traceback (most recent call last)",
      "\u001b[0;32m<ipython-input-43-df13067f1c74>\u001b[0m in \u001b[0;36m<module>\u001b[0;34m\u001b[0m\n\u001b[1;32m      2\u001b[0m     \u001b[0mpath\u001b[0m \u001b[0;34m=\u001b[0m \u001b[0;34m(\u001b[0m\u001b[0mjob\u001b[0m\u001b[0;34m.\u001b[0m\u001b[0mfn\u001b[0m\u001b[0;34m(\u001b[0m\u001b[0;34m\"trajectory.gsd\"\u001b[0m\u001b[0;34m)\u001b[0m\u001b[0;34m)\u001b[0m\u001b[0;34m\u001b[0m\u001b[0;34m\u001b[0m\u001b[0m\n\u001b[1;32m      3\u001b[0m     \u001b[0mprint\u001b[0m\u001b[0;34m(\u001b[0m\u001b[0mpath\u001b[0m\u001b[0;34m)\u001b[0m\u001b[0;34m\u001b[0m\u001b[0;34m\u001b[0m\u001b[0m\n\u001b[0;32m----> 4\u001b[0;31m     \u001b[0mrdf_from_gsd\u001b[0m\u001b[0;34m(\u001b[0m\u001b[0mjob\u001b[0m\u001b[0;34m)\u001b[0m\u001b[0;34m\u001b[0m\u001b[0;34m\u001b[0m\u001b[0m\n\u001b[0m",
      "\u001b[0;32m<ipython-input-42-e62ef2bd248e>\u001b[0m in \u001b[0;36mrdf_from_gsd\u001b[0;34m(job, atom_type, r_max, r_min, nbins, start)\u001b[0m\n\u001b[1;32m      9\u001b[0m     \u001b[0mgsd_file\u001b[0m \u001b[0;34m=\u001b[0m \u001b[0;34m\"{}/trajectory.gsd\"\u001b[0m\u001b[0;34m.\u001b[0m\u001b[0mformat\u001b[0m\u001b[0;34m(\u001b[0m\u001b[0mjob\u001b[0m\u001b[0;34m.\u001b[0m\u001b[0mworkspace\u001b[0m\u001b[0;34m(\u001b[0m\u001b[0;34m)\u001b[0m\u001b[0;34m)\u001b[0m\u001b[0;34m\u001b[0m\u001b[0;34m\u001b[0m\u001b[0m\n\u001b[1;32m     10\u001b[0m \u001b[0;34m\u001b[0m\u001b[0m\n\u001b[0;32m---> 11\u001b[0;31m     \u001b[0mf\u001b[0m \u001b[0;34m=\u001b[0m \u001b[0mgsd\u001b[0m\u001b[0;34m.\u001b[0m\u001b[0mpygsd\u001b[0m\u001b[0;34m.\u001b[0m\u001b[0mGSDFile\u001b[0m\u001b[0;34m(\u001b[0m\u001b[0mopen\u001b[0m\u001b[0;34m(\u001b[0m\u001b[0mgsd_file\u001b[0m\u001b[0;34m,\u001b[0m \u001b[0;34m\"rb\"\u001b[0m\u001b[0;34m)\u001b[0m\u001b[0;34m)\u001b[0m\u001b[0;34m\u001b[0m\u001b[0;34m\u001b[0m\u001b[0m\n\u001b[0m\u001b[1;32m     12\u001b[0m     \u001b[0mtrajectory\u001b[0m \u001b[0;34m=\u001b[0m \u001b[0mgsd\u001b[0m\u001b[0;34m.\u001b[0m\u001b[0mhoomd\u001b[0m\u001b[0;34m.\u001b[0m\u001b[0mHOOMDTrajectory\u001b[0m\u001b[0;34m(\u001b[0m\u001b[0mf\u001b[0m\u001b[0;34m)\u001b[0m\u001b[0;34m\u001b[0m\u001b[0;34m\u001b[0m\u001b[0m\n\u001b[1;32m     13\u001b[0m     \u001b[0;32mif\u001b[0m \u001b[0mr_max\u001b[0m \u001b[0;32mis\u001b[0m \u001b[0;32mNone\u001b[0m\u001b[0;34m:\u001b[0m\u001b[0;34m\u001b[0m\u001b[0;34m\u001b[0m\u001b[0m\n",
      "\u001b[0;32m~/opt/miniconda3/envs/opv/lib/python3.7/site-packages/gsd/pygsd.py\u001b[0m in \u001b[0;36m__init__\u001b[0;34m(self, file)\u001b[0m\n\u001b[1;32m    142\u001b[0m         \u001b[0;31m# validate the header\u001b[0m\u001b[0;34m\u001b[0m\u001b[0;34m\u001b[0m\u001b[0;34m\u001b[0m\u001b[0m\n\u001b[1;32m    143\u001b[0m         \u001b[0;32mif\u001b[0m \u001b[0mself\u001b[0m\u001b[0;34m.\u001b[0m\u001b[0m__header\u001b[0m\u001b[0;34m.\u001b[0m\u001b[0mmagic\u001b[0m \u001b[0;34m!=\u001b[0m \u001b[0;36m0x65DF65DF65DF65DF\u001b[0m\u001b[0;34m:\u001b[0m\u001b[0;34m\u001b[0m\u001b[0;34m\u001b[0m\u001b[0m\n\u001b[0;32m--> 144\u001b[0;31m             \u001b[0;32mraise\u001b[0m \u001b[0mRuntimeError\u001b[0m\u001b[0;34m(\u001b[0m\u001b[0;34m\"Not a GSD file: \"\u001b[0m \u001b[0;34m+\u001b[0m \u001b[0mstr\u001b[0m\u001b[0;34m(\u001b[0m\u001b[0mself\u001b[0m\u001b[0;34m.\u001b[0m\u001b[0m__file\u001b[0m\u001b[0;34m)\u001b[0m\u001b[0;34m)\u001b[0m\u001b[0;34m\u001b[0m\u001b[0;34m\u001b[0m\u001b[0m\n\u001b[0m\u001b[1;32m    145\u001b[0m         if (self.__header.gsd_version < (1 << 16)\n\u001b[1;32m    146\u001b[0m                 and self.__header.gsd_version != (0 << 16 | 3)):\n",
      "\u001b[0;31mRuntimeError\u001b[0m: Not a GSD file: <_io.BufferedReader name='/Users/emilyepstein/Projects/ptb7-itic/workspace/fe36ee4052a01cae041ef5988477de10/trajectory.gsd'>"
     ]
    }
   ],
   "source": [
    "for job in job_list:\n",
    "    path = (job.fn(\"trajectory.gsd\"))\n",
    "    print(path)\n",
    "    rdf_from_gsd(job)"
   ]
  },
  {
   "cell_type": "code",
   "execution_count": 42,
   "metadata": {},
   "outputs": [],
   "source": [
    "def atom_type_pos(frame, atom_types): \n",
    "    positions = []\n",
    "    for idx, type_id in enumerate(frame.particles.typeid):\n",
    "        if frame.particles.types[type_id] in atom_types:\n",
    "            positions.append(frame.particles.position[idx])\n",
    "    return positions\n",
    "\n",
    "def rdf_from_gsd(job, atom_type='ss', r_max=5, r_min=0.5, nbins=50, start=100):\n",
    "    gsd_file = \"{}/trajectory.gsd\".format(job.workspace())\n",
    "    \n",
    "    f = gsd.pygsd.GSDFile(open(gsd_file, \"rb\")) \n",
    "    trajectory = gsd.hoomd.HOOMDTrajectory(f) \n",
    "    if r_max is None:\n",
    "        r_max = max(trajectory[-1].configuration.box[:3]) * 0.45\n",
    "    freud_rdf = freud.density.RDF(bins=nbins, r_max=r_max, r_min=r_min)\n",
    "    \n",
    "    for frame in trajectory[start:]:\n",
    "        freud_rdf.compute(system=frame, reset=False)\n",
    "    x = freud_rdf.bin_centers\n",
    "    y = freud_rdf.rdf\n",
    "    \n",
    "    filename = 'rdf_info.txt'\n",
    "    \n",
    "    np.savetxt(filename, np.transpose([x,y]), delimiter=',', header= \"bin_centers, rdf\")\n",
    "    f.close()\n",
    "    return freud_rdf\n"
   ]
  },
  {
   "cell_type": "code",
   "execution_count": null,
   "metadata": {},
   "outputs": [],
   "source": []
  }
 ],
 "metadata": {
  "kernelspec": {
   "display_name": "Python 3",
   "language": "python",
   "name": "python3"
  },
  "language_info": {
   "codemirror_mode": {
    "name": "ipython",
    "version": 3
   },
   "file_extension": ".py",
   "mimetype": "text/x-python",
   "name": "python",
   "nbconvert_exporter": "python",
   "pygments_lexer": "ipython3",
   "version": "3.7.7"
  }
 },
 "nbformat": 4,
 "nbformat_minor": 4
}
