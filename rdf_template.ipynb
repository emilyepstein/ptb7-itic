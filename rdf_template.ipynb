{
 "cells": [
  {
   "cell_type": "code",
   "execution_count": 1,
   "metadata": {},
   "outputs": [],
   "source": [
    "import signac\n",
    "import numpy as np\n",
    "import matplotlib.pyplot as plt\n",
    "import freud\n",
    "import gsd\n",
    "import hoomd\n",
    "import gsd.pygsd\n",
    "import gsd.hoomd"
   ]
  },
  {
   "cell_type": "code",
   "execution_count": 34,
   "metadata": {},
   "outputs": [
    {
     "name": "stdout",
     "output_type": "stream",
     "text": [
      "fe36ee4052a01cae041ef5988477de10\n"
     ]
    }
   ],
   "source": [
    "project = signac.get_project(\"workspace\")\n",
    "for job in project:\n",
    "    print(job)"
   ]
  },
  {
   "cell_type": "code",
   "execution_count": 58,
   "metadata": {},
   "outputs": [],
   "source": [
    "dens = 0.9\n",
    "temp = 1.7\n",
    "#if molecule >= \"PTB7_5mer_smiles\":\n",
    "#    mer = 5\n",
    "#elif molecule >= \"PTB7_10mer_smiles\":\n",
    "#    mer = 10\n",
    "#elif molecule >= \"PTB7_15mer_smiles\":\n",
    "#    mer = 15\n",
    "    \n",
    "state_dict = {\"molecule\": \"PTB7_10mer_smiles\", \"size\":\"medium\", \"process\":\"quench\", \"density\": dens, \"kT_reduced\": temp}\n",
    "\n",
    "\n",
    "job_list = project.find_jobs(state_dict)\n"
   ]
  },
  {
   "cell_type": "code",
   "execution_count": 59,
   "metadata": {},
   "outputs": [],
   "source": [
    "for job in job_list:\n",
    "    rdf_path = job.fn(\"trajectory.gsd\")"
   ]
  },
  {
   "cell_type": "code",
   "execution_count": 60,
   "metadata": {},
   "outputs": [],
   "source": [
    "def atom_type_pos(frame, atom_types): \n",
    "    positions = []\n",
    "    for idx, type_id in enumerate(frame.particles.typeid):\n",
    "        if frame.particles.types[type_id] in atom_types:\n",
    "            positions.append(frame.particles.position[idx])\n",
    "    return positions"
   ]
  },
  {
   "cell_type": "code",
   "execution_count": 61,
   "metadata": {},
   "outputs": [],
   "source": [
    "def create_rdf(rdf_path,\n",
    "               atom_types='all',\n",
    "               r_max = None,\n",
    "               r_min = 0.1,\n",
    "               nbins = 50,\n",
    "               start = 100):\n",
    "    \n",
    "    \n",
    "    f = gsd.pygsd.GSDFile(open(rdf_path, \"rb\"))\n",
    "    trajectory = gsd.hoomd.HOOMDTrajectory(f) \n",
    "    if r_max is None:\n",
    "        r_max = max(trajectory[-1].configuration.box[:3]) * 0.45 \n",
    "    freud_rdf = freud.density.RDF(bins=nbins, r_max=r_max, r_min=r_min)\n",
    "    for frame in trajectory[start:]:\n",
    "        if atom_types == 'all':\n",
    "            freud_rdf.compute(system=frame, reset=False)\n",
    "        else:\n",
    "            query_points = atom_type_pos(frame, atom_types)\n",
    "            box = frame.configuration.box\n",
    "            freud_rdf.compute(system=(box, query_points), reset = False)\n",
    "        \n",
    " \n",
    "    x = freud_rdf.bin_centers\n",
    "    y = freud_rdf.rdf\n",
    "    filename = '{}-trajectory.txt'.format(atom_types[0])\n",
    "    np.savetxt(job.fn(filename), np.transpose([x,y]), delimiter=',', header= \"bin_centers, rdf\")\n",
    "    f.close()\n",
    "    return freud_rdf, filename\n"
   ]
  },
  {
   "cell_type": "code",
   "execution_count": 62,
   "metadata": {},
   "outputs": [],
   "source": [
    "for job in job_list:\n",
    "    rdf_path = job.fn(\"trajectory.gsd\")\n",
    "    #print (rdf_path)\n",
    "    freud_rdf, filename = create_rdf(rdf_path, atom_types=['f'], start = 95)\n",
    "    txt_path = job.fn(filename)\n",
    "    #print(txt_path)"
   ]
  },
  {
   "cell_type": "code",
   "execution_count": 73,
   "metadata": {},
   "outputs": [],
   "source": [
    "def rdf_plot(job_list): \n",
    "\n",
    "    line = np.genfromtxt(txt_path, names = True, delimiter = \",\") \n",
    "\n",
    "    x = line[\"bin_centers\"]\n",
    "    y = line[\"rdf\"]\n",
    "    \n",
    "\n",
    "    plt.plot(x, y, color = '#ffc08a')\n",
    "\n",
    "    plt.xlabel(\"r\")\n",
    "    plt.ylabel(\"g(r)\")\n",
    "    plt.ylim(0, 1.6)\n",
    "    plt.title(\"RDF of %s density at %skT of PTB7\" % (dens, temp))\n",
    "\n",
    "    ymax = max(y)\n",
    "    n_max = y.argmax()\n",
    "    plt.plot(x[n_max],y[n_max],'o')\n",
    "    n_min = y.argmin() \n",
    "    plt.plot(x[n_min],y[n_min],'x')\n",
    "\n",
    "    #other notebook in notebook tuts(maybe?) has command to limit decimal places\n",
    "    plt.annotate(\"local max {}\".format(y[n_max]), xy=(x[n_max],y[n_max]), xytext=(x[n_max]+15,y[n_max]+15), textcoords='offset points', arrowprops=dict(arrowstyle=\"->\", connectionstyle=\"arc3,rad=-0.2\"))\n",
    "\n",
    "    #working on this still\n",
    "    \n",
    "    print(\"max is:\") \n",
    "    maxvar = ((x[n_max],y[n_max]))\n",
    "    print(\"%10.5e\"% \"maxvar)\n",
    "\n",
    "    plt.show()\n",
    "    \n",
    "    \n",
    "    \n",
    "    \n",
    "    \n",
    "    \n",
    "    #this if for a local min vvv\n",
    "    #plt.annotate('local min', xy=(x[n_min],y[n_min]), xytext=(x[n_min]+15,y[n_min]+15), textcoords='offset points' , arrowprops=dict(arrowstyle=\"->\", connectionstyle=\"arc3,rad=-0.2\"))\n",
    "    #print(\"min of\", temp,\"kT is:\") \n",
    "    #print((x[n_min],y[n_min]), sep=\",\")"
   ]
  },
  {
   "cell_type": "code",
   "execution_count": 74,
   "metadata": {},
   "outputs": [
    {
     "name": "stdout",
     "output_type": "stream",
     "text": [
      "max is:\n"
     ]
    },
    {
     "ename": "TypeError",
     "evalue": "must be real number, not str",
     "output_type": "error",
     "traceback": [
      "\u001b[0;31m---------------------------------------------------------------------------\u001b[0m",
      "\u001b[0;31mTypeError\u001b[0m                                 Traceback (most recent call last)",
      "\u001b[0;32m<ipython-input-74-050078ff08ab>\u001b[0m in \u001b[0;36m<module>\u001b[0;34m\u001b[0m\n\u001b[0;32m----> 1\u001b[0;31m \u001b[0mrdf_plot\u001b[0m\u001b[0;34m(\u001b[0m\u001b[0mjob_list\u001b[0m\u001b[0;34m)\u001b[0m\u001b[0;34m\u001b[0m\u001b[0;34m\u001b[0m\u001b[0m\n\u001b[0m",
      "\u001b[0;32m<ipython-input-73-2a711ead0dd1>\u001b[0m in \u001b[0;36mrdf_plot\u001b[0;34m(job_list)\u001b[0m\n\u001b[1;32m     26\u001b[0m     \u001b[0mprint\u001b[0m\u001b[0;34m(\u001b[0m\u001b[0;34m\"max is:\"\u001b[0m\u001b[0;34m)\u001b[0m\u001b[0;34m\u001b[0m\u001b[0;34m\u001b[0m\u001b[0m\n\u001b[1;32m     27\u001b[0m     \u001b[0mmaxvar\u001b[0m \u001b[0;34m=\u001b[0m \u001b[0;34m(\u001b[0m\u001b[0;34m(\u001b[0m\u001b[0mx\u001b[0m\u001b[0;34m[\u001b[0m\u001b[0mn_max\u001b[0m\u001b[0;34m]\u001b[0m\u001b[0;34m,\u001b[0m\u001b[0my\u001b[0m\u001b[0;34m[\u001b[0m\u001b[0mn_max\u001b[0m\u001b[0;34m]\u001b[0m\u001b[0;34m)\u001b[0m\u001b[0;34m)\u001b[0m\u001b[0;34m\u001b[0m\u001b[0;34m\u001b[0m\u001b[0m\n\u001b[0;32m---> 28\u001b[0;31m     \u001b[0mprint\u001b[0m\u001b[0;34m(\u001b[0m\u001b[0;34m\"%10.5e\"\u001b[0m\u001b[0;34m%\u001b[0m \u001b[0;34m\"maxvar\"\u001b[0m\u001b[0;34m)\u001b[0m\u001b[0;34m\u001b[0m\u001b[0;34m\u001b[0m\u001b[0m\n\u001b[0m\u001b[1;32m     29\u001b[0m \u001b[0;34m\u001b[0m\u001b[0m\n\u001b[1;32m     30\u001b[0m     \u001b[0mplt\u001b[0m\u001b[0;34m.\u001b[0m\u001b[0mshow\u001b[0m\u001b[0;34m(\u001b[0m\u001b[0;34m)\u001b[0m\u001b[0;34m\u001b[0m\u001b[0;34m\u001b[0m\u001b[0m\n",
      "\u001b[0;31mTypeError\u001b[0m: must be real number, not str"
     ]
    },
    {
     "data": {
      "image/png": "[encoded data removed]",
      "text/plain": [
       "<Figure size 432x288 with 1 Axes>"
      ]
     },
     "metadata": {
      "needs_background": "light"
     },
     "output_type": "display_data"
    }
   ],
   "source": [
    "rdf_plot(job_list)"
   ]
  },
  {
   "cell_type": "code",
   "execution_count": null,
   "metadata": {},
   "outputs": [],
   "source": []
  },
  {
   "cell_type": "code",
   "execution_count": null,
   "metadata": {},
   "outputs": [],
   "source": []
  }
 ],
 "metadata": {
  "kernelspec": {
   "display_name": "Python 3",
   "language": "python",
   "name": "python3"
  },
  "language_info": {
   "codemirror_mode": {
    "name": "ipython",
    "version": 3
   },
   "file_extension": ".py",
   "mimetype": "text/x-python",
   "name": "python",
   "nbconvert_exporter": "python",
   "pygments_lexer": "ipython3",
   "version": "3.7.7"
  }
 },
 "nbformat": 4,
 "nbformat_minor": 4
}
