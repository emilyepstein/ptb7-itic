{
 "cells": [
  {
   "cell_type": "code",
   "execution_count": 1,
   "metadata": {},
   "outputs": [],
   "source": [
    "import signac\n",
    "import numpy as np\n",
    "import matplotlib.pyplot as plt\n",
    "import freud\n",
    "import gsd\n",
    "import hoomd\n",
    "import gsd.pygsd\n",
    "import gsd.hoomd"
   ]
  },
  {
   "cell_type": "code",
   "execution_count": 2,
   "metadata": {},
   "outputs": [
    {
     "name": "stdout",
     "output_type": "stream",
     "text": [
      "fe36ee4052a01cae041ef5988477de10\n"
     ]
    }
   ],
   "source": [
    "project = signac.get_project(\"workspace\")\n",
    "for job in project:\n",
    "    print(job)"
   ]
  },
  {
   "cell_type": "code",
   "execution_count": 3,
   "metadata": {},
   "outputs": [],
   "source": [
    "state_dict = {\"size\":\"medium\", \"process\":\"quench\"}\n",
    "\n",
    "job_list = project.find_jobs(state_dict)"
   ]
  },
  {
   "cell_type": "code",
   "execution_count": 4,
   "metadata": {},
   "outputs": [],
   "source": [
    "for job in job_list:\n",
    "    rdf_path = job.fn(\"trajectory.gsd\")"
   ]
  },
  {
   "cell_type": "code",
   "execution_count": 5,
   "metadata": {},
   "outputs": [],
   "source": [
    "def atom_type_pos(frame, atom_types): \n",
    "    positions = []\n",
    "    for idx, type_id in enumerate(frame.particles.typeid):\n",
    "        if frame.particles.types[type_id] in atom_types:\n",
    "            positions.append(frame.particles.position[idx])\n",
    "    return positions"
   ]
  },
  {
   "cell_type": "code",
   "execution_count": 10,
   "metadata": {},
   "outputs": [],
   "source": [
    "def create_rdf(rdf_path,\n",
    "               atom_types='all',\n",
    "               r_max = None,\n",
    "               r_min = 0.1,\n",
    "               nbins = 50,\n",
    "               start = 100):\n",
    "    \n",
    "    \n",
    "    f = gsd.pygsd.GSDFile(open(rdf_path, \"rb\"))\n",
    "    trajectory = gsd.hoomd.HOOMDTrajectory(f) \n",
    "    if r_max is None:\n",
    "        r_max = max(trajectory[-1].configuration.box[:3]) * 0.45 \n",
    "    freud_rdf = freud.density.RDF(bins=nbins, r_max=r_max, r_min=r_min)\n",
    "    for frame in trajectory[start:]:\n",
    "        if atom_types == 'all':\n",
    "            freud_rdf.compute(system=frame, reset=False)\n",
    "        else:\n",
    "            query_points = atom_type_pos(frame, atom_types)\n",
    "            box = frame.configuration.box\n",
    "            freud_rdf.compute(system=(box, query_points), reset = False)\n",
    "        \n",
    " \n",
    "    x = freud_rdf.bin_centers\n",
    "    y = freud_rdf.rdf\n",
    "    filename = '{}-trajectory.txt'.format(atom_types[0])\n",
    "    np.savetxt(job.fn(filename), np.transpose([x,y]), delimiter=',', header= \"bin_centers, rdf\")\n",
    "    f.close()\n",
    "    return freud_rdf, filename\n"
   ]
  },
  {
   "cell_type": "code",
   "execution_count": 11,
   "metadata": {},
   "outputs": [
    {
     "name": "stdout",
     "output_type": "stream",
     "text": [
      "/Users/emilyepstein/Projects/ptb7-itic/workspace/fe36ee4052a01cae041ef5988477de10/trajectory.gsd\n"
     ]
    },
    {
     "ename": "NameError",
     "evalue": "name 'filename' is not defined",
     "output_type": "error",
     "traceback": [
      "\u001b[0;31m---------------------------------------------------------------------------\u001b[0m",
      "\u001b[0;31mNameError\u001b[0m                                 Traceback (most recent call last)",
      "\u001b[0;32m<ipython-input-11-54fcb2a6ec21>\u001b[0m in \u001b[0;36m<module>\u001b[0;34m\u001b[0m\n\u001b[1;32m      3\u001b[0m     \u001b[0mprint\u001b[0m \u001b[0;34m(\u001b[0m\u001b[0mrdf_path\u001b[0m\u001b[0;34m)\u001b[0m\u001b[0;34m\u001b[0m\u001b[0;34m\u001b[0m\u001b[0m\n\u001b[1;32m      4\u001b[0m     \u001b[0mcreate_rdf\u001b[0m\u001b[0;34m(\u001b[0m\u001b[0mrdf_path\u001b[0m\u001b[0;34m,\u001b[0m \u001b[0matom_types\u001b[0m\u001b[0;34m=\u001b[0m\u001b[0;34m[\u001b[0m\u001b[0;34m'f'\u001b[0m\u001b[0;34m]\u001b[0m\u001b[0;34m,\u001b[0m \u001b[0mstart\u001b[0m \u001b[0;34m=\u001b[0m \u001b[0;36m95\u001b[0m\u001b[0;34m)\u001b[0m\u001b[0;34m\u001b[0m\u001b[0;34m\u001b[0m\u001b[0m\n\u001b[0;32m----> 5\u001b[0;31m     \u001b[0mtxt_path\u001b[0m \u001b[0;34m=\u001b[0m \u001b[0mjob\u001b[0m\u001b[0;34m.\u001b[0m\u001b[0mfn\u001b[0m\u001b[0;34m(\u001b[0m\u001b[0mfilename\u001b[0m\u001b[0;34m)\u001b[0m\u001b[0;34m\u001b[0m\u001b[0;34m\u001b[0m\u001b[0m\n\u001b[0m\u001b[1;32m      6\u001b[0m     \u001b[0mprint\u001b[0m\u001b[0;34m(\u001b[0m\u001b[0mtxt_path\u001b[0m\u001b[0;34m)\u001b[0m\u001b[0;34m\u001b[0m\u001b[0;34m\u001b[0m\u001b[0m\n",
      "\u001b[0;31mNameError\u001b[0m: name 'filename' is not defined"
     ]
    }
   ],
   "source": [
    "for job in job_list:\n",
    "    rdf_path = job.fn(\"trajectory.gsd\")\n",
    "    print (rdf_path)\n",
    "    create_rdf(rdf_path, atom_types=['f'], start = 95)\n",
    "    txt_path = job.fn(filename)\n",
    "    print(txt_path)"
   ]
  },
  {
   "cell_type": "code",
   "execution_count": null,
   "metadata": {},
   "outputs": [],
   "source": [
    "for job in job_list:\n",
    "    txt_path = job.fn(filename)\n",
    "                      \n",
    "print(txt_path)"
   ]
  },
  {
   "cell_type": "code",
   "execution_count": null,
   "metadata": {},
   "outputs": [],
   "source": [
    "def rdf_plot(job_list): \n",
    "\n",
    "    line = np.genfromtxt(txt_path, names = True, delimiter = \",\") \n",
    "\n",
    "    x = line[\"bin_centers\"]\n",
    "    y = line[\"rdf\"]\n",
    "\n",
    "    plt.plot(x, y)\n",
    "\n",
    "    plt.xlabel(\"r\")\n",
    "    plt.ylabel(\"g(r)\")\n",
    "    #plt.legend(loc=\"lower right\")\n",
    "    #plt.title(\"RDF of %s density %smer of PTB7\" % (density, polymer_length)) plt.ylim(0, 1.6)\n",
    "\n",
    "    ymax = max(y)\n",
    "    n_max = y.argmax()\n",
    "    plt.plot(x[n_max],y[n_max],'o')\n",
    "    n_min = y.argmin() \n",
    "    plt.plot(x[n_min],y[n_min],'x')\n",
    "\n",
    "    #something is funky here\n",
    "    plt.annotate(\"local max {}\".format(n_max), xy=(x[n_max],y[n_max]), xytext=(x[n_max]+15,y[n_max]+15), textcoords='offset points', arrowprops=dict(arrowstyle=\"->\", connectionstyle=\"arc3,rad=-0.2\"))\n",
    "\n",
    "\n",
    "    #print(\"max of\", temp,\"kT is:\") \n",
    "    #print((x[n_max],y[n_max]), sep=\",\")\n",
    "\n",
    "    #plt.annotate('local min', xy=(x[n_min],y[n_min]), xytext=(x[n_min]+15,y[n_min]+15), textcoords='offset points' , arrowprops=dict(arrowstyle=\"->\", connectionstyle=\"arc3,rad=-0.2\"))\n",
    "\n",
    "    #print(\"min of\", temp,\"kT is:\") \n",
    "    #print((x[n_min],y[n_min]), sep=\",\")\n",
    "    plt.show()"
   ]
  },
  {
   "cell_type": "code",
   "execution_count": null,
   "metadata": {},
   "outputs": [],
   "source": [
    "rdf_plot(job_list)"
   ]
  },
  {
   "cell_type": "code",
   "execution_count": null,
   "metadata": {},
   "outputs": [],
   "source": []
  },
  {
   "cell_type": "code",
   "execution_count": null,
   "metadata": {},
   "outputs": [],
   "source": []
  }
 ],
 "metadata": {
  "kernelspec": {
   "display_name": "Python 3",
   "language": "python",
   "name": "python3"
  },
  "language_info": {
   "codemirror_mode": {
    "name": "ipython",
    "version": 3
   },
   "file_extension": ".py",
   "mimetype": "text/x-python",
   "name": "python",
   "nbconvert_exporter": "python",
   "pygments_lexer": "ipython3",
   "version": "3.7.7"
  }
 },
 "nbformat": 4,
 "nbformat_minor": 4
}
