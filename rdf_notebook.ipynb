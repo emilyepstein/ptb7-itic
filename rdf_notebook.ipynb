{
 "cells": [
  {
   "cell_type": "code",
   "execution_count": 1,
   "metadata": {},
   "outputs": [],
   "source": [
    "import signac\n",
    "import numpy as np\n",
    "import matplotlib as plt\n",
    "import freud\n",
    "import gsd\n",
    "import hoomd\n",
    "import gsd.pygsd\n",
    "import gsd.hoomd\n",
    "import scipy\n",
    "from scipy import signal\n",
    "import time\n",
    "import os"
   ]
  },
  {
   "cell_type": "code",
   "execution_count": 2,
   "metadata": {},
   "outputs": [
    {
     "data": {
      "text/html": [
       "<p><strong>Project:</strong> ptb7<br><strong>Root:</strong> /home/emilyepstein/projects/ptb7-itic/ptb7-project<br><strong>Workspace:</strong> /home/emilyepstein/projects/ptb7-itic/ptb7-project/workspace<br><strong>Size:</strong> 567</p><br/><strong>567</strong> job(s) found"
      ],
      "text/plain": [
       "Project.get_project('/home/emilyepstein/projects/ptb7-itic/ptb7-project')"
      ]
     },
     "execution_count": 2,
     "metadata": {},
     "output_type": "execute_result"
    }
   ],
   "source": [
    "ptb7_proj = signac.get_project(\"ptb7-project\")\n",
    "itic_proj = signac.get_project(\"ptb7-project\")\n",
    "ptb7_proj"
   ]
  },
  {
   "cell_type": "code",
   "execution_count": 3,
   "metadata": {},
   "outputs": [
    {
     "ename": "TypeError",
     "evalue": "'str' object is not callable",
     "output_type": "error",
     "traceback": [
      "\u001b[0;31m---------------------------------------------------------------------------\u001b[0m",
      "\u001b[0;31mTypeError\u001b[0m                                 Traceback (most recent call last)",
      "\u001b[0;32m<ipython-input-3-ff75156a85ff>\u001b[0m in \u001b[0;36m<module>\u001b[0;34m\u001b[0m\n\u001b[0;32m----> 1\u001b[0;31m \u001b[0;32mdef\u001b[0m \u001b[0mdata_analysis\u001b[0m\u001b[0;34m(\u001b[0m\u001b[0mjobs\u001b[0m\u001b[0;34m,\u001b[0m \u001b[0mfunction\u001b[0m \u001b[0;34m=\u001b[0m \u001b[0;34m'get_rdf_data'\u001b[0m\u001b[0;34m(\u001b[0m\u001b[0;34m)\u001b[0m\u001b[0;34m)\u001b[0m\u001b[0;34m:\u001b[0m\u001b[0;34m\u001b[0m\u001b[0;34m\u001b[0m\u001b[0m\n\u001b[0m\u001b[1;32m      2\u001b[0m     \u001b[0;32mfor\u001b[0m \u001b[0mjob\u001b[0m \u001b[0;32min\u001b[0m \u001b[0mjobs\u001b[0m\u001b[0;34m:\u001b[0m\u001b[0;34m\u001b[0m\u001b[0;34m\u001b[0m\u001b[0m\n\u001b[1;32m      3\u001b[0m         \u001b[0mjob_path\u001b[0m \u001b[0;34m=\u001b[0m \u001b[0mjob\u001b[0m\u001b[0;34m.\u001b[0m\u001b[0mworkspace\u001b[0m\u001b[0;34m(\u001b[0m\u001b[0;34m)\u001b[0m\u001b[0;34m\u001b[0m\u001b[0;34m\u001b[0m\u001b[0m\n\u001b[1;32m      4\u001b[0m         \u001b[0;32mif\u001b[0m \u001b[0;32mnot\u001b[0m \u001b[0mjob\u001b[0m\u001b[0;34m.\u001b[0m\u001b[0misfile\u001b[0m\u001b[0;34m(\u001b[0m\u001b[0;34m'rdf-data.txt'\u001b[0m\u001b[0;34m)\u001b[0m\u001b[0;34m:\u001b[0m\u001b[0;34m\u001b[0m\u001b[0;34m\u001b[0m\u001b[0m\n\u001b[1;32m      5\u001b[0m             \u001b[0mrdf_results\u001b[0m \u001b[0;34m=\u001b[0m \u001b[0mrdf_from_gsd\u001b[0m\u001b[0;34m(\u001b[0m\u001b[0mjob\u001b[0m\u001b[0;34m)\u001b[0m\u001b[0;34m\u001b[0m\u001b[0;34m\u001b[0m\u001b[0m\n",
      "\u001b[0;31mTypeError\u001b[0m: 'str' object is not callable"
     ]
    }
   ],
   "source": [
    "def data_analysis(jobs, function = 'get_rdf_data'()):\n",
    "    for job in jobs:\n",
    "        job_path = job.workspace()\n",
    "        if not job.isfile('rdf-data.txt'):\n",
    "            rdf_results = rdf_from_gsd(job) \n",
    "            txt_file = \"{}/rdf-data.txt\".format(job.workspace(), atom_types)\n",
    "            x = rdf.bin_centers\n",
    "            y = rdf.rdf\n",
    "            np.savetxt(gsd_file, np.transpose([x,y]), delimiter=',', header= \"bin_centers, rdf\")\n",
    "#the last 4 lines were originally in the next cell    "
   ]
  },
  {
   "cell_type": "code",
   "execution_count": 4,
   "metadata": {},
   "outputs": [],
   "source": [
    "state_dict = {\"size\":\"small\", \"process\":\"quench\"}\n",
    "\n",
    "job_list = ptb7_proj.find_jobs(state_dict)"
   ]
  },
  {
   "cell_type": "code",
   "execution_count": 6,
   "metadata": {},
   "outputs": [
    {
     "data": {
      "text/html": [
       "JobsCursor(project=Project.get_project('/home/emilyepstein/projects/ptb7-itic/ptb7-project'), filter={'size': 'small', 'process': 'quench'}, doc_filter=None)<br/><strong>292</strong> job(s) found"
      ],
      "text/plain": [
       "JobsCursor(project=Project.get_project('/home/emilyepstein/projects/ptb7-itic/ptb7-project'), filter={'size': 'small', 'process': 'quench'}, doc_filter=None)"
      ]
     },
     "execution_count": 6,
     "metadata": {},
     "output_type": "execute_result"
    }
   ],
   "source": [
    "job_list"
   ]
  },
  {
   "cell_type": "code",
   "execution_count": 27,
   "metadata": {},
   "outputs": [],
   "source": [
    "def atom_type_pos(frame, atom_types): \n",
    "    positions = []\n",
    "    for idx, type_id in enumerate(frame.particles.typeid):\n",
    "        if frame.particles.types[type_id] in atom_types:\n",
    "            positions.append(frame.particles.position[idx])\n",
    "    return positions\n",
    "\n",
    "\n",
    "def rdf_from_gsd(job, atom_types='all', r_max=5, r_min=0.5, nbins=50, start=95):\n",
    "    gsd_file = \"{}/trajectory.gsd\".format(job.workspace())\n",
    "    f = gsd.pygsd.GSDFile(open(gsd_file, \"rb\"))\n",
    "    trajectory = gsd.hoomd.HOOMDTrajectory(f)\n",
    "    \n",
    "    if r_max is None:\n",
    "        r_max = max(trajectory[-1].configuration.box[:3]) * 0.45\n",
    "    freud_rdf = freud.density.RDF(bins=nbins, r_max=r_max, r_min=r_min)\n",
    "    for frame in trajectory[start:]:\n",
    "        if atom_types == 'all':\n",
    "            freud_rdf.compute(frame, reset=False)\n",
    "        else:\n",
    "            query_points = atom_type_pos(frame, atom_types)\n",
    "            box = frame.configuration.box\n",
    "            freud_rdf.compute(system=(box, query_points), reset=False)\n",
    " \n",
    "    f.close()\n",
    "    return freud_rdf\n",
    "\n",
    "\n",
    "\n",
    "\n",
    "#we want to do\n",
    "#def rdf(job):\n",
    "#    calc rdf\n",
    "#    save to a text file\n",
    "#    save file in jobs workspace\n",
    "    \n",
    "    \n",
    "#def msd(job):\n",
    "#    slope using last x amount of steps\n",
    "#    save vale of slope to job state_point_dict\n"
   ]
  },
  {
   "cell_type": "code",
   "execution_count": 26,
   "metadata": {},
   "outputs": [],
   "source": [
    "def get_rdf_data(gsd_file, rdf_type):\n",
    "    data = np.genfromtxt(file, names=True, delimiter=',')\n",
    "    x = data['{}_x'.format(rdf_type)]\n",
    "    y = data['{}_y'.format(rdf_type)]\n",
    "    return x,y"
   ]
  },
  {
   "cell_type": "code",
   "execution_count": null,
   "metadata": {},
   "outputs": [],
   "source": []
  }
 ],
 "metadata": {
  "kernelspec": {
   "display_name": "Python 3",
   "language": "python",
   "name": "python3"
  },
  "language_info": {
   "codemirror_mode": {
    "name": "ipython",
    "version": 3
   },
   "file_extension": ".py",
   "mimetype": "text/x-python",
   "name": "python",
   "nbconvert_exporter": "python",
   "pygments_lexer": "ipython3",
   "version": "3.7.7"
  }
 },
 "nbformat": 4,
 "nbformat_minor": 4
}
