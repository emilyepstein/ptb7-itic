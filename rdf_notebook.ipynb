{
 "cells": [
  {
   "cell_type": "code",
   "execution_count": 1,
   "metadata": {},
   "outputs": [],
   "source": [
    "import signac\n",
    "import numpy as np\n",
    "import matplotlib as plt\n",
    "import freud\n",
    "import gsd\n",
    "import hoomd\n",
    "import gsd.pygsd\n",
    "import gsd.hoomd\n",
    "import scipy\n",
    "from scipy import signal\n",
    "import time\n",
    "import os"
   ]
  },
  {
   "cell_type": "code",
   "execution_count": 2,
   "metadata": {},
   "outputs": [
    {
     "data": {
      "text/html": [
       "<p><strong>Project:</strong> ptb7<br><strong>Root:</strong> /home/emilyepstein/projects/ptb7-itic/ptb7-project<br><strong>Workspace:</strong> /home/emilyepstein/projects/ptb7-itic/ptb7-project/workspace<br><strong>Size:</strong> 567</p><br/><strong>567</strong> job(s) found"
      ],
      "text/plain": [
       "Project.get_project('/home/emilyepstein/projects/ptb7-itic/ptb7-project')"
      ]
     },
     "execution_count": 2,
     "metadata": {},
     "output_type": "execute_result"
    }
   ],
   "source": [
    "ptb7_proj = signac.get_project(\"ptb7-project\")\n",
    "itic_proj = signac.get_project(\"ptb7-project\")\n",
    "ptb7_proj"
   ]
  },
  {
   "cell_type": "code",
   "execution_count": 3,
   "metadata": {},
   "outputs": [
    {
     "name": "stdout",
     "output_type": "stream",
     "text": [
      "{\n",
      " 'beats_cut': 'int([-9881, -9681, -9661, ..., -4000, -3800], 35)',\n",
      " 'density': 'float([0.6, 0.7, 0.8, ..., 1.15, 1.2], 11)',\n",
      " 'dt': 'float([0.001], 1)',\n",
      " 'e_factor': 'float([0.5], 1)',\n",
      " 'kT_reduced': 'float([0.8, 0.9, 1.0, ..., 2.3, 2.4], 17)',\n",
      " 'molecule': 'str([PTB7_10mer_smiles, PTB7_15mer_smiles, PTB7_5mer_smiles], 3)',\n",
      " 'n_compounds': 'int([66, 100, 132, ..., 1000, 2000], 9)',\n",
      " 'n_steps': 'float([10000000.0, 20000000.0, 23000000.0, ..., 100000000.0, 500000000.0], 27)',\n",
      " 'original_id': 'str([001d1416fedf98dea731e30b7d928762, 002969c1df9d89b2a01e0d396a12b8ea, 00f48f6b7d2d1c502a270b3025a51e5c, ..., ff9e18a2eab6f6742d7a3fc01374cf4f, ffb19d6519b8334b0747dad0568ed9ea], 560)',\n",
      " 'process': 'str([anneal, quench], 2)',\n",
      " 'remove_hydrogens': 'bool([True], 1)',\n",
      " 'save': 'str([false, true], 2)',\n",
      " 'size': 'str([large, medium, small], 3)',\n",
      " 'tau': 'int([1], 1)',\n",
      "}\n",
      "<bound method Project.detect_schema of Project.get_project('/home/emilyepstein/projects/ptb7-itic/ptb7-project')>\n"
     ]
    },
    {
     "ename": "TypeError",
     "evalue": "'NoneType' object is not subscriptable",
     "output_type": "error",
     "traceback": [
      "\u001b[0;31m---------------------------------------------------------------------------\u001b[0m",
      "\u001b[0;31mTypeError\u001b[0m                                 Traceback (most recent call last)",
      "\u001b[0;32m<ipython-input-3-f0b11b9bc738>\u001b[0m in \u001b[0;36m<module>\u001b[0;34m\u001b[0m\n\u001b[1;32m      1\u001b[0m \u001b[0mprint\u001b[0m\u001b[0;34m(\u001b[0m\u001b[0mptb7_proj\u001b[0m\u001b[0;34m.\u001b[0m\u001b[0mdetect_schema\u001b[0m\u001b[0;34m(\u001b[0m\u001b[0;34m)\u001b[0m\u001b[0;34m)\u001b[0m\u001b[0;34m\u001b[0m\u001b[0;34m\u001b[0m\u001b[0m\n\u001b[1;32m      2\u001b[0m \u001b[0;34m\u001b[0m\u001b[0m\n\u001b[0;32m----> 3\u001b[0;31m \u001b[0mprint\u001b[0m\u001b[0;34m(\u001b[0m\u001b[0mptb7_proj\u001b[0m\u001b[0;34m.\u001b[0m\u001b[0mdetect_schema\u001b[0m\u001b[0;34m)\u001b[0m\u001b[0;34m[\u001b[0m\u001b[0;34m'density'\u001b[0m\u001b[0;34m]\u001b[0m\u001b[0;34m\u001b[0m\u001b[0;34m\u001b[0m\u001b[0m\n\u001b[0m",
      "\u001b[0;31mTypeError\u001b[0m: 'NoneType' object is not subscriptable"
     ]
    }
   ],
   "source": [
    "print(ptb7_proj.detect_schema())\n",
    "\n",
    "print(ptb7_proj.detect_schema)['density']"
   ]
  },
  {
   "cell_type": "code",
   "execution_count": 4,
   "metadata": {},
   "outputs": [],
   "source": [
    "state_dict = {\"process\": \"quench\", \"size\": \"medium\"}\n",
    "\n",
    "#= {\"molecule\": \"PTB7_10mer_smiles\",  \n",
    "#   \"n_compounds\": 200,\n",
    "#   \"density\": 0.9,\n",
    "#   \"e_factor\": 0.5,\n",
    "#   \"kT_reduced\": 1.7,\n",
    "#   \"tau\": 1,\n",
    "#   \"n_steps\": 60000000.0,\n",
    "#   \"dt\": 0.001,\n",
    "#   \"original_id\": \"ecca9fd02b6f816abf804563103b7ef8\",\n",
    "#   \"process\": \"quench\",\n",
    "#   \"size\": \"medium\"}\n",
    "\n",
    "job_list = ptb7_proj.find_jobs(state_dict)"
   ]
  },
  {
   "cell_type": "code",
   "execution_count": 5,
   "metadata": {},
   "outputs": [
    {
     "data": {
      "text/html": [
       "JobsCursor(project=Project.get_project('/home/emilyepstein/projects/ptb7-itic/ptb7-project'), filter={'process': 'quench', 'size': 'medium'}, doc_filter=None)<br/><strong>120</strong> job(s) found"
      ],
      "text/plain": [
       "JobsCursor(project=Project.get_project('/home/emilyepstein/projects/ptb7-itic/ptb7-project'), filter={'process': 'quench', 'size': 'medium'}, doc_filter=None)"
      ]
     },
     "execution_count": 5,
     "metadata": {},
     "output_type": "execute_result"
    }
   ],
   "source": [
    "job_list\n",
    "\n"
   ]
  },
  {
   "cell_type": "code",
   "execution_count": 7,
   "metadata": {},
   "outputs": [
    {
     "name": "stdout",
     "output_type": "stream",
     "text": [
      "/home/emilyepstein/projects/ptb7-itic/ptb7-project/workspace/2ca11a0629e2a4180e303f29c9880bb6/trajectory.gsd\n"
     ]
    },
    {
     "ename": "PermissionError",
     "evalue": "[Errno 13] Permission denied: '/home/emilyepstein/projects/ptb7-itic/ptb7-project/workspace/2ca11a0629e2a4180e303f29c9880bb6/trajectory.gsd'",
     "output_type": "error",
     "traceback": [
      "\u001b[0;31m---------------------------------------------------------------------------\u001b[0m",
      "\u001b[0;31mPermissionError\u001b[0m                           Traceback (most recent call last)",
      "\u001b[0;32m<ipython-input-7-42292963922b>\u001b[0m in \u001b[0;36m<module>\u001b[0;34m\u001b[0m\n\u001b[1;32m      2\u001b[0m     \u001b[0mpath\u001b[0m \u001b[0;34m=\u001b[0m \u001b[0;34m(\u001b[0m\u001b[0mjob\u001b[0m\u001b[0;34m.\u001b[0m\u001b[0mfn\u001b[0m\u001b[0;34m(\u001b[0m\u001b[0;34m\"trajectory.gsd\"\u001b[0m\u001b[0;34m)\u001b[0m\u001b[0;34m)\u001b[0m\u001b[0;34m\u001b[0m\u001b[0;34m\u001b[0m\u001b[0m\n\u001b[1;32m      3\u001b[0m     \u001b[0mprint\u001b[0m\u001b[0;34m(\u001b[0m\u001b[0mpath\u001b[0m\u001b[0;34m)\u001b[0m\u001b[0;34m\u001b[0m\u001b[0;34m\u001b[0m\u001b[0m\n\u001b[0;32m----> 4\u001b[0;31m     \u001b[0mrdf_from_gsd\u001b[0m\u001b[0;34m(\u001b[0m\u001b[0mjob\u001b[0m\u001b[0;34m)\u001b[0m\u001b[0;34m\u001b[0m\u001b[0;34m\u001b[0m\u001b[0m\n\u001b[0m\u001b[1;32m      5\u001b[0m \u001b[0;34m\u001b[0m\u001b[0m\n",
      "\u001b[0;32m<ipython-input-6-52319bc3530b>\u001b[0m in \u001b[0;36mrdf_from_gsd\u001b[0;34m(job, atom_types, r_max, r_min, nbins, start)\u001b[0m\n\u001b[1;32m     26\u001b[0m         \u001b[0mx\u001b[0m \u001b[0;34m=\u001b[0m \u001b[0mfreud_rdf\u001b[0m\u001b[0;34m.\u001b[0m\u001b[0mbin_centers\u001b[0m\u001b[0;34m\u001b[0m\u001b[0;34m\u001b[0m\u001b[0m\n\u001b[1;32m     27\u001b[0m         \u001b[0my\u001b[0m \u001b[0;34m=\u001b[0m \u001b[0mfreud_rdf\u001b[0m\u001b[0;34m.\u001b[0m\u001b[0mrdf\u001b[0m\u001b[0;34m\u001b[0m\u001b[0;34m\u001b[0m\u001b[0m\n\u001b[0;32m---> 28\u001b[0;31m         \u001b[0mnp\u001b[0m\u001b[0;34m.\u001b[0m\u001b[0msavetxt\u001b[0m\u001b[0;34m(\u001b[0m\u001b[0mgsd_file\u001b[0m\u001b[0;34m,\u001b[0m \u001b[0mnp\u001b[0m\u001b[0;34m.\u001b[0m\u001b[0mtranspose\u001b[0m\u001b[0;34m(\u001b[0m\u001b[0;34m[\u001b[0m\u001b[0mx\u001b[0m\u001b[0;34m,\u001b[0m\u001b[0my\u001b[0m\u001b[0;34m]\u001b[0m\u001b[0;34m)\u001b[0m\u001b[0;34m,\u001b[0m \u001b[0mdelimiter\u001b[0m\u001b[0;34m=\u001b[0m\u001b[0;34m','\u001b[0m\u001b[0;34m,\u001b[0m \u001b[0mheader\u001b[0m\u001b[0;34m=\u001b[0m \u001b[0;34m\"bin_centers, rdf\"\u001b[0m\u001b[0;34m)\u001b[0m\u001b[0;34m\u001b[0m\u001b[0;34m\u001b[0m\u001b[0m\n\u001b[0m\u001b[1;32m     29\u001b[0m \u001b[0;34m\u001b[0m\u001b[0m\n\u001b[1;32m     30\u001b[0m \u001b[0;34m\u001b[0m\u001b[0m\n",
      "\u001b[0;32m<__array_function__ internals>\u001b[0m in \u001b[0;36msavetxt\u001b[0;34m(*args, **kwargs)\u001b[0m\n",
      "\u001b[0;32m~/miniconda3/envs/opv/lib/python3.7/site-packages/numpy/lib/npyio.py\u001b[0m in \u001b[0;36msavetxt\u001b[0;34m(fname, X, fmt, delimiter, newline, header, footer, comments, encoding)\u001b[0m\n\u001b[1;32m   1375\u001b[0m     \u001b[0;32mif\u001b[0m \u001b[0m_is_string_like\u001b[0m\u001b[0;34m(\u001b[0m\u001b[0mfname\u001b[0m\u001b[0;34m)\u001b[0m\u001b[0;34m:\u001b[0m\u001b[0;34m\u001b[0m\u001b[0;34m\u001b[0m\u001b[0m\n\u001b[1;32m   1376\u001b[0m         \u001b[0;31m# datasource doesn't support creating a new file ...\u001b[0m\u001b[0;34m\u001b[0m\u001b[0;34m\u001b[0m\u001b[0;34m\u001b[0m\u001b[0m\n\u001b[0;32m-> 1377\u001b[0;31m         \u001b[0mopen\u001b[0m\u001b[0;34m(\u001b[0m\u001b[0mfname\u001b[0m\u001b[0;34m,\u001b[0m \u001b[0;34m'wt'\u001b[0m\u001b[0;34m)\u001b[0m\u001b[0;34m.\u001b[0m\u001b[0mclose\u001b[0m\u001b[0;34m(\u001b[0m\u001b[0;34m)\u001b[0m\u001b[0;34m\u001b[0m\u001b[0;34m\u001b[0m\u001b[0m\n\u001b[0m\u001b[1;32m   1378\u001b[0m         \u001b[0mfh\u001b[0m \u001b[0;34m=\u001b[0m \u001b[0mnp\u001b[0m\u001b[0;34m.\u001b[0m\u001b[0mlib\u001b[0m\u001b[0;34m.\u001b[0m\u001b[0m_datasource\u001b[0m\u001b[0;34m.\u001b[0m\u001b[0mopen\u001b[0m\u001b[0;34m(\u001b[0m\u001b[0mfname\u001b[0m\u001b[0;34m,\u001b[0m \u001b[0;34m'wt'\u001b[0m\u001b[0;34m,\u001b[0m \u001b[0mencoding\u001b[0m\u001b[0;34m=\u001b[0m\u001b[0mencoding\u001b[0m\u001b[0;34m)\u001b[0m\u001b[0;34m\u001b[0m\u001b[0;34m\u001b[0m\u001b[0m\n\u001b[1;32m   1379\u001b[0m         \u001b[0mown_fh\u001b[0m \u001b[0;34m=\u001b[0m \u001b[0;32mTrue\u001b[0m\u001b[0;34m\u001b[0m\u001b[0;34m\u001b[0m\u001b[0m\n",
      "\u001b[0;31mPermissionError\u001b[0m: [Errno 13] Permission denied: '/home/emilyepstein/projects/ptb7-itic/ptb7-project/workspace/2ca11a0629e2a4180e303f29c9880bb6/trajectory.gsd'"
     ]
    }
   ],
   "source": [
    "for job in job_list:\n",
    "    path = (job.fn(\"trajectory.gsd\"))\n",
    "    print(path)\n",
    "    rdf_from_gsd(job)\n",
    "    "
   ]
  },
  {
   "cell_type": "code",
   "execution_count": null,
   "metadata": {},
   "outputs": [],
   "source": [
    "def data_analysis(jobs, function = get_rdf_data()):\n",
    "    for job in jobs:\n",
    "        job_path = job.workspace()\n",
    "        if not job.isfile('rdf-data.txt'):\n",
    "            rdf_results = rdf_from_gsd(job) \n",
    "            txt_file = \"{}/rdf-data.txt\".format(job.workspace())\n",
    "            x = rdf.bin_centers\n",
    "            y = rdf.rdf\n",
    "            np.savetxt(gsd_file, np.transpose([x,y]), delimiter=',', header= \"bin_centers, rdf\")\n",
    "#the last 4 lines were originally in the next cell    "
   ]
  },
  {
   "cell_type": "code",
   "execution_count": 6,
   "metadata": {},
   "outputs": [],
   "source": [
    "def atom_type_pos(frame, atom_types): \n",
    "    positions = []\n",
    "    for idx, type_id in enumerate(frame.particles.typeid):\n",
    "        if frame.particles.types[type_id] in atom_types:\n",
    "            positions.append(frame.particles.position[idx])\n",
    "    return positions\n",
    "\n",
    "\n",
    "def rdf_from_gsd(job, atom_types='ss', r_max=5, r_min=0.5, nbins=50, start=100):\n",
    "    gsd_file = \"{}/trajectory.gsd\".format(job.workspace())\n",
    "    f = gsd.pygsd.GSDFile(open(gsd_file, \"rb\"))\n",
    "    trajectory = gsd.hoomd.HOOMDTrajectory(f)\n",
    "    \n",
    "    if r_max is None:\n",
    "        r_max = max(trajectory[-1].configuration.box[:3]) * 0.45\n",
    "    freud_rdf = freud.density.RDF(bins=nbins, r_max=r_max, r_min=r_min)\n",
    "    for frame in trajectory[start:]:\n",
    "        if atom_types == 'all':\n",
    "            freud_rdf.compute(frame, reset=False)\n",
    "        else:\n",
    "            query_points = atom_type_pos(frame, atom_types)\n",
    "            box = frame.configuration.box\n",
    "            freud_rdf.compute(system=(box, query_points), reset=False)\n",
    " \n",
    "        txt_file = \"{}/rdf-data.txt\".format(job.workspace())\n",
    "        x = freud_rdf.bin_centers\n",
    "        y = freud_rdf.rdf\n",
    "        np.savetxt(gsd_file, np.transpose([x,y]), delimiter=',', header= \"bin_centers, rdf\")\n",
    "\n",
    "\n",
    "    f.close()\n",
    "    return freud_rdf\n",
    "\n",
    "\n",
    "\n",
    "\n",
    "#we want to do\n",
    "#def rdf(job):\n",
    "#    calc rdf\n",
    "#    save to a text file\n",
    "#    save file in jobs workspace\n",
    "    \n",
    "    \n",
    "#def msd(job):\n",
    "#    slope using last x amount of steps\n",
    "#    save vale of slope to job state_point_dict\n"
   ]
  },
  {
   "cell_type": "code",
   "execution_count": null,
   "metadata": {},
   "outputs": [],
   "source": [
    "def get_rdf_data(gsd_file, rdf_type):\n",
    "    data = np.genfromtxt(file, names=True, delimiter=',')\n",
    "    x = data['{}_x'.format(rdf_type)]\n",
    "    y = data['{}_y'.format(rdf_type)]\n",
    "    return x,y"
   ]
  },
  {
   "cell_type": "code",
   "execution_count": null,
   "metadata": {},
   "outputs": [],
   "source": []
  }
 ],
 "metadata": {
  "kernelspec": {
   "display_name": "Python 3",
   "language": "python",
   "name": "python3"
  },
  "language_info": {
   "codemirror_mode": {
    "name": "ipython",
    "version": 3
   },
   "file_extension": ".py",
   "mimetype": "text/x-python",
   "name": "python",
   "nbconvert_exporter": "python",
   "pygments_lexer": "ipython3",
   "version": "3.7.7"
  }
 },
 "nbformat": 4,
 "nbformat_minor": 4
}
