{
 "cells": [
  {
   "cell_type": "code",
   "execution_count": 2,
   "metadata": {},
   "outputs": [],
   "source": [
    "import numpy as np\n",
    "import matplotlib.pyplot as plt\n",
    "import freud\n",
    "import signac\n",
    "import gsd\n",
    "import hoomd\n",
    "import gsd.pygsd\n",
    "import gsd.hoomd\n",
    "import scipy\n",
    "from scipy import signal\n",
    "import time\n",
    "import os\n",
    "import cycler\n",
    "from scipy.stats import linregress\n",
    "from scipy.sparse import csr_matrix\n",
    "from scipy.sparse.csgraph import connected_components\n",
    "import cme_lab_utils\n",
    "from cme_lab_utils import gsd_utils"
   ]
  },
  {
   "cell_type": "code",
   "execution_count": 3,
   "metadata": {},
   "outputs": [],
   "source": [
    "ptb7_path = \"/home/emilyepstein/projects/ptb7-itic/ptb7-project/\"\n",
    "ptb7_project = signac.get_project(ptb7_path)"
   ]
  },
  {
   "cell_type": "code",
   "execution_count": 4,
   "metadata": {},
   "outputs": [],
   "source": [
    "state_dict={\"size\": \"small\", \n",
    "            \"process\": \"quench\",\n",
    "            \"density\":0.9,\n",
    "            \"molecule\":\"PTB7_5mer_smiles\"}\n",
    "\n",
    "job_list= ptb7_project.find_jobs(state_dict)"
   ]
  },
  {
   "cell_type": "code",
   "execution_count": 5,
   "metadata": {},
   "outputs": [],
   "source": [
    "def rdf_to_txt(job_list):\n",
    "    for job in job_list:\n",
    "        job_path = job.fn('trajectory.gsd')\n",
    "        A_name = \"ss\"\n",
    "        B_name = \"ss\"\n",
    "        rdf = gsd_utils.gsd_rdf(job_path, A_name, B_name, rmin=0.01, rmax=6)\n",
    "        '''gsd_utils.gsd_rdf is a function from cme_lab_utils that creates the RDF'''\n",
    "        x = rdf.bin_centers\n",
    "        y = rdf.rdf\n",
    "        filename = job.fn('{}-{}-uncorr-rdf-data.txt'.format(A_name[0], B_name[0]))\n",
    "        np.savetxt(filename, np.transpose([x,y]), delimiter=',', header= \"bin_centers, rdf\")\n",
    "        print(\".txt file created for job:\")\n",
    "        print(job)"
   ]
  },
  {
   "cell_type": "code",
   "execution_count": 6,
   "metadata": {},
   "outputs": [
    {
     "ename": "KeyboardInterrupt",
     "evalue": "",
     "output_type": "error",
     "traceback": [
      "\u001b[0;31m---------------------------------------------------------------------------\u001b[0m",
      "\u001b[0;31mKeyboardInterrupt\u001b[0m                         Traceback (most recent call last)",
      "\u001b[0;32m<ipython-input-6-a9eb7d735294>\u001b[0m in \u001b[0;36m<module>\u001b[0;34m\u001b[0m\n\u001b[0;32m----> 1\u001b[0;31m \u001b[0mrdf_to_txt\u001b[0m\u001b[0;34m(\u001b[0m\u001b[0mjob_list\u001b[0m\u001b[0;34m)\u001b[0m\u001b[0;34m\u001b[0m\u001b[0;34m\u001b[0m\u001b[0m\n\u001b[0m",
      "\u001b[0;32m<ipython-input-5-12ee25fd512b>\u001b[0m in \u001b[0;36mrdf_to_txt\u001b[0;34m(job_list)\u001b[0m\n\u001b[1;32m      4\u001b[0m         \u001b[0mA_name\u001b[0m \u001b[0;34m=\u001b[0m \u001b[0;34m\"ss\"\u001b[0m\u001b[0;34m\u001b[0m\u001b[0;34m\u001b[0m\u001b[0m\n\u001b[1;32m      5\u001b[0m         \u001b[0mB_name\u001b[0m \u001b[0;34m=\u001b[0m \u001b[0;34m\"ss\"\u001b[0m\u001b[0;34m\u001b[0m\u001b[0;34m\u001b[0m\u001b[0m\n\u001b[0;32m----> 6\u001b[0;31m         \u001b[0mrdf\u001b[0m \u001b[0;34m=\u001b[0m \u001b[0mgsd_utils\u001b[0m\u001b[0;34m.\u001b[0m\u001b[0mgsd_rdf\u001b[0m\u001b[0;34m(\u001b[0m\u001b[0mjob_path\u001b[0m\u001b[0;34m,\u001b[0m \u001b[0mA_name\u001b[0m\u001b[0;34m,\u001b[0m \u001b[0mB_name\u001b[0m\u001b[0;34m,\u001b[0m \u001b[0mrmin\u001b[0m\u001b[0;34m=\u001b[0m\u001b[0;36m0.01\u001b[0m\u001b[0;34m,\u001b[0m \u001b[0mrmax\u001b[0m\u001b[0;34m=\u001b[0m\u001b[0;36m6\u001b[0m\u001b[0;34m)\u001b[0m\u001b[0;34m\u001b[0m\u001b[0;34m\u001b[0m\u001b[0m\n\u001b[0m\u001b[1;32m      7\u001b[0m         \u001b[0;34m'''gsd_utils.gsd_rdf is a function from cme_lab_utils that creates the RDF'''\u001b[0m\u001b[0;34m\u001b[0m\u001b[0;34m\u001b[0m\u001b[0m\n\u001b[1;32m      8\u001b[0m         \u001b[0mx\u001b[0m \u001b[0;34m=\u001b[0m \u001b[0mrdf\u001b[0m\u001b[0;34m.\u001b[0m\u001b[0mbin_centers\u001b[0m\u001b[0;34m\u001b[0m\u001b[0;34m\u001b[0m\u001b[0m\n",
      "\u001b[0;32m~/cme_lab_utils/cme_lab_utils/gsd_utils.py\u001b[0m in \u001b[0;36mgsd_rdf\u001b[0;34m(gsdfile, A_name, B_name, start, stop, rmax, rmin, bins, exclude_bonded)\u001b[0m\n\u001b[1;32m    126\u001b[0m             \u001b[0msystem\u001b[0m \u001b[0;34m=\u001b[0m \u001b[0;34m(\u001b[0m\u001b[0mbox\u001b[0m\u001b[0;34m,\u001b[0m \u001b[0mA_pos\u001b[0m\u001b[0;34m)\u001b[0m\u001b[0;34m\u001b[0m\u001b[0;34m\u001b[0m\u001b[0m\n\u001b[1;32m    127\u001b[0m             \u001b[0maq\u001b[0m \u001b[0;34m=\u001b[0m \u001b[0mfreud\u001b[0m\u001b[0;34m.\u001b[0m\u001b[0mlocality\u001b[0m\u001b[0;34m.\u001b[0m\u001b[0mAABBQuery\u001b[0m\u001b[0;34m.\u001b[0m\u001b[0mfrom_system\u001b[0m\u001b[0;34m(\u001b[0m\u001b[0msystem\u001b[0m\u001b[0;34m)\u001b[0m\u001b[0;34m\u001b[0m\u001b[0;34m\u001b[0m\u001b[0m\n\u001b[0;32m--> 128\u001b[0;31m             \u001b[0mnlist\u001b[0m \u001b[0;34m=\u001b[0m \u001b[0maq\u001b[0m\u001b[0;34m.\u001b[0m\u001b[0mquery\u001b[0m\u001b[0;34m(\u001b[0m\u001b[0mB_pos\u001b[0m\u001b[0;34m,\u001b[0m \u001b[0;34m{\u001b[0m\u001b[0;34m\"r_max\"\u001b[0m\u001b[0;34m:\u001b[0m \u001b[0mrmax\u001b[0m\u001b[0;34m}\u001b[0m\u001b[0;34m)\u001b[0m\u001b[0;34m.\u001b[0m\u001b[0mtoNeighborList\u001b[0m\u001b[0;34m(\u001b[0m\u001b[0;34m)\u001b[0m\u001b[0;34m\u001b[0m\u001b[0;34m\u001b[0m\u001b[0m\n\u001b[0m\u001b[1;32m    129\u001b[0m \u001b[0;34m\u001b[0m\u001b[0m\n\u001b[1;32m    130\u001b[0m             \u001b[0;32mif\u001b[0m \u001b[0mexclude_bonded\u001b[0m\u001b[0;34m:\u001b[0m\u001b[0;34m\u001b[0m\u001b[0;34m\u001b[0m\u001b[0m\n",
      "\u001b[0;31mKeyboardInterrupt\u001b[0m: "
     ]
    }
   ],
   "source": [
    "rdf_to_txt(job_list)"
   ]
  },
  {
   "cell_type": "code",
   "execution_count": null,
   "metadata": {},
   "outputs": [],
   "source": [
    "#go to convo with mike on july 16th for atom type indexing"
   ]
  },
  {
   "cell_type": "code",
   "execution_count": 6,
   "metadata": {},
   "outputs": [],
   "source": [
    "def plot_txt(constant=\"den\"): \n",
    "    if constant == \"den\":\n",
    "        state_dict['density.$lt'] = 1.3\n",
    "        fig = plt.figure()\n",
    "        ax = plt.subplot(111)\n",
    "        color = plt.cm.coolwarm(np.linspace(0, 1, len(job_list)))\n",
    "        plt.rcParams['axes.prop_cycle'] = cycler.cycler('color', color)\n",
    "        for kT,job in job_list.groupby('kT_reduced'):\n",
    "            job = list(job)[0]\n",
    "            A_name = \"ss\"\n",
    "            B_name = \"ss\"\n",
    "            txt_path= job.fn('{}-{}-uncorr-rdf-data.txt'.format(A_name[0], B_name[0]))\n",
    "            line= np.genfromtxt(txt_path, names=True, delimiter=\",\")\n",
    "            x= line[\"bin_centers\"]\n",
    "            y= line[\"rdf\"]\n",
    "            plt.plot(x, y, label=kT)\n",
    "            plt.xlabel(\"r (A.U.)\")\n",
    "            plt.ylabel(\"g(r)\")\n",
    "            plt.title(\"%s and %s's at %sden\" % (A_name, B_name, job.sp['density']), fontsize=16)\n",
    "            plt.legend(bbox_to_anchor=(1.5, 1), ncol=2)\n",
    "    elif constant == \"temp\":\n",
    "        state_dict['kT_reduced.$lt'] = 2.5\n",
    "        fig = plt.figure()\n",
    "        ax = plt.subplot(111)\n",
    "        color = plt.cm.coolwarm(np.linspace(0, 1, len(job_list)))\n",
    "        plt.rcParams['axes.prop_cycle'] = cycler.cycler('color', color)\n",
    "        for den,job in job_list.groupby('density'):\n",
    "            job = list(job)[0]\n",
    "            A_name = \"ss\"\n",
    "            B_name = \"ss\"\n",
    "            txt_path= job.fn('{}-{}-uncorr-rdf-data.txt'.format(A_name[0], B_name[0]))\n",
    "            line= np.genfromtxt(txt_path, names=True, delimiter=\",\")\n",
    "            x= line[\"bin_centers\"]\n",
    "            y= line[\"rdf\"]\n",
    "            plt.plot(x, y, label=den)\n",
    "            plt.xlabel(\"r (A.U.)\")\n",
    "            plt.ylabel(\"g(r)\")\n",
    "            plt.title(\"%s and %s's at %sden\" % (A_name, B_name, job.sp['kT_reduced']), fontsize=16)\n",
    "            plt.legend(bbox_to_anchor=(1.5, 1), ncol=2)\n",
    "    else:\n",
    "        print(\"the variable constant must be temp or den\")"
   ]
  },
  {
   "cell_type": "code",
   "execution_count": null,
   "metadata": {},
   "outputs": [],
   "source": [
    "plot_txt(constant=\"temp\") \n",
    "#constant= \"den\" for density or \"temp\" for temperature"
   ]
  },
  {
   "cell_type": "code",
   "execution_count": null,
   "metadata": {},
   "outputs": [],
   "source": []
  },
  {
   "cell_type": "code",
   "execution_count": null,
   "metadata": {},
   "outputs": [],
   "source": []
  }
 ],
 "metadata": {
  "kernelspec": {
   "display_name": "Python 3",
   "language": "python",
   "name": "python3"
  },
  "language_info": {
   "codemirror_mode": {
    "name": "ipython",
    "version": 3
   },
   "file_extension": ".py",
   "mimetype": "text/x-python",
   "name": "python",
   "nbconvert_exporter": "python",
   "pygments_lexer": "ipython3",
   "version": "3.7.7"
  }
 },
 "nbformat": 4,
 "nbformat_minor": 4
}
