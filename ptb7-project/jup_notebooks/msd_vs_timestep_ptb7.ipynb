{
 "cells": [
  {
   "cell_type": "code",
   "execution_count": 1,
   "metadata": {},
   "outputs": [],
   "source": [
    "import freud\n",
    "import gsd\n",
    "import gsd.pygsd\n",
    "import gsd.hoomd\n",
    "import signac\n",
    "import numpy as np\n",
    "import matplotlib.pyplot as plt\n",
    "import matplotlib as mpl\n",
    "import cycler\n",
    "from scipy.stats import linregress\n",
    "import matplotlib.lines as mlines"
   ]
  },
  {
   "cell_type": "code",
   "execution_count": 2,
   "metadata": {},
   "outputs": [],
   "source": [
    "def atom_type_pos(snap, atom_type):\n",
    "    if not isinstance(atom_type, list):\n",
    "        atom_type = [atom_type]\n",
    "    positions = []\n",
    "    for atom in atom_type:\n",
    "        indices = np.where(snap.particles.typeid == snap.particles.types.index(atom))\n",
    "        positions.append(snap.particles.position[indices])\n",
    "    return np.concatenate(positions)\n",
    "\n",
    "def msd_from_gsd(gsdfile, start=-10, stop=-1, atom_type='ss', msd_mode = \"window\"):\n",
    "    f = gsd.pygsd.GSDFile(open(gsdfile, \"rb\"))\n",
    "    trajectory = gsd.hoomd.HOOMDTrajectory(f)\n",
    "    positions = []\n",
    "    for frame in trajectory[start:stop]:\n",
    "        if atom_type == 'all':\n",
    "            atom_positions = frame.particles.position[:]\n",
    "        else:\n",
    "            atom_positions = atom_type_pos(frame, atom_type)\n",
    "        positions.append(atom_positions)\n",
    "    msd = freud.msd.MSD(box=trajectory[-1].configuration.box, mode=msd_mode)\n",
    "    msd.compute(positions)\n",
    "    f.close()\n",
    "    return(msd.msd) # This is retruning an array of numbers (the y-axis on the msd plot)"
   ]
  },
  {
   "cell_type": "code",
   "execution_count": 3,
   "metadata": {},
   "outputs": [],
   "source": [
    "project = signac.get_project(\"ptb7-project\")\n",
    "\n",
    "\n",
    "state_dict = {\"size\": \"small\",\n",
    "              \"density\": 0.8,\n",
    "              \"process\": \"quench\",\n",
    "              \"molecule\": \"PTB7_5mer_smiles\",\n",
    "              \"kT_reduced\": 0.8}"
   ]
  },
  {
   "cell_type": "code",
   "execution_count": 4,
   "metadata": {},
   "outputs": [],
   "source": [
    "project = signac.get_project(\"ptb7-project\")"
   ]
  },
  {
   "cell_type": "code",
   "execution_count": 5,
   "metadata": {},
   "outputs": [],
   "source": [
    "def make_me_a_graph(state_dict = {\"size\": \"small\",\n",
    "                                  \"density\": 0.8,\n",
    "                                  \"process\": \"quench\",\n",
    "                                  \"molecule\": \"PTB7_5mer_smiles\",\n",
    "                                  \"kT_reduced\": 0.8}):\n",
    "\n",
    "    job_list = project.find_jobs(state_dict)\n",
    "    \n",
    "    fig = plt.figure()\n",
    "    ax = plt.subplot(111)\n",
    "    color = plt.cm.coolwarm(np.linspace(0, 1, len(job_list)))\n",
    "    mpl.rcParams['axes.prop_cycle'] = cycler.cycler('color', color)\n",
    "    \n",
    "    for kT,job in job_list.groupby('kT_reduced'):\n",
    "        job = list(job)[0]\n",
    "        tspf = job.sp['n_steps'] / 100\n",
    "        msd = msd_from_gsd(job.fn('trajectory.gsd'), atom_type='ss')\n",
    "        y = msd[-15:]\n",
    "        x = np.arange(0, len(y), 1) * tspf\n",
    "        plt.plot(x, y, label=job.sp['kT_reduced'], color='#735632')\n",
    "        slope, intercept, r_value, p_value, std_err = linregress(x, y)\n",
    "        plt.plot(x, x*slope + intercept, linestyle = 'dotted', color = '#de8110')\n",
    "        #plt.xlim(0, 6000)\n",
    "        \n",
    "    plt.title(\"MSD of PTB7 at %sden, %s kT\" % (job.sp['density'], job.sp['kT_reduced']))\n",
    "    plt.xlabel(\"timestep\", fontsize=14)\n",
    "    plt.ylabel(\"msd\", fontsize=14)\n",
    "\n",
    "    sline = mlines.Line2D([], [], color='#de8110', linestyle='dotted',\n",
    "                           label='slope of msd' )\n",
    "    msdline = mlines.Line2D([], [], color='#735632', linestyle='solid',\n",
    "                           label='msd of PTB7' )\n",
    "    ax.legend(loc='lower right', ncol=1, handles=[msdline, sline])\n",
    "\n",
    "    print(\"slope is:\")\n",
    "    print(\"%10.5e\"% slope)\n",
    "\n",
    "    plt.show()"
   ]
  },
  {
   "cell_type": "code",
   "execution_count": 6,
   "metadata": {},
   "outputs": [
    {
     "name": "stdout",
     "output_type": "stream",
     "text": [
      "slope is:\n",
      "1.45936e-06\n"
     ]
    },
    {
     "data": {
      "image/png": "[encoded data removed]",
      "text/plain": [
       "<Figure size 432x288 with 1 Axes>"
      ]
     },
     "metadata": {
      "needs_background": "light"
     },
     "output_type": "display_data"
    }
   ],
   "source": [
    "make_me_a_graph(state_dict = {\"size\": \"small\",\n",
    "                              \"density\": 0.8,\n",
    "                              \"process\": \"quench\",\n",
    "                              #\"molecule\": \"PTB7_5mer_smiles\",\n",
    "                              \"kT_reduced\": 0.8})\n",
    "#make_me_a_graph(state_dict = {\"size\": \"small\",\n",
    "#                              \"density\": 0.8,\n",
    "#                              \"process\": \"quench\",\n",
    "#                              \"molecule\": \"PTB7_5mer_smiles\",\n",
    "#                              \"kT_reduced\": 0.9})\n",
    "#make_me_a_graph(state_dict = {\"size\": \"small\",\n",
    "#                              \"density\": 0.8,\n",
    "#                              \"process\": \"quench\",\n",
    "#                              \"molecule\": \"PTB7_5mer_smiles\",\n",
    "#                              \"kT_reduced\": 1.0})\n",
    "#make_me_a_graph(state_dict = {\"size\": \"small\",\n",
    "#                              \"density\": 0.8,\n",
    "#                              \"process\": \"quench\",\n",
    "#                              \"molecule\": \"PTB7_5mer_smiles\",\n",
    "#                              \"kT_reduced\": 1.1})\n",
    "#make_me_a_graph(state_dict = {\"size\": \"small\",\n",
    "#                              \"density\": 0.8,\n",
    "#                              \"process\": \"quench\",\n",
    "#                              \"molecule\": \"PTB7_5mer_smiles\",\n",
    "#                              \"kT_reduced\": 1.2})"
   ]
  },
  {
   "cell_type": "code",
   "execution_count": 4,
   "metadata": {},
   "outputs": [],
   "source": [
    "def make_me_a_graph_mult(state_dict = {\"size\": \"small\",\n",
    "                                       \"density\": 0.8,\n",
    "                                       \"process\": \"quench\",\n",
    "                                       \"molecule\": \"PTB7_5mer_smiles\"}):\n",
    "\n",
    "    job_list = project.find_jobs(state_dict)\n",
    "    \n",
    "    fig = plt.figure()\n",
    "    ax = plt.subplot(111)\n",
    "    color = plt.cm.coolwarm(np.linspace(0, 1, len(job_list)))\n",
    "    mpl.rcParams['axes.prop_cycle'] = cycler.cycler('color', color)\n",
    "    print(job_list)\n",
    "    \n",
    "    for job in job_list:\n",
    "        msd = msd_from_gsd(job.fn('trajectory.gsd'), atom_type='ss')\n",
    "    \n",
    "    print(job_list)\n",
    "    \n",
    "    for kT,job in job_list.groupby('kT_reduced'):\n",
    "        job = list(job)[0]\n",
    "        tspf = job.sp['n_steps'] / 100\n",
    "        y = msd[-15:]\n",
    "        x = np.arange(0, len(y), 1) * tspf\n",
    "        plt.plot(x, y, label=job.sp['kT_reduced'], color='#735632')\n",
    "        slope, intercept, r_value, p_value, std_err = linregress(x, y)\n",
    "        plt.plot(x, x*slope + intercept, linestyle = 'dotted', color = '#de8110')\n",
    "        #plt.xlim(0, 6000)\n",
    "        \n",
    "    plt.title(\"MSD of PTB7 at %sden, %s kT\" % (job.sp['density'], job.sp['kT_reduced']))\n",
    "    plt.xlabel(\"timestep\", fontsize=14)\n",
    "    plt.ylabel(\"msd\", fontsize=14)\n",
    "\n",
    "    sline = mlines.Line2D([], [], color='#de8110', linestyle='dotted',\n",
    "                           label='slope of msd' )\n",
    "    msdline = mlines.Line2D([], [], color='#735632', linestyle='solid',\n",
    "                           label='msd of PTB7' )\n",
    "    ax.legend(loc='lower right', ncol=1, handles=[msdline, sline])\n",
    "\n",
    "    print(\"slope is:\")\n",
    "    print(\"%10.5e\"% slope)\n",
    "\n",
    "    plt.show()"
   ]
  },
  {
   "cell_type": "code",
   "execution_count": 5,
   "metadata": {},
   "outputs": [
    {
     "name": "stdout",
     "output_type": "stream",
     "text": [
      "JobsCursor(project=Project.get_project('/home/emilyepstein/projects/ptb7-itic/ptb7-project'), filter={'size': 'small', 'density': 0.8, 'process': 'quench', 'molecule': 'PTB7_5mer_smiles'}, doc_filter=None)\n",
      "JobsCursor(project=Project.get_project('/home/emilyepstein/projects/ptb7-itic/ptb7-project'), filter={'size': 'small', 'density': 0.8, 'process': 'quench', 'molecule': 'PTB7_5mer_smiles'}, doc_filter=None)\n",
      "slope is:\n",
      "5.51342e-05\n"
     ]
    },
    {
     "data": {
      "image/png": "[encoded data removed]",
      "text/plain": [
       "<Figure size 432x288 with 1 Axes>"
      ]
     },
     "metadata": {
      "needs_background": "light"
     },
     "output_type": "display_data"
    }
   ],
   "source": [
    "make_me_a_graph_mult(state_dict = {\"size\": \"small\",\n",
    "                                   \"density\": 0.8,\n",
    "                                   \"process\": \"quench\",\n",
    "                                   \"molecule\": \"PTB7_5mer_smiles\"})"
   ]
  },
  {
   "cell_type": "code",
   "execution_count": null,
   "metadata": {},
   "outputs": [],
   "source": []
  }
 ],
 "metadata": {
  "kernelspec": {
   "display_name": "Python 3",
   "language": "python",
   "name": "python3"
  },
  "language_info": {
   "codemirror_mode": {
    "name": "ipython",
    "version": 3
   },
   "file_extension": ".py",
   "mimetype": "text/x-python",
   "name": "python",
   "nbconvert_exporter": "python",
   "pygments_lexer": "ipython3",
   "version": "3.7.7"
  }
 },
 "nbformat": 4,
 "nbformat_minor": 4
}
