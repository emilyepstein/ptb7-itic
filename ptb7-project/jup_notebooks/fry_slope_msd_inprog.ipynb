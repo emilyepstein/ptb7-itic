{
 "cells": [
  {
   "cell_type": "code",
   "execution_count": 4,
   "metadata": {},
   "outputs": [],
   "source": [
    "import freud\n",
    "import gsd\n",
    "import gsd.pygsd\n",
    "import gsd.hoomd\n",
    "import signac\n",
    "import numpy as np\n",
    "import matplotlib.pyplot as plt\n",
    "import matplotlib as mpl\n",
    "import cycler\n",
    "from scipy.stats import linregress\n",
    "from matplotlib import cm\n",
    "from pylab import *\n",
    "from matplotlib.ticker import ScalarFormatter"
   ]
  },
  {
   "cell_type": "code",
   "execution_count": 27,
   "metadata": {},
   "outputs": [],
   "source": [
    "def atom_type_pos(snap, atom_type):\n",
    "    if not isinstance(atom_type, list):\n",
    "        atom_type = [atom_type]\n",
    "    positions = []\n",
    "    for atom in atom_type:\n",
    "        indices = np.where(snap.particles.typeid == snap.particles.types.index(atom))\n",
    "        positions.append(snap.particles.position[indices])\n",
    "    return np.concatenate(positions)\n",
    "\n",
    "def msd_from_gsd(gsdfile, start=-30, stop=-1, atom_type='ss', msd_mode = \"window\"):\n",
    "    f = gsd.pygsd.GSDFile(open(gsdfile, \"rb\"))\n",
    "    trajectory = gsd.hoomd.HOOMDTrajectory(f)\n",
    "    positions = []\n",
    "    for frame in trajectory[start:stop]:\n",
    "        if atom_type == 'all':\n",
    "            atom_positions = frame.particles.position[:]\n",
    "        else:\n",
    "            atom_positions = atom_type_pos(frame, atom_type)\n",
    "        positions.append(atom_positions)\n",
    "    msd = freud.msd.MSD(box=trajectory[-1].configuration.box, mode=msd_mode)\n",
    "    msd.compute(positions)\n",
    "    f.close()\n",
    "    return(msd.msd) # This is retruning an array of numbers (the y-axis on the msd plot)"
   ]
  },
  {
   "cell_type": "code",
   "execution_count": 28,
   "metadata": {},
   "outputs": [],
   "source": [
    "project = signac.get_project(\"ptb7-project\")"
   ]
  },
  {
   "cell_type": "code",
   "execution_count": 37,
   "metadata": {},
   "outputs": [],
   "source": [
    "state_dict = {'size': 'small', 'process': 'quench'}\n",
    "              #\"density\": 0.8, \"molecule\": \"PTB7_5mer_smiles\"}\n",
    "\n",
    "job_list = project.find_jobs(state_dict)\n",
    "for job in job_list:\n",
    "    msd = msd_from_gsd(job.fn('trajectory.gsd'))\n",
    "    tspf = job.sp['n_steps'] / 100\n",
    "    y = msd[-15:]\n",
    "    x = np.arange(0, len(y), 1) * tspf\n",
    "    slope, intercept, r_value, p_value, std_err = linregress(x, y)\n",
    "    job.doc['msd_slope'] = slope\n",
    "    job.doc['msd_slope_r2'] = r_value\n",
    "    #print(\"slope of\", job, \"is:\")\n",
    "    #print(slope)\n",
    "    "
   ]
  },
  {
   "cell_type": "code",
   "execution_count": 30,
   "metadata": {},
   "outputs": [],
   "source": [
    "def make_me_a_graph(state_dict):\n",
    "\n",
    "    job_list = project.find_jobs(state_dict)\n",
    "    \n",
    "    fig = plt.figure()\n",
    "    ax = plt.subplot(111)\n",
    "    state_dict['kT_reduced.$lt'] = 2.5\n",
    "    color = plt.cm.coolwarm(np.linspace(0, 1, len(job_list)))\n",
    "    \n",
    "    mpl.rcParams['axes.prop_cycle'] = plt.cycler('color', color)\n",
    "    \n",
    "    for length,job in job_list.groupby('molecule'):\n",
    "\n",
    "        \n",
    "        job = list(job)[0]\n",
    "        msd = msd_from_gsd(job.fn('trajectory.gsd'))\n",
    "        slope = job.doc['msd_slope']\n",
    "        x2=job.sp[\"kT_reduced\"]\n",
    "        y2=slope\n",
    "        plt.scatter(x2,y2, label=length)\n",
    "     \n",
    "       \n",
    "\n"
   ]
  },
  {
   "cell_type": "code",
   "execution_count": 34,
   "metadata": {},
   "outputs": [
    {
     "data": {
      "image/png": "[encoded data removed]",
      "text/plain": [
       "<Figure size 432x288 with 1 Axes>"
      ]
     },
     "metadata": {
      "needs_background": "light"
     },
     "output_type": "display_data"
    }
   ],
   "source": [
    "state_dict = {'size': 'small', 'process': 'quench', \"density\": 1.0}\n",
    "job_list = project.find_jobs(state_dict)\n",
    "fig = plt.figure()\n",
    "ax = plt.subplot(111)\n",
    "state_dict['kT_reduced.$lt'] = 2.5\n",
    "color = plt.cm.coolwarm(np.linspace(0, 3, len(job_list)))\n",
    "\n",
    "mpl.rcParams['axes.prop_cycle'] = plt.cycler('color', color)\n",
    "\n",
    "for temp,job in job_list.groupby('kT_reduced'):\n",
    "    job = list(job)[0]\n",
    "    msd = msd_from_gsd(job.fn('trajectory.gsd'))\n",
    "    slope = job.doc['msd_slope']\n",
    "    x2=job.sp[\"kT_reduced\"]\n",
    "    y2=slope\n",
    "    plt.ylim(0, 0.00002)\n",
    "    plt.scatter(x2,y2, label=temp)\n",
    "    ax.minorticks_on()\n",
    "    ax.tick_params(axis='both', which='both', direction='in', labelsize=10)\n",
    "    plt.ticklabel_format(style='sci', axis='y', scilimits=(0,0), useMathText=True)\n",
    "    \n",
    "if job.sp['molecule'] == \"PTB7_5mer_smiles\":\n",
    "    mol = \"5mer\"\n",
    "if job.sp['molecule'] == \"PTB7_10mer_smiles\":\n",
    "    mol = \"10mer\"\n",
    "if job.sp['molecule'] == \"PTB7_15mer_smiles\":\n",
    "    mol = \"15mer\"\n",
    "plt.title(\"Slope vs. Temp of PTB7 %s at %s density\" % (mol, job.sp['density']), fontsize=11.75 )\n",
    "plt.xlabel(\"Temperature(kT)\")\n",
    "plt.ylabel(\"Slope\")\n",
    "plt.show()"
   ]
  },
  {
   "cell_type": "code",
   "execution_count": 21,
   "metadata": {},
   "outputs": [
    {
     "ename": "SyntaxError",
     "evalue": "keyword argument repeated (<ipython-input-21-2a74613f452c>, line 2)",
     "output_type": "error",
     "traceback": [
      "\u001b[0;36m  File \u001b[0;32m\"<ipython-input-21-2a74613f452c>\"\u001b[0;36m, line \u001b[0;32m2\u001b[0m\n\u001b[0;31m    state_dict =({\"density\": 1.2, \"molecule\":\"PTB7_10mer_smiles\" }),\u001b[0m\n\u001b[0m    ^\u001b[0m\n\u001b[0;31mSyntaxError\u001b[0m\u001b[0;31m:\u001b[0m keyword argument repeated\n"
     ]
    }
   ],
   "source": [
    "make_me_a_graph(state_dict = ({\"density\": 1.2, \"molecule\":\"PTB7_5mer_smiles\" }),\n",
    "                state_dict =({\"density\": 1.2, \"molecule\":\"PTB7_10mer_smiles\" }),\n",
    "                state_dict =({\"density\": 1.2, \"molecule\":\"PTB7_15mer_smiles\" }))"
   ]
  },
  {
   "cell_type": "code",
   "execution_count": null,
   "metadata": {},
   "outputs": [],
   "source": [
    "make_me_a_graph(state_dict = {'size': 'small', 'process': 'quench', \n",
    "                              \"density\": 1.2, \"molecule\":\"PTB7_5mer_smiles\" })\n",
    "make_me_a_graph(state_dict = {'size': 'small', 'process': 'quench', \n",
    "                              \"density\": 1.2, \"molecule\":\"PTB7_10mer_smiles\" })\n",
    "make_me_a_graph(state_dict = {'size': 'small', 'process': 'quench', \n",
    "                              \"density\": 1.2, \"molecule\":\"PTB7_15mer_smiles\" })"
   ]
  },
  {
   "cell_type": "code",
   "execution_count": null,
   "metadata": {},
   "outputs": [],
   "source": [
    "#print(job.sp)"
   ]
  },
  {
   "cell_type": "code",
   "execution_count": null,
   "metadata": {},
   "outputs": [],
   "source": [
    "#counting # of jobs for scatter plot \n",
    "#for index,job in enumerate(job_list):    \n",
    "#    x2=job.sp[\"kT_reduced\"]\n",
    "#    y2=slope\n",
    "#    print(index, x2, y2)\n",
    "\n",
    "\n",
    "#to get hex from colormap\n",
    "#from pylab import *\n",
    "#cmap = cm.get_cmap('seismic', 17)    # PiYG\n",
    "#for i in range(cmap.N):\n",
    "#    rgb = cmap(i)[:3] # will return rgba, we take only first 3 so we get rgb\n",
    "#    print(matplotlib.colors.rgb2hex(rgb))"
   ]
  }
 ],
 "metadata": {
  "kernelspec": {
   "display_name": "Python 3",
   "language": "python",
   "name": "python3"
  },
  "language_info": {
   "codemirror_mode": {
    "name": "ipython",
    "version": 3
   },
   "file_extension": ".py",
   "mimetype": "text/x-python",
   "name": "python",
   "nbconvert_exporter": "python",
   "pygments_lexer": "ipython3",
   "version": "3.7.7"
  }
 },
 "nbformat": 4,
 "nbformat_minor": 4
}
