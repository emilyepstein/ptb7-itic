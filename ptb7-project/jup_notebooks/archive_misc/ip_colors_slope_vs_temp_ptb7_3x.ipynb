{
 "cells": [
  {
   "cell_type": "code",
   "execution_count": 1,
   "metadata": {},
   "outputs": [],
   "source": [
    "import freud\n",
    "import gsd\n",
    "import gsd.pygsd\n",
    "import gsd.hoomd\n",
    "import signac\n",
    "import numpy as np\n",
    "import matplotlib.pyplot as plt\n",
    "import matplotlib as mpl\n",
    "import cycler\n",
    "from scipy.stats import linregress\n",
    "from matplotlib import cm\n",
    "from pylab import *\n",
    "import matplotlib.lines as mlines"
   ]
  },
  {
   "cell_type": "code",
   "execution_count": 2,
   "metadata": {},
   "outputs": [],
   "source": [
    "def atom_type_pos(snap, atom_type):\n",
    "    if not isinstance(atom_type, list):\n",
    "        atom_type = [atom_type]\n",
    "    positions = []\n",
    "    for atom in atom_type:\n",
    "        indices = np.where(snap.particles.typeid == snap.particles.types.index(atom))\n",
    "        positions.append(snap.particles.position[indices])\n",
    "    return np.concatenate(positions)\n",
    "\n",
    "def msd_from_gsd(gsdfile, start=-30, stop=-1, atom_type='ss', msd_mode = \"window\"):\n",
    "    f = gsd.pygsd.GSDFile(open(gsdfile, \"rb\"))\n",
    "    trajectory = gsd.hoomd.HOOMDTrajectory(f)\n",
    "    positions = []\n",
    "    for frame in trajectory[start:stop]:\n",
    "        if atom_type == 'all':\n",
    "            atom_positions = frame.particles.position[:]\n",
    "        else:\n",
    "            atom_positions = atom_type_pos(frame, atom_type)\n",
    "        positions.append(atom_positions)\n",
    "    msd = freud.msd.MSD(box=trajectory[-1].configuration.box, mode=msd_mode)\n",
    "    msd.compute(positions)\n",
    "    f.close()\n",
    "    return(msd.msd) # This is retruning an array of numbers (the y-axis on the msd plot)"
   ]
  },
  {
   "cell_type": "code",
   "execution_count": null,
   "metadata": {},
   "outputs": [],
   "source": [
    "project = signac.get_project(\"ptb7-project\")"
   ]
  },
  {
   "cell_type": "code",
   "execution_count": null,
   "metadata": {},
   "outputs": [],
   "source": [
    "state_dict = {'size': 'small', 'process': 'quench'}\n",
    "\n",
    "job_list = project.find_jobs(state_dict)\n",
    "for job in job_list:\n",
    "    msd = msd_from_gsd(job.fn('trajectory.gsd'))\n",
    "    tspf = job.sp['n_steps'] / 100\n",
    "    y = msd[-15:]\n",
    "    x = np.arange(0, len(y), 1) * tspf\n",
    "    slope, intercept, r_value, p_value, std_err = linregress(x, y)\n",
    "    job.doc['msd_slope'] = slope\n",
    "    job.doc['msd_slope_r2'] = r_value\n",
    "    #print(\"slope of\", job, \"is:\")\n",
    "    #print(slope)"
   ]
  },
  {
   "cell_type": "code",
   "execution_count": 3,
   "metadata": {},
   "outputs": [
    {
     "data": {
      "image/png": "[encoded data removed]",
      "text/plain": [
       "<Figure size 432x288 with 1 Axes>"
      ]
     },
     "metadata": {
      "needs_background": "light"
     },
     "output_type": "display_data"
    }
   ],
   "source": [
    "project = signac.get_project(\"ptb7-project\")\n",
    "\n",
    "\n",
    "\n",
    "state_dict = {'size': 'small', 'process': 'quench', \n",
    "              \"density\": 1.2}\n",
    "\n",
    "\n",
    "job_list = project.find_jobs(state_dict)\n",
    "\n",
    "fig = plt.figure()\n",
    "ax = plt.subplot(111)\n",
    "state_dict['kT_reduced.$lt'] = 2.5\n",
    "color = plt.cm.coolwarm(np.linspace(0, 1, len(job_list)))\n",
    "\n",
    "#mpl.rcParams['axes.prop_cycle'] = plt.cycler('color', color)\n",
    "#col = np.arange(17)\n",
    "   \n",
    "for temp,job in enumerate(job_list):\n",
    "    \n",
    "    msd = msd_from_gsd(job.fn('trajectory.gsd'))\n",
    "    slope = job.doc['msd_slope']\n",
    "    x2=job.sp[\"kT_reduced\"]\n",
    "    y2=slope\n",
    "    mark = \"x\"\n",
    "    #print(job.sp)\n",
    "    if job.sp[\"molecule\"] == 'PTB7_5mer_smiles':\n",
    "        mark = \"x\"\n",
    "        col = ['#000000']\n",
    "    if job.sp[\"molecule\"] == 'PTB7_10mer_smiles':\n",
    "        mark = \"v\"\n",
    "        col = ['#f59b1d']\n",
    "    if job.sp[\"molecule\"] == 'PTB7_15mer_smiles':\n",
    "        mark = \"o\"\n",
    "        col = ['#9e2828']\n",
    "\n",
    "    plt.scatter(x2,y2, label=temp, marker=mark, c =col)#, marker=mpl.markers)\n",
    "    plt.minorticks_on()\n",
    "    plt.tick_params(axis='both', which='both', direction='in')\n",
    "    plt.ylim(0, 0.00002)\n",
    "plt.title('Slope vs. Temp of %s density' % (job.sp['density']))\n",
    "plt.xlabel('Temperature (kT)')\n",
    "plt.ylabel('Slope')\n",
    "\n",
    "mer_5 = mlines.Line2D([], [], color='#000000', marker='x', linestyle='None',\n",
    "                      label='5mer')\n",
    "mer_10 = mlines.Line2D([], [], color='#f59b1d', marker='v', linestyle='None',\n",
    "                       label='10mer')\n",
    "mer_15 = mlines.Line2D([], [], color='#9e2828', marker='o', linestyle='None',\n",
    "                       label='15mer')\n",
    "\n",
    "plt.legend(handles=[mer_5, mer_10, mer_15], loc=\"upper left\")\n",
    "\n",
    "plt.show()\n"
   ]
  },
  {
   "cell_type": "code",
   "execution_count": 4,
   "metadata": {},
   "outputs": [],
   "source": [
    "project = signac.get_project(\"ptb7-project\")"
   ]
  },
  {
   "cell_type": "code",
   "execution_count": 87,
   "metadata": {},
   "outputs": [],
   "source": [
    "def make_graph(state_dict = {\"size\": \"small\",\n",
    "                             \"process\": \"quench\",\n",
    "                             \"density\": 1.2}):\n",
    "\n",
    "    job_list = project.find_jobs(state_dict)\n",
    "\n",
    "    fig = plt.figure()\n",
    "    ax = plt.subplot(111)\n",
    "    state_dict['kT_reduced.$lt'] = 2.5\n",
    "    color = plt.cm.YlOrBr(np.linspace(0.4, 1, len(job_list)))\n",
    "\n",
    "    mpl.rcParams['axes.prop_cycle'] = plt.cycler('color', color)\n",
    "    col = np.arange(1)\n",
    "\n",
    "    #for job in job_list:\n",
    "    for temp,job in enumerate(job_list):\n",
    "        jobs = list(job_list)\n",
    "        msd = msd_from_gsd(job.fn('trajectory.gsd'))\n",
    "        slope = job.doc['msd_slope']\n",
    "        x2=job.sp[\"kT_reduced\"]\n",
    "        y2=slope\n",
    "        #print(job.sp)\n",
    "        if job.sp[\"molecule\"] == 'PTB7_5mer_smiles':\n",
    "            mark = \"x\"\n",
    "            #col = ['#000000']\n",
    "        if job.sp[\"molecule\"] == 'PTB7_10mer_smiles':\n",
    "            mark = \"v\"\n",
    "            #col = ['#f59b1d']\n",
    "        if job.sp[\"molecule\"] == 'PTB7_15mer_smiles':\n",
    "            mark = \"o\"\n",
    "            #col = ['#9e2828']\n",
    "        plt.scatter(x2,y2, label=temp, marker=mark, c = col)#, marker=mpl.markers)\n",
    "        plt.minorticks_on()\n",
    "        plt.tick_params(axis='both', which='both', direction='in')\n",
    "        plt.ylim(0, 0.000025)\n",
    "    plt.title('Slope vs. Temp of %s density' % (job.sp['density']))\n",
    "    plt.xlabel('Temperature (kT)')\n",
    "    plt.ylabel('Slope')\n",
    "\n",
    "    mer_5 = mlines.Line2D([], [], color='#000000', marker='x', linestyle='None',\n",
    "                          label='5mer')\n",
    "    mer_10 = mlines.Line2D([], [], color='#f59b1d', marker='v', linestyle='None',\n",
    "                           label='10mer')\n",
    "    mer_15 = mlines.Line2D([], [], color='#9e2828', marker='o', linestyle='None',\n",
    "                           label='15mer')\n",
    "\n",
    "    #plt.legend(handles=[mer_5, mer_10, mer_15], loc=\"upper left\")\n",
    "\n",
    "    plt.show()\n",
    "\n"
   ]
  },
  {
   "cell_type": "code",
   "execution_count": 88,
   "metadata": {},
   "outputs": [
    {
     "data": {
      "image/png": "[encoded data removed]",
      "text/plain": [
       "<Figure size 432x288 with 1 Axes>"
      ]
     },
     "metadata": {
      "needs_background": "light"
     },
     "output_type": "display_data"
    }
   ],
   "source": [
    "make_graph(state_dict = {\"size\": \"small\",\n",
    "                         \"process\": \"quench\",\n",
    "                         \"density\": 0.8})\n",
    "#make_graph(state_dict = {\"size\": \"small\",\n",
    "#                         \"process\": \"quench\",\n",
    "#                         \"density\": 0.9})\n",
    "#make_graph(state_dict = {\"size\": \"small\",\n",
    "#                         \"process\": \"quench\",\n",
    "#                         \"density\": 1.0})\n",
    "#make_graph(state_dict = {\"size\": \"small\",\n",
    "#                         \"process\": \"quench\",\n",
    "#                         \"density\": 1.1})\n",
    "#make_graph(state_dict = {\"size\": \"small\",\n",
    "#                         \"process\": \"quench\",\n",
    "#                         \"density\": 1.2})"
   ]
  },
  {
   "cell_type": "code",
   "execution_count": null,
   "metadata": {},
   "outputs": [],
   "source": []
  }
 ],
 "metadata": {
  "kernelspec": {
   "display_name": "Python 3",
   "language": "python",
   "name": "python3"
  },
  "language_info": {
   "codemirror_mode": {
    "name": "ipython",
    "version": 3
   },
   "file_extension": ".py",
   "mimetype": "text/x-python",
   "name": "python",
   "nbconvert_exporter": "python",
   "pygments_lexer": "ipython3",
   "version": "3.7.7"
  }
 },
 "nbformat": 4,
 "nbformat_minor": 4
}
