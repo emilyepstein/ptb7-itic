{
 "cells": [
  {
   "cell_type": "code",
   "execution_count": 10,
   "metadata": {},
   "outputs": [],
   "source": [
    "import freud\n",
    "import gsd\n",
    "import gsd.pygsd\n",
    "import gsd.hoomd\n",
    "import signac\n",
    "import numpy as np\n",
    "import matplotlib.pyplot as plt\n",
    "import matplotlib as mpl\n",
    "import cycler\n",
    "from scipy.stats import linregress\n",
    "from matplotlib import cm\n",
    "from pylab import *\n",
    "from matplotlib.ticker import ScalarFormatter"
   ]
  },
  {
   "cell_type": "code",
   "execution_count": 2,
   "metadata": {},
   "outputs": [],
   "source": [
    "def atom_type_pos(snap, atom_type):\n",
    "    if not isinstance(atom_type, list):\n",
    "        atom_type = [atom_type]\n",
    "    positions = []\n",
    "    for atom in atom_type:\n",
    "        indices = np.where(snap.particles.typeid == snap.particles.types.index(atom))\n",
    "        positions.append(snap.particles.position[indices])\n",
    "    return np.concatenate(positions)\n",
    "\n",
    "def msd_from_gsd(gsdfile, start=-10, stop=-1, atom_type='ss', msd_mode = \"window\"):\n",
    "    f = gsd.pygsd.GSDFile(open(gsdfile, \"rb\"))\n",
    "    trajectory = gsd.hoomd.HOOMDTrajectory(f)\n",
    "    positions = []\n",
    "    for frame in trajectory[start:stop]:\n",
    "        if atom_type == 'all':\n",
    "            atom_positions = frame.particles.position[:]\n",
    "        else:\n",
    "            atom_positions = atom_type_pos(frame, atom_type)\n",
    "        positions.append(atom_positions)\n",
    "    msd = freud.msd.MSD(box=trajectory[-1].configuration.box, mode=msd_mode)\n",
    "    msd.compute(positions)\n",
    "    f.close()\n",
    "    return(msd.msd) # This is retruning an array of numbers (the y-axis on the msd plot)"
   ]
  },
  {
   "cell_type": "code",
   "execution_count": 3,
   "metadata": {},
   "outputs": [],
   "source": [
    "project = signac.get_project(\"ptb7-project\")"
   ]
  },
  {
   "cell_type": "code",
   "execution_count": 4,
   "metadata": {},
   "outputs": [
    {
     "name": "stdout",
     "output_type": "stream",
     "text": [
      "slope of f53993e769f03f88ae907622563e820d is:\n",
      "7.344823113916994e-05\n",
      "slope of 967ae38150f77f26fc3774a0076ea59e is:\n",
      "3.176175202791891e-05\n",
      "slope of 6b2674efa6329abc28e375b9dbf81840 is:\n",
      "4.695014304437832e-06\n",
      "slope of f2e48e3760cf2c65a3a5e540d857bdfa is:\n",
      "8.554439116030017e-05\n",
      "slope of 2733adb9aa821cd2436a9b0dc75b1e2f is:\n",
      "0.00010938007395923246\n",
      "slope of 480cf2a072270413758efb6e2c00a611 is:\n",
      "2.3265504438906994e-06\n",
      "slope of 230372d489c899de62fe688441ea44b1 is:\n",
      "0.00011341371635408993\n",
      "slope of 970c986cbb6d270a87945b300640e00d is:\n",
      "0.00012275916447296648\n",
      "slope of 73dca9323b578fb6d98ea75453f516b2 is:\n",
      "7.055210221623218e-06\n",
      "slope of d0859f679a2b541ff81392d0458a3bd9 is:\n",
      "9.487477611195019e-05\n",
      "slope of 4ec2bd8bf6ba578cc9f26e39ba6f4524 is:\n",
      "4.186271606369952e-06\n",
      "slope of 95eb6b57530bc5bb6c89243047a24a06 is:\n",
      "1.130399952431291e-05\n",
      "slope of 75ea4012903d3df812808b1e4e44c11c is:\n",
      "0.00011133204423564531\n",
      "slope of 659ce11e054e62d31400032303010b70 is:\n",
      "3.943428677641936e-06\n",
      "slope of e9ec6ec6584a0e88c79147b9a0e5ab42 is:\n",
      "6.828264092634597e-05\n",
      "slope of 55acc6f7e4c3bc00820221a4152c4ba7 is:\n",
      "5.51341953448192e-05\n",
      "slope of 36a213478233a2dc99c7d32986de1a27 is:\n",
      "4.731208607624707e-05\n"
     ]
    }
   ],
   "source": [
    "state_dict = {'size': 'small', 'process': 'quench', \n",
    "              \"density\": 0.8, \"molecule\": \"PTB7_5mer_smiles\"}\n",
    "\n",
    "job_list = project.find_jobs(state_dict)\n",
    "for job in job_list:\n",
    "    msd = msd_from_gsd(job.fn('trajectory.gsd'))\n",
    "    tspf = job.sp['n_steps'] / 100\n",
    "    y = msd[-15:]\n",
    "    x = np.arange(0, len(y), 1) * tspf\n",
    "    slope, intercept, r_value, p_value, std_err = linregress(x, y)\n",
    "    job.doc['msd_slope'] = slope\n",
    "    job.doc['msd_slope_r2'] = r_value\n",
    "    print(\"slope of\", job, \"is:\")\n",
    "    print(slope)"
   ]
  },
  {
   "cell_type": "code",
   "execution_count": 9,
   "metadata": {
    "scrolled": true
   },
   "outputs": [
    {
     "data": {
      "image/png": "[encoded data removed]",
      "text/plain": [
       "<Figure size 432x288 with 1 Axes>"
      ]
     },
     "metadata": {
      "needs_background": "light"
     },
     "output_type": "display_data"
    }
   ],
   "source": [
    "state_dict = {'size': 'small', 'process': 'quench', \"density\": 1.0, \"molecule\":\"PTB7_5mer_smiles\" }\n",
    "job_list = project.find_jobs(state_dict)\n",
    "fig = plt.figure()\n",
    "ax = plt.subplot(111)\n",
    "state_dict['kT_reduced.$lt'] = 2.5\n",
    "color = plt.cm.coolwarm(np.linspace(0, 1, len(job_list)))\n",
    "\n",
    "mpl.rcParams['axes.prop_cycle'] = plt.cycler('color', color)\n",
    "\n",
    "for temp,job in job_list.groupby('kT_reduced'):\n",
    "    job = list(job)[0]\n",
    "    msd = msd_from_gsd(job.fn('trajectory.gsd'))\n",
    "    slope = job.doc['msd_slope']\n",
    "    x2=job.sp[\"kT_reduced\"]\n",
    "    y2=slope\n",
    "    plt.ylim(0, 0.00014)\n",
    "    plt.scatter(x2,y2, label=temp)\n",
    "    ax.minorticks_on()\n",
    "    ax.tick_params(axis='both', which='both', direction='in', labelsize=10)\n",
    "    plt.ticklabel_format(style='sci', axis='y', scilimits=(0,0), useMathText=True)\n",
    "    \n",
    "if job.sp['molecule'] == \"PTB7_5mer_smiles\":\n",
    "    mol = \"5mer\"\n",
    "if job.sp['molecule'] == \"PTB7_10mer_smiles\":\n",
    "    mol = \"10mer\"\n",
    "if job.sp['molecule'] == \"PTB7_15mer_smiles\":\n",
    "    mol = \"15mer\"\n",
    "plt.title(\"Slope vs. Temp of PTB7 %s at %s density\" % (mol, job.sp['density']), fontsize=11.75 )\n",
    "plt.xlabel(\"Temperature(kT)\")\n",
    "plt.ylabel(\"Slope\")\n",
    "plt.show()"
   ]
  },
  {
   "cell_type": "code",
   "execution_count": 11,
   "metadata": {},
   "outputs": [],
   "source": [
    "def make_me_a_graph(state_dict):\n",
    "    \n",
    "    state_dict = {'size': 'small', 'process': 'quench', \"density\": 1.0, \"molecule\":\"PTB7_5mer_smiles\" }\n",
    "    job_list = project.find_jobs(state_dict)\n",
    "    fig = plt.figure()\n",
    "    ax = plt.subplot(111)\n",
    "    state_dict['kT_reduced.$lt'] = 2.5\n",
    "    color = plt.cm.coolwarm(np.linspace(0, 1, len(job_list)))\n",
    "\n",
    "    mpl.rcParams['axes.prop_cycle'] = plt.cycler('color', color)\n",
    "\n",
    "    for temp,job in job_list.groupby('kT_reduced'):\n",
    "        job = list(job)[0]\n",
    "        msd = msd_from_gsd(job.fn('trajectory.gsd'))\n",
    "        slope = job.doc['msd_slope']\n",
    "        x2=job.sp[\"kT_reduced\"]\n",
    "        y2=slope\n",
    "        plt.ylim(0, 0.00014)\n",
    "        plt.scatter(x2,y2, label=temp)\n",
    "        ax.minorticks_on()\n",
    "        ax.tick_params(axis='both', which='both', direction='in', labelsize=10)\n",
    "        plt.ticklabel_format(style='sci', axis='y', scilimits=(0,0), useMathText=True)\n",
    "\n",
    "    if job.sp['molecule'] == \"PTB7_5mer_smiles\":\n",
    "        mol = \"5mer\"\n",
    "    if job.sp['molecule'] == \"PTB7_10mer_smiles\":\n",
    "        mol = \"10mer\"\n",
    "    if job.sp['molecule'] == \"PTB7_15mer_smiles\":\n",
    "        mol = \"15mer\"\n",
    "    plt.title(\"Slope vs. Temp of PTB7 %s at %s density\" % (mol, job.sp['density']), fontsize=11.75 )\n",
    "    plt.xlabel(\"Temperature(kT)\")\n",
    "    plt.ylabel(\"Slope\")\n",
    "    plt.show() \n",
    "    "
   ]
  },
  {
   "cell_type": "code",
   "execution_count": 13,
   "metadata": {},
   "outputs": [
    {
     "data": {
      "image/png": "[encoded data removed]",
      "text/plain": [
       "<Figure size 432x288 with 1 Axes>"
      ]
     },
     "metadata": {
      "needs_background": "light"
     },
     "output_type": "display_data"
    }
   ],
   "source": [
    "make_me_a_graph(state_dict = {'size': 'small', 'process': 'quench', \n",
    "                              \"density\": 1.2, \"molecule\":\"PTB7_5mer_smiles\" })"
   ]
  },
  {
   "cell_type": "code",
   "execution_count": null,
   "metadata": {},
   "outputs": [],
   "source": [
    "#project = signac.get_project(\"ptb7-project\")\n",
    "#\n",
    "#state_dict = {'size': 'small', 'process': 'quench', \n",
    "#              \"density\": 1.0, \"molecule\": \"PTB7_15mer_smiles\"}\n",
    "#\n",
    "#job_list = project.find_jobs(state_dict)\n",
    "#   \n",
    "#for job in job_list:\n",
    "#    msd = msd_from_gsd(job.fn('trajectory.gsd'))\n",
    "#    slope = job.doc['msd_slope']\n",
    "#    x2=job.sp[\"kT_reduced\"]\n",
    "#    y2=slope\n",
    "#    if x2 == 0.8: \n",
    "#        col = ['#00004c']\n",
    "#    if x2 == 0.9: \n",
    "#        col = ['#000079']\n",
    "#    if x2 == 1.0: \n",
    "#        col = ['#0000a6']\n",
    "#    if x2 == 1.1: \n",
    "#        col = ['#0000d2']\n",
    "#    if x2 == 1.2: \n",
    "#        col = ['#0000ff']\n",
    "#    if x2 == 1.3: \n",
    "#        col = ['#4040ff']\n",
    "#    if x2 == 1.4: \n",
    "#        col = ['#8080ff']\n",
    "#    if x2 == 1.5: \n",
    "#        col = ['#bfbfff']\n",
    "#    if x2 == 1.6: \n",
    "#        col = ['#dbd9d9']\n",
    "#    if x2 == 1.7: \n",
    "#        col = ['#ffbfbf']\n",
    "#    if x2 == 1.8: \n",
    "#        col = ['#ff8080']\n",
    "#    if x2 == 1.9: \n",
    "#        col = ['#ff4040']\n",
    "#    if x2 == 2.0: \n",
    "#        col = ['#ff0000']\n",
    "#    if x2 == 2.1: \n",
    "#        col = ['#df0000']\n",
    "#    if x2 == 2.2: \n",
    "#        col = ['#bf0000']\n",
    "#    if x2 == 2.3: \n",
    "#        col = ['#9f0000']\n",
    "#    if x2 == 2.4: \n",
    "#        col = ['#800000']\n",
    "#    #plt.ylim(0, 35.0)\n",
    "#    plt.scatter(x2,y2, color = col)#, label=slope)\n",
    "#plt.ticklabel_format(style='sci', axis='y', scilimits=(0,0))\n",
    "#plt.minorticks_on()\n",
    "#plt.tick_params(axis='both', which='both', direction='in')\n",
    "#plt.title('Slope vs. Temp of 1.0 density for 15mer')\n",
    "#plt.xlabel('Temperature (kT)',)\n",
    "#plt.ylabel('Slope')\n",
    "##plt.legend()\n",
    "#plt.show()\n",
    "#"
   ]
  },
  {
   "cell_type": "code",
   "execution_count": null,
   "metadata": {},
   "outputs": [],
   "source": [
    "#print(job.sp)"
   ]
  },
  {
   "cell_type": "code",
   "execution_count": null,
   "metadata": {},
   "outputs": [],
   "source": [
    "#counting # of jobs for scatter plot \n",
    "#for index,job in enumerate(job_list):    \n",
    "#    x2=job.sp[\"kT_reduced\"]\n",
    "#    y2=slope\n",
    "#    print(index, x2, y2)\n",
    "\n",
    "\n",
    "#to get hex from colormap\n",
    "#from pylab import *\n",
    "#cmap = cm.get_cmap('seismic', 17)    # PiYG\n",
    "#for i in range(cmap.N):\n",
    "#    rgb = cmap(i)[:3] # will return rgba, we take only first 3 so we get rgb\n",
    "#    print(matplotlib.colors.rgb2hex(rgb))"
   ]
  }
 ],
 "metadata": {
  "kernelspec": {
   "display_name": "Python 3",
   "language": "python",
   "name": "python3"
  },
  "language_info": {
   "codemirror_mode": {
    "name": "ipython",
    "version": 3
   },
   "file_extension": ".py",
   "mimetype": "text/x-python",
   "name": "python",
   "nbconvert_exporter": "python",
   "pygments_lexer": "ipython3",
   "version": "3.7.7"
  }
 },
 "nbformat": 4,
 "nbformat_minor": 4
}
