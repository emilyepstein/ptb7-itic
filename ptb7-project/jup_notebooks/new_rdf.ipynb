{
 "cells": [
  {
   "cell_type": "code",
   "execution_count": 1,
   "metadata": {},
   "outputs": [],
   "source": [
    "import numpy as np\n",
    "import matplotlib.pyplot as plt\n",
    "import freud\n",
    "import signac\n",
    "import gsd\n",
    "import hoomd\n",
    "import gsd.pygsd\n",
    "import gsd.hoomd\n",
    "import scipy\n",
    "from scipy import signal\n",
    "import time\n",
    "import os\n",
    "from scipy.stats import linregress\n",
    "from scipy.sparse import csr_matrix\n",
    "from scipy.sparse.csgraph import connected_components"
   ]
  },
  {
   "cell_type": "code",
   "execution_count": 2,
   "metadata": {},
   "outputs": [],
   "source": [
    "data_path = \"/home/erjank_project/ptb7-project/workspace\"\n",
    "\n",
    "project = signac.get_project(data_path)"
   ]
  },
  {
   "cell_type": "code",
   "execution_count": 3,
   "metadata": {},
   "outputs": [],
   "source": [
    "state_dict = {\"molecule\": \"PTB7_5mer_smiles\",\n",
    "              \"size\":\"medium\",\n",
    "              \"process\":\"quench\",\n",
    "              \"density\": 0.9,\n",
    "              \"kT_reduced\": 1.7}\n",
    "\n",
    "job_list = project.find_jobs(state_dict)"
   ]
  },
  {
   "cell_type": "code",
   "execution_count": 4,
   "metadata": {},
   "outputs": [
    {
     "name": "stdout",
     "output_type": "stream",
     "text": [
      "f082f27bfe6890e697a969d934b678f0\n",
      "1.7\n",
      "5mer\n"
     ]
    }
   ],
   "source": [
    "for job in job_list:\n",
    "    rdf_path = job.fn(\"trajectory.gsd\")\n",
    "    print(job)\n",
    "    temp = job.sp.kT_reduced\n",
    "    print(temp)\n",
    "    mole = job.sp.molecule\n",
    "    if 'PTB7_5mer_smiles' in mole:\n",
    "        molecule = \"5mer\"\n",
    "    if 'PTB7_10mer_smiles' in mole:\n",
    "        molecule = \"10mer\"\n",
    "    if 'PTB7_15mer_smiles' in mole:\n",
    "        molecule = \"15mer\"\n",
    "    print(molecule)"
   ]
  },
  {
   "cell_type": "code",
   "execution_count": 5,
   "metadata": {},
   "outputs": [],
   "source": [
    "def frame_get_type_position(gsdfile, typename, frame=-1):\n",
    "    with gsd.hoomd.open(name=gsdfile, mode='rb') as f:\n",
    "        snap = f[frame]\n",
    "    typepos = snap.particles.position[\n",
    "            snap.particles.typeid == snap.particles.types.index(typename)\n",
    "            ]\n",
    "    return typepos\n",
    "def snap_bond_graph(snap):\n",
    "    bond_graph = csr_matrix(\n",
    "        (np.ones(snap.bonds.N), (snap.bonds.group[:, 0], snap.bonds.group[:, 1])),\n",
    "        shape=(snap.particles.N, snap.particles.N),\n",
    "    )\n",
    "    n_components, labels = connected_components(csgraph=bond_graph, directed=False)\n",
    "    return labels\n",
    "def gsd_rdf(\n",
    "    rdf_path,\n",
    "    A_name,\n",
    "    B_name,\n",
    "    start=0,\n",
    "    stop=None,\n",
    "    rmax=None,\n",
    "    rmin=0,\n",
    "    bins=50,\n",
    "    exclude_bonded=True):\n",
    "    with gsd.hoomd.open(rdf_path) as t:\n",
    "        snap = t[0]\n",
    "        if rmax is None:\n",
    "            rmax = max(snap.configuration.box[:3]) * 0.45\n",
    "        rdf = freud.density.RDF(bins=bins, r_max=rmax, r_min=rmin)\n",
    "        type_A = snap.particles.typeid == snap.particles.types.index(A_name)\n",
    "        type_B = snap.particles.typeid == snap.particles.types.index(B_name)\n",
    "        if exclude_bonded:\n",
    "            molecules = snap_bond_graph(snap)\n",
    "            molecules_A = molecules[type_A]\n",
    "            molecules_B = molecules[type_B]\n",
    "        for snap in t[start:stop]:\n",
    "            A_pos = snap.particles.position[type_A]\n",
    "            if A_name != B_name:\n",
    "                B_pos = snap.particles.position[type_B]\n",
    "            else:\n",
    "                B_pos = A_pos\n",
    "            box = snap.configuration.box\n",
    "            system = (box, A_pos)\n",
    "            aq = freud.locality.AABBQuery.from_system(system)\n",
    "            nlist = aq.query(B_pos, {\"r_max\": rmax}).toNeighborList()\n",
    "            if exclude_bonded:\n",
    "                nlist.filter(molecules_A[nlist.point_indices]\n",
    "                             != molecules_B[nlist.query_point_indices])\n",
    "            rdf.compute(aq, neighbors=nlist, reset=False)\n",
    "        return rdf"
   ]
  },
  {
   "cell_type": "code",
   "execution_count": 8,
   "metadata": {},
   "outputs": [
    {
     "data": {
      "image/png": "[encoded data removed]",
      "text/plain": [
       "<Figure size 432x288 with 1 Axes>"
      ]
     },
     "metadata": {
      "needs_background": "light"
     },
     "output_type": "display_data"
    }
   ],
   "source": [
    "gsdfile = rdf_path\n",
    "A_name = \"ss\"\n",
    "B_name = \"ss\"\n",
    "atom= \"sulfur\"\n",
    "rdf = gsd_rdf(gsdfile, A_name, B_name, rmin=0.01, rmax=6)\n",
    "plt.plot(rdf.bin_centers, rdf.rdf)\n",
    "plt.xlabel(\"r (A.U.)\")\n",
    "plt.ylabel(\"g(r)\")\n",
    "plt.title(\"PTB7 %s's at %skT %sden\" % (atom, job.sp['kT_reduced'], job.sp['density']), fontsize=16)\n",
    "mypath = \"/home/emilyepstein/projects/ptb7-itic/ptb7-project/jup_notebooks\"\n",
    "#pngpath = \"{}/plots-ptb7/{}-{}.png\".format(mypath, a_type, job)\n",
    "    #pngpath = \"{}/plots-ptb7/{}.png\".format(mypath, job)\n",
    "\n",
    "plt.show()"
   ]
  },
  {
   "cell_type": "code",
   "execution_count": null,
   "metadata": {},
   "outputs": [],
   "source": []
  },
  {
   "cell_type": "code",
   "execution_count": null,
   "metadata": {},
   "outputs": [],
   "source": []
  },
  {
   "cell_type": "code",
   "execution_count": null,
   "metadata": {},
   "outputs": [],
   "source": []
  },
  {
   "cell_type": "code",
   "execution_count": null,
   "metadata": {},
   "outputs": [],
   "source": []
  },
  {
   "cell_type": "code",
   "execution_count": null,
   "metadata": {},
   "outputs": [],
   "source": []
  },
  {
   "cell_type": "code",
   "execution_count": null,
   "metadata": {},
   "outputs": [],
   "source": []
  },
  {
   "cell_type": "code",
   "execution_count": null,
   "metadata": {},
   "outputs": [],
   "source": [
    "def atom_type_pos(frame, atom_types): \n",
    "    positions = []\n",
    "    for idx, type_id in enumerate(frame.particles.typeid):\n",
    "        if frame.particles.types[type_id] in atom_types:\n",
    "            positions.append(frame.particles.position[idx])\n",
    "    return positions"
   ]
  },
  {
   "cell_type": "code",
   "execution_count": null,
   "metadata": {},
   "outputs": [],
   "source": [
    "def create_rdf(rdf_path,\n",
    "               atom_types='all',\n",
    "               r_max = None,\n",
    "               r_min = 0.1,\n",
    "               nbins = 50,\n",
    "               start = 100):\n",
    "    \n",
    "    \n",
    "    f = gsd.pygsd.GSDFile(open(rdf_path, \"rb\"))\n",
    "    trajectory = gsd.hoomd.HOOMDTrajectory(f) \n",
    "    if r_max is None:\n",
    "        r_max = max(trajectory[-1].configuration.box[:3]) * 0.45 \n",
    "    freud_rdf = freud.density.RDF(bins=nbins, r_max=r_max, r_min=r_min)\n",
    "    for frame in trajectory[start:]:\n",
    "        if atom_types == 'all':\n",
    "            freud_rdf.compute(system=frame, reset=False)\n",
    "        else:\n",
    "            query_points = atom_type_pos(frame, atom_types)\n",
    "            box = frame.configuration.box\n",
    "            freud_rdf.compute(system=(box, query_points), reset = False)\n",
    "        \n",
    " \n",
    "    x = freud_rdf.bin_centers\n",
    "    y = freud_rdf.rdf\n",
    "    filename = job.fn('{}-trajectory.txt').format(atom_types[0])\n",
    "    np.savetxt(filename, np.transpose([x,y]), delimiter=',', header= \"bin_centers, rdf\")\n",
    "    f.close()\n",
    "    return freud_rdf, filename"
   ]
  },
  {
   "cell_type": "code",
   "execution_count": 5,
   "metadata": {},
   "outputs": [
    {
     "name": "stdout",
     "output_type": "stream",
     "text": [
      "1.7\n"
     ]
    }
   ],
   "source": [
    "for job in job_list:\n",
    "    temp = job.sp.kT_reduced\n",
    "    print(temp)"
   ]
  },
  {
   "cell_type": "code",
   "execution_count": null,
   "metadata": {},
   "outputs": [],
   "source": [
    "def rdf_plot(job_list): \n",
    "    \n",
    "    for job in job_list:\n",
    "        rdf_path = job.fn(\"trajectory.gsd\")\n",
    "        freud_rdf, filename = create_rdf(rdf_path, atom_types=['f'], start = 95)\n",
    "        txt_path = job.fn('f-trajectory.txt')\n",
    "\n",
    "    line = np.genfromtxt(txt_path, names = True, delimiter = \",\") \n",
    "\n",
    "    x = line[\"bin_centers\"]\n",
    "    y = line[\"rdf\"]\n",
    "    \n",
    "    plt.plot(x, y, color = '#ffc08a')\n",
    "\n",
    "    plt.xlabel(\"r\")\n",
    "    plt.ylabel(\"g(r)\")\n",
    "    plt.ylim(0, 1.6)\n",
    "    plt.title(state_dict)\n",
    "\n",
    "    \n",
    "    plt.show()\n",
    "    \n",
    "    #still looking for atom type in title"
   ]
  },
  {
   "cell_type": "code",
   "execution_count": null,
   "metadata": {},
   "outputs": [],
   "source": [
    "rdf_plot(job_list)"
   ]
  },
  {
   "cell_type": "code",
   "execution_count": null,
   "metadata": {},
   "outputs": [],
   "source": [
    "   ymax = max(y)\n",
    "    n_max = y.argmax()\n",
    "    plt.plot(x[n_max],y[n_max],'o')\n",
    "    n_min = y.argmin() \n",
    "    plt.plot(x[n_min],y[n_min],'x')\n",
    "\n",
    "    #unsure how many decimals?\n",
    "    plt.annotate(\"local max {}\".format(\"%10.5f\"% y[n_max]), xy=(x[n_max],y[n_max]), xytext=(x[n_max]+15,y[n_max]+15), textcoords='offset points', arrowprops=dict(arrowstyle=\"->\", connectionstyle=\"arc3,rad=-0.2\"))\n",
    "\n",
    "    print(\"max is:\" \"%10.5f\"% y[n_max]) "
   ]
  },
  {
   "cell_type": "code",
   "execution_count": null,
   "metadata": {},
   "outputs": [],
   "source": []
  }
 ],
 "metadata": {
  "kernelspec": {
   "display_name": "Python 3",
   "language": "python",
   "name": "python3"
  },
  "language_info": {
   "codemirror_mode": {
    "name": "ipython",
    "version": 3
   },
   "file_extension": ".py",
   "mimetype": "text/x-python",
   "name": "python",
   "nbconvert_exporter": "python",
   "pygments_lexer": "ipython3",
   "version": "3.7.7"
  }
 },
 "nbformat": 4,
 "nbformat_minor": 4
}
