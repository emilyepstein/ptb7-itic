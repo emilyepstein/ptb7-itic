{
 "cells": [
  {
   "cell_type": "code",
   "execution_count": 96,
   "metadata": {},
   "outputs": [],
   "source": [
    "import freud\n",
    "import gsd\n",
    "import gsd.pygsd\n",
    "import gsd.hoomd\n",
    "import signac\n",
    "import numpy as np\n",
    "import matplotlib.pyplot as plt\n",
    "import matplotlib as mpl\n",
    "import cycler\n",
    "from scipy.stats import linregress\n",
    "from matplotlib import cm\n",
    "from pylab import *\n",
    "import matplotlib.lines as mlines"
   ]
  },
  {
   "cell_type": "code",
   "execution_count": 97,
   "metadata": {},
   "outputs": [],
   "source": [
    "def atom_type_pos(snap, atom_type):\n",
    "    if not isinstance(atom_type, list):\n",
    "        atom_type = [atom_type]\n",
    "    positions = []\n",
    "    for atom in atom_type:\n",
    "        indices = np.where(snap.particles.typeid == snap.particles.types.index(atom))\n",
    "        positions.append(snap.particles.position[indices])\n",
    "    return np.concatenate(positions)\n",
    "\n",
    "def msd_from_gsd(gsdfile, start=-10, stop=-1, atom_type='ss', msd_mode = \"window\"):\n",
    "    f = gsd.pygsd.GSDFile(open(gsdfile, \"rb\"))\n",
    "    trajectory = gsd.hoomd.HOOMDTrajectory(f)\n",
    "    positions = []\n",
    "    for frame in trajectory[start:stop]:\n",
    "        if atom_type == 'all':\n",
    "            atom_positions = frame.particles.position[:]\n",
    "        else:\n",
    "            atom_positions = atom_type_pos(frame, atom_type)\n",
    "        positions.append(atom_positions)\n",
    "    msd = freud.msd.MSD(box=trajectory[-1].configuration.box, mode=msd_mode)\n",
    "    msd.compute(positions)\n",
    "    f.close()\n",
    "    return(msd.msd) # This is retruning an array of numbers (the y-axis on the msd plot)"
   ]
  },
  {
   "cell_type": "code",
   "execution_count": 98,
   "metadata": {},
   "outputs": [],
   "source": [
    "project = signac.get_project(\"ptb7-project\")"
   ]
  },
  {
   "cell_type": "code",
   "execution_count": 101,
   "metadata": {},
   "outputs": [
    {
     "name": "stdout",
     "output_type": "stream",
     "text": [
      "{'steps': 30000000.0, 'avogadro': 6.022140857e+23, 'boltzmann': 1.38064852e-23, 'kj_to_j': 1000.0, 'amu_to_kg': 1.6605e-27, 'nm_to_m': 1e-09, 'mass': 32.06, 'mass_units': 'amu', 'energy': 1.046, 'energy_units': 'kj/mol', 'distance': 0.35635948725613575, 'distance_units': 'nm', 'T_SI': 226.0, 'T_unit': 'K', 'real_timestep': 1.973, 'time_unit': 'fs', 'msd_slope': 16.540258603445764, 'msd_slope_r2': 0.8559580499476385}\n"
     ]
    }
   ],
   "source": [
    "state_dict = {'size': 'small', 'process': 'quench', \"density\": 0.8, \"molecule\": \"PTB7_5mer_smiles\"}\n",
    "\n",
    "job_list = project.find_jobs(state_dict)\n",
    "for job in job_list:\n",
    "    msd = msd_from_gsd(job.fn('trajectory.gsd'))\n",
    "    y = msd[-5:]\n",
    "    x = range(len(y))\n",
    "    slope, intercept, r_value, p_value, std_err = linregress(x, y)\n",
    "    job.doc['msd_slope'] = slope\n",
    "    job.doc['msd_slope_r2'] = r_value\n",
    "    #print(\"slope of\", job, \"is:\")\n",
    "    #print(slope)\n",
    "    \n",
    "print(job.doc)"
   ]
  },
  {
   "cell_type": "code",
   "execution_count": 1,
   "metadata": {},
   "outputs": [
    {
     "ename": "NameError",
     "evalue": "name 'signac' is not defined",
     "output_type": "error",
     "traceback": [
      "\u001b[0;31m---------------------------------------------------------------------------\u001b[0m",
      "\u001b[0;31mNameError\u001b[0m                                 Traceback (most recent call last)",
      "\u001b[0;32m<ipython-input-1-8b4ef7a92458>\u001b[0m in \u001b[0;36m<module>\u001b[0;34m\u001b[0m\n\u001b[0;32m----> 1\u001b[0;31m \u001b[0mproject\u001b[0m \u001b[0;34m=\u001b[0m \u001b[0msignac\u001b[0m\u001b[0;34m.\u001b[0m\u001b[0mget_project\u001b[0m\u001b[0;34m(\u001b[0m\u001b[0;34m\"ptb7-project\"\u001b[0m\u001b[0;34m)\u001b[0m\u001b[0;34m\u001b[0m\u001b[0;34m\u001b[0m\u001b[0m\n\u001b[0m\u001b[1;32m      2\u001b[0m \u001b[0;34m\u001b[0m\u001b[0m\n\u001b[1;32m      3\u001b[0m \u001b[0;34m\u001b[0m\u001b[0m\n\u001b[1;32m      4\u001b[0m \u001b[0;34m\u001b[0m\u001b[0m\n\u001b[1;32m      5\u001b[0m state_dict = {'size': 'small', 'process': 'quench', \n",
      "\u001b[0;31mNameError\u001b[0m: name 'signac' is not defined"
     ]
    }
   ],
   "source": [
    "project = signac.get_project(\"ptb7-project\")\n",
    "\n",
    "\n",
    "\n",
    "state_dict = {'size': 'small', 'process': 'quench', \n",
    "              \"density\": 0.8}\n",
    "\n",
    "\n",
    "job_list = project.find_jobs(state_dict)\n",
    "   \n",
    "for idx,job in enumerate(job_list):\n",
    "    msd = msd_from_gsd(job.fn('trajectory.gsd'))\n",
    "    slope = job.doc['msd_slope']\n",
    "    x2=job.sp[\"kT_reduced\"]\n",
    "    y2=slope\n",
    "    mark = \"x\"\n",
    "    #print(job.sp)\n",
    "    if job.sp[\"molecule\"] == 'PTB7_5mer_smiles':\n",
    "        mark = \"x\"\n",
    "    if job.sp[\"molecule\"] == 'PTB7_10mer_smiles':\n",
    "        mark = \"v\"\n",
    "    if job.sp[\"molecule\"] == 'PTB7_15mer_smiles':\n",
    "        mark = \"o\"\n",
    "    if x2 == 0.8: \n",
    "        col = ['#00004c']\n",
    "    if x2 == 0.9: \n",
    "        col = ['#000079']\n",
    "    if x2 == 1.0: \n",
    "        col = ['#0000a6']\n",
    "    if x2 == 1.1: \n",
    "        col = ['#0000d2']\n",
    "    if x2 == 1.2: \n",
    "        col = ['#0000ff']\n",
    "    if x2 == 1.3: \n",
    "        col = ['#4040ff']\n",
    "    if x2 == 1.4: \n",
    "        col = ['#8080ff']\n",
    "    if x2 == 1.5: \n",
    "        col = ['#bfbfff']\n",
    "    if x2 == 1.6: \n",
    "        col = ['#dbd9d9']\n",
    "    if x2 == 1.7: \n",
    "        col = ['#ffbfbf']\n",
    "    if x2 == 1.8: \n",
    "        col = ['#ff8080']\n",
    "    if x2 == 1.9: \n",
    "        col = ['#ff4040']\n",
    "    if x2 == 2.0: \n",
    "        col = ['#ff0000']\n",
    "    if x2 == 2.1: \n",
    "        col = ['#df0000']\n",
    "    if x2 == 2.2: \n",
    "        col = ['#bf0000']\n",
    "    if x2 == 2.3: \n",
    "        col = ['#9f0000']\n",
    "    if x2 == 2.4: \n",
    "        col = ['#800000']\n",
    "    plt.ylim(0, 35.0)\n",
    "    plt.scatter(x2,y2, marker=mark,color = col)#, marker=mpl.markers)\n",
    "plt.minorticks_on()\n",
    "plt.tick_params(axis='both', which='both', direction='in')\n",
    "plt.title('Slope vs. Temp of 0.8 density')\n",
    "plt.xlabel('Temperature (kT)')\n",
    "plt.ylabel('Slope')\n",
    "\n",
    "mer_5 = mlines.Line2D([], [], color='grey', marker='x', linestyle='None',\n",
    "                      label='5mer')\n",
    "mer_10 = mlines.Line2D([], [], color='grey', marker='v', linestyle='None',\n",
    "                       label='10mer')\n",
    "mer_15 = mlines.Line2D([], [], color='grey', marker='o', linestyle='None',\n",
    "                       label='15mer')\n",
    "\n",
    "plt.legend(handles=[mer_5, mer_10, mer_15], loc=\"upper left\")\n",
    "\n",
    "plt.show()\n"
   ]
  },
  {
   "cell_type": "code",
   "execution_count": 25,
   "metadata": {},
   "outputs": [],
   "source": [
    "#print(job.sp)"
   ]
  },
  {
   "cell_type": "code",
   "execution_count": 8,
   "metadata": {},
   "outputs": [],
   "source": [
    "#counting # of jobs for scatter plot \n",
    "#for index,job in enumerate(job_list):    \n",
    "#    x2=job.sp[\"kT_reduced\"]\n",
    "#    y2=slope\n",
    "#    print(index, x2, y2)\n",
    "\n",
    "\n",
    "#to get hex from colormap\n",
    "#from pylab import *\n",
    "#cmap = cm.get_cmap('seismic', 17)    # PiYG\n",
    "#for i in range(cmap.N):\n",
    "#    rgb = cmap(i)[:3] # will return rgba, we take only first 3 so we get rgb\n",
    "#    print(matplotlib.colors.rgb2hex(rgb))"
   ]
  }
 ],
 "metadata": {
  "kernelspec": {
   "display_name": "Python 3",
   "language": "python",
   "name": "python3"
  },
  "language_info": {
   "codemirror_mode": {
    "name": "ipython",
    "version": 3
   },
   "file_extension": ".py",
   "mimetype": "text/x-python",
   "name": "python",
   "nbconvert_exporter": "python",
   "pygments_lexer": "ipython3",
   "version": "3.7.7"
  }
 },
 "nbformat": 4,
 "nbformat_minor": 4
}
