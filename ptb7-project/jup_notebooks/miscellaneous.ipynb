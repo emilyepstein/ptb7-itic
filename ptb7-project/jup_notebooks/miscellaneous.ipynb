{
 "cells": [
  {
   "cell_type": "code",
   "execution_count": 1,
   "metadata": {},
   "outputs": [],
   "source": [
    "#counting # of jobs for scatter plot \n",
    "#for index,job in enumerate(job_list):    \n",
    "#    x2=job.sp[\"kT_reduced\"]\n",
    "#    y2=slope\n",
    "#    print(index, x2, y2)"
   ]
  },
  {
   "cell_type": "code",
   "execution_count": 2,
   "metadata": {},
   "outputs": [],
   "source": [
    "#to get hex from colormap\n",
    "#from pylab import *\n",
    "#cmap = cm.get_cmap('seismic', 17)    # PiYG\n",
    "#for i in range(cmap.N):\n",
    "#    rgb = cmap(i)[:3] # will return rgba, we take only first 3 so we get rgb\n",
    "#    print(matplotlib.colors.rgb2hex(rgb))"
   ]
  },
  {
   "cell_type": "code",
   "execution_count": null,
   "metadata": {},
   "outputs": [],
   "source": []
  }
 ],
 "metadata": {
  "kernelspec": {
   "display_name": "Python 3",
   "language": "python",
   "name": "python3"
  },
  "language_info": {
   "codemirror_mode": {
    "name": "ipython",
    "version": 3
   },
   "file_extension": ".py",
   "mimetype": "text/x-python",
   "name": "python",
   "nbconvert_exporter": "python",
   "pygments_lexer": "ipython3",
   "version": "3.7.7"
  }
 },
 "nbformat": 4,
 "nbformat_minor": 4
}
