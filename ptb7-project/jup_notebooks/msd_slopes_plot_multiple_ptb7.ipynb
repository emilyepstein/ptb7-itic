{
 "cells": [
  {
   "cell_type": "code",
   "execution_count": 2,
   "metadata": {},
   "outputs": [],
   "source": [
    "import freud\n",
    "import gsd\n",
    "import gsd.pygsd\n",
    "import gsd.hoomd\n",
    "import signac\n",
    "import numpy as np\n",
    "import matplotlib.pyplot as plt\n",
    "import matplotlib as mpl\n",
    "import cycler\n",
    "from scipy.stats import linregress\n",
    "from matplotlib import cm\n",
    "from pylab import *\n",
    "import matplotlib.lines as mlines"
   ]
  },
  {
   "cell_type": "code",
   "execution_count": 46,
   "metadata": {},
   "outputs": [],
   "source": [
    "def atom_type_pos(snap, atom_type):\n",
    "    if not isinstance(atom_type, list):\n",
    "        atom_type = [atom_type]\n",
    "    positions = []\n",
    "    for atom in atom_type:\n",
    "        indices = np.where(snap.particles.typeid == snap.particles.types.index(atom))\n",
    "        positions.append(snap.particles.position[indices])\n",
    "    return np.concatenate(positions)\n",
    "\n",
    "def msd_from_gsd(gsdfile, start=-30, stop=-1, atom_type='ss', msd_mode = \"window\"):\n",
    "    f = gsd.pygsd.GSDFile(open(gsdfile, \"rb\"))\n",
    "    trajectory = gsd.hoomd.HOOMDTrajectory(f)\n",
    "    positions = []\n",
    "    for frame in trajectory[start:stop]:\n",
    "        if atom_type == 'all':\n",
    "            atom_positions = frame.particles.position[:]\n",
    "        else:\n",
    "            atom_positions = atom_type_pos(frame, atom_type)\n",
    "        positions.append(atom_positions)\n",
    "    msd = freud.msd.MSD(box=trajectory[-1].configuration.box, mode=msd_mode)\n",
    "    msd.compute(positions)\n",
    "    f.close()\n",
    "    return(msd.msd) # This is retruning an array of numbers (the y-axis on the msd plot)"
   ]
  },
  {
   "cell_type": "code",
   "execution_count": 47,
   "metadata": {},
   "outputs": [],
   "source": [
    "project = signac.get_project(\"ptb7-project\")"
   ]
  },
  {
   "cell_type": "code",
   "execution_count": 61,
   "metadata": {},
   "outputs": [
    {
     "name": "stdout",
     "output_type": "stream",
     "text": [
      "1.4322858791341764e-05\n",
      "9.967276123544667e-07\n",
      "6.655800553118048e-07\n",
      "2.2798804832529927e-06\n",
      "9.325354690481024e-07\n",
      "8.595164414486154e-06\n",
      "8.816729571412948e-07\n",
      "1.708901536611635e-05\n",
      "1.5701210213547904e-05\n",
      "1.1859801403146204e-05\n",
      "1.6974561133166683e-05\n",
      "1.9217912920642483e-05\n",
      "4.637226745017212e-06\n",
      "1.0569811406851617e-05\n",
      "1.6087567961144018e-05\n",
      "1.8810081134282484e-06\n",
      "1.8917733299798845e-05\n"
     ]
    }
   ],
   "source": [
    "state_dict = {'size': 'small', 'process': 'quench', \"density\": 0.8, \"molecule\": \"PTB7_5mer_smiles\"}\n",
    "\n",
    "job_list = project.find_jobs(state_dict)\n",
    "for job in job_list:\n",
    "    msd = msd_from_gsd(job.fn('trajectory.gsd'))\n",
    "    tspf = job.sp['n_steps'] / 100\n",
    "    y = msd[-15:]\n",
    "    x = np.arange(0, len(y), 1) * tspf\n",
    "    slope, intercept, r_value, p_value, std_err = linregress(x, y)\n",
    "    job.doc['msd_slope'] = slope\n",
    "    job.doc['msd_slope_r2'] = r_value\n",
    "    #print(\"slope of\", job, \"is:\")\n",
    "    print(slope)"
   ]
  },
  {
   "cell_type": "code",
   "execution_count": 64,
   "metadata": {},
   "outputs": [
    {
     "data": {
      "image/png": "[encoded data removed]",
      "text/plain": [
       "<Figure size 432x288 with 1 Axes>"
      ]
     },
     "metadata": {
      "needs_background": "light"
     },
     "output_type": "display_data"
    }
   ],
   "source": [
    "project = signac.get_project(\"ptb7-project\")\n",
    "\n",
    "\n",
    "\n",
    "state_dict = {'size': 'small', 'process': 'quench', \n",
    "              \"density\": 1.2}\n",
    "\n",
    "\n",
    "job_list = project.find_jobs(state_dict)\n",
    "\n",
    "fig = plt.figure()\n",
    "ax = plt.subplot(111)\n",
    "state_dict['kT_reduced.$lt'] = 2.5\n",
    "color = plt.cm.coolwarm(np.linspace(0, 1, len(job_list)))\n",
    "\n",
    "#mpl.rcParams['axes.prop_cycle'] = plt.cycler('color', color)\n",
    "#col = np.arange(17)\n",
    "   \n",
    "for temp,job in enumerate(job_list):\n",
    "    \n",
    "    msd = msd_from_gsd(job.fn('trajectory.gsd'))\n",
    "    slope = job.doc['msd_slope']\n",
    "    x2=job.sp[\"kT_reduced\"]\n",
    "    y2=slope\n",
    "    mark = \"x\"\n",
    "    #print(job.sp)\n",
    "    if job.sp[\"molecule\"] == 'PTB7_5mer_smiles':\n",
    "        mark = \"x\"\n",
    "        col = ['blue']\n",
    "    if job.sp[\"molecule\"] == 'PTB7_10mer_smiles':\n",
    "        mark = \"v\"\n",
    "        col = ['black']\n",
    "    if job.sp[\"molecule\"] == 'PTB7_15mer_smiles':\n",
    "        mark = \"o\"\n",
    "        col = ['#e4794f']\n",
    "    plt.ylim(0, 0.0001)\n",
    "    plt.scatter(x2,y2, label=temp, marker=mark, c =col)#, marker=mpl.markers)\n",
    "    plt.minorticks_on()\n",
    "    plt.tick_params(axis='both', which='both', direction='in')\n",
    "    plt.ylim(0, 0.000015)\n",
    "plt.title('Slope vs. Temp of 1.2 density')\n",
    "plt.xlabel('Temperature (kT)')\n",
    "plt.ylabel('Slope')\n",
    "\n",
    "mer_5 = mlines.Line2D([], [], color='grey', marker='x', linestyle='None',\n",
    "                      label='5mer')\n",
    "mer_10 = mlines.Line2D([], [], color='grey', marker='v', linestyle='None',\n",
    "                       label='10mer')\n",
    "mer_15 = mlines.Line2D([], [], color='grey', marker='o', linestyle='None',\n",
    "                       label='15mer')\n",
    "\n",
    "plt.legend(handles=[mer_5, mer_10, mer_15], loc=\"upper left\")\n",
    "\n",
    "plt.show()\n"
   ]
  },
  {
   "cell_type": "code",
   "execution_count": 40,
   "metadata": {},
   "outputs": [
    {
     "ename": "TypeError",
     "evalue": "list indices must be integers or slices, not str",
     "output_type": "error",
     "traceback": [
      "\u001b[0;31m---------------------------------------------------------------------------\u001b[0m",
      "\u001b[0;31mTypeError\u001b[0m                                 Traceback (most recent call last)",
      "\u001b[0;32m<ipython-input-40-88911530d137>\u001b[0m in \u001b[0;36m<module>\u001b[0;34m\u001b[0m\n\u001b[1;32m      7\u001b[0m \u001b[0;32mfor\u001b[0m \u001b[0mmolecule\u001b[0m\u001b[0;34m,\u001b[0m\u001b[0midx\u001b[0m \u001b[0;32min\u001b[0m \u001b[0menumerate\u001b[0m\u001b[0;34m(\u001b[0m\u001b[0mstate_dict\u001b[0m\u001b[0;34m)\u001b[0m\u001b[0;34m:\u001b[0m\u001b[0;34m\u001b[0m\u001b[0;34m\u001b[0m\u001b[0m\n\u001b[1;32m      8\u001b[0m \u001b[0;34m\u001b[0m\u001b[0m\n\u001b[0;32m----> 9\u001b[0;31m     \u001b[0mstate_dict\u001b[0m \u001b[0;34m=\u001b[0m \u001b[0ms_d\u001b[0m\u001b[0;34m[\u001b[0m\u001b[0midx\u001b[0m\u001b[0;34m]\u001b[0m\u001b[0;34m\u001b[0m\u001b[0;34m\u001b[0m\u001b[0m\n\u001b[0m\u001b[1;32m     10\u001b[0m \u001b[0;34m\u001b[0m\u001b[0m\n\u001b[1;32m     11\u001b[0m     \u001b[0mjob_list\u001b[0m \u001b[0;34m=\u001b[0m \u001b[0mproject\u001b[0m\u001b[0;34m.\u001b[0m\u001b[0mfind_jobs\u001b[0m\u001b[0;34m(\u001b[0m\u001b[0mstate_dict\u001b[0m\u001b[0;34m)\u001b[0m\u001b[0;34m\u001b[0m\u001b[0;34m\u001b[0m\u001b[0m\n",
      "\u001b[0;31mTypeError\u001b[0m: list indices must be integers or slices, not str"
     ]
    }
   ],
   "source": [
    "s_d = [(\"({'size': 'small', 'process': 'quench', 'density': 1.0, 'molecule':'PTB7_5mer_smiles'})\"),\n",
    "       (\"({'size': 'small', 'process': 'quench', 'density': 1.0, 'molecule':'PTB7_10mer_smiles'})\"),\n",
    "       (\"({'size': 'small', 'process': 'quench', 'density': 1.0, 'molecule':'PTB7_15mer_smiles'})\")]\n",
    "\n",
    "\n",
    "\n",
    "for molecule,idx in enumerate(state_dict):\n",
    "    \n",
    "    state_dict = s_d[idx]\n",
    "\n",
    "    job_list = project.find_jobs(state_dict)\n",
    "    fig = plt.figure()\n",
    "    #ax = plt.subplot(111)\n",
    "    state_dict['kT_reduced.$lt'] = 2.5\n",
    "    color = plt.cm.coolwarm(np.linspace(0, 1, len(job_list)))\n",
    "\n",
    "    mpl.rcParams['axes.prop_cycle'] = plt.cycler('color', color)\n",
    "\n",
    "    for temp,job in job_list.groupby('kT_reduced'):\n",
    "        job = list(job)[0]\n",
    "        msd = msd_from_gsd(job.fn('trajectory.gsd'))\n",
    "        slope = job.doc['msd_slope']\n",
    "        x2=job.sp[\"kT_reduced\"]\n",
    "        y2=slope\n",
    "        plt.ylim(0, 0.00014)\n",
    "        plt.scatter(x2,y2, label=temp)\n",
    "        ax.minorticks_on()\n",
    "        ax.tick_params(axis='both', which='both', direction='in', labelsize=10)\n",
    "        plt.ticklabel_format(style='sci', axis='y', scilimits=(0,0), useMathText=True)\n",
    "\n",
    "#    if job.sp['molecule'] == \"PTB7_5mer_smiles\":\n",
    "#        mol = \"5mer\"\n",
    "#    if job.sp['molecule'] == \"PTB7_10mer_smiles\":\n",
    "#        mol = \"10mer\"\n",
    "#    if job.sp['molecule'] == \"PTB7_15mer_smiles\":\n",
    "#        mol = \"15mer\"\n",
    "#    plt.title(\"Slope vs. Temp of PTB7 %s at %s density\" % (mol, job.sp['density']), fontsize=11.75 )\n",
    "    #plt.xlabel(\"Temperature(kT)\")\n",
    "    #plt.ylabel(\"Slope\")\n",
    "    #plt.show()"
   ]
  },
  {
   "cell_type": "code",
   "execution_count": null,
   "metadata": {},
   "outputs": [],
   "source": []
  },
  {
   "cell_type": "code",
   "execution_count": 8,
   "metadata": {},
   "outputs": [],
   "source": [
    "#counting # of jobs for scatter plot \n",
    "#for index,job in enumerate(job_list):    \n",
    "#    x2=job.sp[\"kT_reduced\"]\n",
    "#    y2=slope\n",
    "#    print(index, x2, y2)\n",
    "\n",
    "\n",
    "#to get hex from colormap\n",
    "#from pylab import *\n",
    "#cmap = cm.get_cmap('seismic', 17)    # PiYG\n",
    "#for i in range(cmap.N):\n",
    "#    rgb = cmap(i)[:3] # will return rgba, we take only first 3 so we get rgb\n",
    "#    print(matplotlib.colors.rgb2hex(rgb))"
   ]
  }
 ],
 "metadata": {
  "kernelspec": {
   "display_name": "Python 3",
   "language": "python",
   "name": "python3"
  },
  "language_info": {
   "codemirror_mode": {
    "name": "ipython",
    "version": 3
   },
   "file_extension": ".py",
   "mimetype": "text/x-python",
   "name": "python",
   "nbconvert_exporter": "python",
   "pygments_lexer": "ipython3",
   "version": "3.7.7"
  }
 },
 "nbformat": 4,
 "nbformat_minor": 4
}
