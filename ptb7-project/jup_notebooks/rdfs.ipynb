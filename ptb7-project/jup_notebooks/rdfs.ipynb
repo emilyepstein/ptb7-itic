{
 "cells": [
  {
   "cell_type": "code",
   "execution_count": 1,
   "metadata": {},
   "outputs": [],
   "source": [
    "import signac\n",
    "import numpy as np\n",
    "import matplotlib.pyplot as plt\n",
    "import freud\n",
    "import gsd\n",
    "import hoomd\n",
    "import gsd.pygsd\n",
    "import gsd.hoomd"
   ]
  },
  {
   "cell_type": "markdown",
   "metadata": {},
   "source": [
    "## RDF for PTB7"
   ]
  },
  {
   "cell_type": "code",
   "execution_count": 2,
   "metadata": {},
   "outputs": [],
   "source": [
    "data_path = \"/home/erjank_project/ptb7-project/workspace\"\n",
    "\n",
    "project = signac.get_project(data_path)"
   ]
  },
  {
   "cell_type": "code",
   "execution_count": 3,
   "metadata": {},
   "outputs": [],
   "source": [
    "state_dict = {\"molecule\": \"PTB7_10mer_smiles\",\n",
    "              \"size\":\"medium\",\n",
    "              \"process\":\"quench\",\n",
    "              \"density\": 0.9,\n",
    "              \"kT_reduced\": 1.7}\n",
    "\n",
    "job_list = project.find_jobs(state_dict)"
   ]
  },
  {
   "cell_type": "code",
   "execution_count": 4,
   "metadata": {},
   "outputs": [
    {
     "name": "stdout",
     "output_type": "stream",
     "text": [
      "fe36ee4052a01cae041ef5988477de10\n"
     ]
    }
   ],
   "source": [
    "for job in job_list:\n",
    "    rdf_path = job.fn(\"trajectory.gsd\")\n",
    "    print(job)"
   ]
  },
  {
   "cell_type": "code",
   "execution_count": 5,
   "metadata": {},
   "outputs": [],
   "source": [
    "def atom_type_pos(frame, atom_types): \n",
    "    positions = []\n",
    "    for idx, type_id in enumerate(frame.particles.typeid):\n",
    "        if frame.particles.types[type_id] in atom_types:\n",
    "            positions.append(frame.particles.position[idx])\n",
    "    return positions"
   ]
  },
  {
   "cell_type": "code",
   "execution_count": 6,
   "metadata": {},
   "outputs": [],
   "source": [
    "def rdf_from_gsd(rdf_path,\n",
    "                 atom_types='all',\n",
    "                 r_max = None,\n",
    "                 r_min = 0.1,\n",
    "                 nbins = 50,\n",
    "                 start = 100):\n",
    "    \n",
    "    \n",
    "    f = gsd.pygsd.GSDFile(open(rdf_path, \"rb\"))\n",
    "    trajectory = gsd.hoomd.HOOMDTrajectory(f) \n",
    "    if r_max is None:\n",
    "        r_max = max(trajectory[-1].configuration.box[:3]) * 0.45 \n",
    "    freud_rdf = freud.density.RDF(bins=nbins, r_max=r_max, r_min=r_min)\n",
    "    for frame in trajectory[start:]:\n",
    "        if atom_types == 'all':\n",
    "            freud_rdf.compute(system=frame, reset=False)\n",
    "        else:\n",
    "            query_points = atom_type_pos(frame, atom_types)\n",
    "            box = frame.configuration.box\n",
    "            freud_rdf.compute(system=(box, query_points), reset = False)\n",
    "        \n",
    " \n",
    "    x = freud_rdf.bin_centers\n",
    "    y = freud_rdf.rdf\n",
    "    filename = job.fn('{}-trajectory.txt').format(atom_types[0])\n",
    "    np.savetxt(filename, np.transpose([x,y]), delimiter=',', header= \"bin_centers, rdf\")\n",
    "    f.close()\n",
    "    return freud_rdf, filename"
   ]
  },
  {
   "cell_type": "code",
   "execution_count": 7,
   "metadata": {},
   "outputs": [],
   "source": [
    "def rdf_analysis(job_list): \n",
    "    \n",
    "    for job in job_list:\n",
    "        rdf_path = job.fn(\"trajectory.gsd\")\n",
    "        freud_rdf, filename = rdf_from_gsd(rdf_path, atom_types=['f'], start = 95)\n",
    "        txt_path = job.fn('f-trajectory.txt')\n",
    "\n",
    "    line = np.genfromtxt(txt_path, names = True, delimiter = \",\") \n",
    "\n",
    "    x = line[\"bin_centers\"]\n",
    "    y = line[\"rdf\"]\n",
    "    \n",
    "    plt.plot(x, y, color = '#ffc08a')\n",
    "\n",
    "    plt.xlabel(\"r\")\n",
    "    plt.ylabel(\"g(r)\")\n",
    "    plt.ylim(0, 1.6)\n",
    "    plt.title(state_dict)\n",
    "\n",
    "    ppath = \"/home/emilyepstein/projects/ptb7-itic/ptb7-project/jup_notebooks/plots-ptb7/{}.png\".format(job)\n",
    "    \n",
    "    plt.savefig(ppath)\n",
    "    \n",
    "    #still looking for atom type in title"
   ]
  },
  {
   "cell_type": "code",
   "execution_count": 8,
   "metadata": {},
   "outputs": [
    {
     "data": {
      "image/png": "[encoded data removed]",
      "text/plain": [
       "<Figure size 432x288 with 1 Axes>"
      ]
     },
     "metadata": {
      "needs_background": "light"
     },
     "output_type": "display_data"
    }
   ],
   "source": [
    "rdf_analysis(job_list)"
   ]
  },
  {
   "cell_type": "markdown",
   "metadata": {},
   "source": [
    "for plotting max:"
   ]
  },
  {
   "cell_type": "code",
   "execution_count": 10,
   "metadata": {},
   "outputs": [],
   "source": [
    "#ymax = max(y)\n",
    "#n_max = y.argmax()\n",
    "#plt.plot(x[n_max],y[n_max],'o')\n",
    "#n_min = y.argmin() \n",
    "#plt.plot(x[n_min],y[n_min],'x')\n",
    "#\n",
    "##unsure how many decimals?\n",
    "#plt.annotate(\"local max {}\".format(\"%10.5f\"% y[n_max]), xy=(x[n_max],y[n_max]), xytext=(x[n_max]+15,y[n_max]+15), textcoords='offset points', arrowprops=dict(arrowstyle=\"->\", connectionstyle=\"arc3,rad=-0.2\"))\n",
    "#\n",
    "#print(\"max is:\" \"%10.5f\"% y[n_max]) "
   ]
  },
  {
   "cell_type": "markdown",
   "metadata": {},
   "source": [
    "## RDF for ITIC"
   ]
  },
  {
   "cell_type": "code",
   "execution_count": 33,
   "metadata": {},
   "outputs": [],
   "source": [
    "data_path = \"/home/erjank_project/itic-project/workspace\"\n",
    "\n",
    "project = signac.get_project(data_path)"
   ]
  },
  {
   "cell_type": "code",
   "execution_count": 34,
   "metadata": {},
   "outputs": [],
   "source": [
    "state_dict={\"size\": \"small\", \n",
    "            \"process\": \"quench\",\n",
    "            \"kT_reduced\":1.2, \n",
    "            \"density\":0.9}\n",
    "\n",
    "job_list = project.find_jobs(state_dict)\n",
    "\n",
    "#print(project.detect_schema())"
   ]
  },
  {
   "cell_type": "code",
   "execution_count": 35,
   "metadata": {},
   "outputs": [
    {
     "name": "stdout",
     "output_type": "stream",
     "text": [
      "6cb46f39df230aa0cb352446380a1029\n"
     ]
    }
   ],
   "source": [
    "for job in job_list:\n",
    "    rdf_path = job.fn(\"trajectory.gsd\")\n",
    "    print(job)"
   ]
  },
  {
   "cell_type": "markdown",
   "metadata": {},
   "source": [
    "#### note: atom types defined above"
   ]
  },
  {
   "cell_type": "code",
   "execution_count": 36,
   "metadata": {},
   "outputs": [],
   "source": [
    "def rdf_from_gsd(rdf_path,\n",
    "                 atom_types='all',\n",
    "                 r_max = None,\n",
    "                 r_min = 0.1,\n",
    "                 nbins = 50,\n",
    "                 start = 100):\n",
    "    \n",
    "    \n",
    "    f = gsd.pygsd.GSDFile(open(rdf_path, \"rb\"))\n",
    "    trajectory = gsd.hoomd.HOOMDTrajectory(f) \n",
    "    if r_max is None:\n",
    "        r_max = max(trajectory[-1].configuration.box[:3]) * 0.45 \n",
    "    freud_rdf = freud.density.RDF(bins=nbins, r_max=r_max, r_min=r_min)\n",
    "    for frame in trajectory[start:]:\n",
    "        if atom_types == 'all':\n",
    "            freud_rdf.compute(system=frame, reset=False)\n",
    "        else:\n",
    "            query_points = atom_type_pos(frame, atom_types)\n",
    "            box = frame.configuration.box\n",
    "            freud_rdf.compute(system=(box, query_points), reset = False)\n",
    "        \n",
    " \n",
    "    x = freud_rdf.bin_centers\n",
    "    y = freud_rdf.rdf\n",
    "    filename = job.fn('{}-trajectory.txt').format(atom_types[0])\n",
    "    np.savetxt(filename, np.transpose([x,y]), delimiter=',', header= \"bin_centers, rdf\")\n",
    "    f.close()\n",
    "    return freud_rdf, filename"
   ]
  },
  {
   "cell_type": "code",
   "execution_count": 37,
   "metadata": {},
   "outputs": [],
   "source": [
    "def rdf_analysis(job_list): \n",
    "    \n",
    "    for job in job_list:\n",
    "        rdf_path = job.fn(\"trajectory.gsd\")\n",
    "        freud_rdf, filename = rdf_from_gsd(rdf_path, atom_types=['ss'], start = 0)\n",
    "        txt_path = job.fn('ss-trajectory.txt')\n",
    "\n",
    "    line = np.genfromtxt(txt_path, names = True, delimiter = \",\") \n",
    "\n",
    "    x = line[\"bin_centers\"]\n",
    "    y = line[\"rdf\"]\n",
    "    \n",
    "    plt.plot(x, y, color = '#ffc08a')\n",
    "\n",
    "    plt.xlabel(\"r\")\n",
    "    plt.ylabel(\"g(r)\")\n",
    "    plt.ylim(0, 3.0)\n",
    "    plt.title(state_dict)\n",
    "    \n",
    "    ppath = \"/home/emilyepstein/projects/ptb7-itic/ptb7-project/jup_notebooks/plots-itic/{}.png\".format(job)\n",
    "    \n",
    "    plt.savefig(ppath)\n",
    "    \n",
    "    #still looking for atom type in title"
   ]
  },
  {
   "cell_type": "code",
   "execution_count": 38,
   "metadata": {},
   "outputs": [
    {
     "data": {
      "image/png": "[encoded data removed]",
      "text/plain": [
       "<Figure size 432x288 with 1 Axes>"
      ]
     },
     "metadata": {
      "needs_background": "light"
     },
     "output_type": "display_data"
    }
   ],
   "source": [
    "rdf_analysis(job_list)"
   ]
  }
 ],
 "metadata": {
  "kernelspec": {
   "display_name": "Python 3",
   "language": "python",
   "name": "python3"
  },
  "language_info": {
   "codemirror_mode": {
    "name": "ipython",
    "version": 3
   },
   "file_extension": ".py",
   "mimetype": "text/x-python",
   "name": "python",
   "nbconvert_exporter": "python",
   "pygments_lexer": "ipython3",
   "version": "3.7.7"
  }
 },
 "nbformat": 4,
 "nbformat_minor": 4
}
