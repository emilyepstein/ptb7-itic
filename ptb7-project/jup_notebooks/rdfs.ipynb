{
 "cells": [
  {
   "cell_type": "code",
   "execution_count": 1,
   "metadata": {},
   "outputs": [],
   "source": [
    "import signac\n",
    "import numpy as np\n",
    "import matplotlib.pyplot as plt\n",
    "import freud\n",
    "import gsd\n",
    "import hoomd\n",
    "import gsd.pygsd\n",
    "import gsd.hoomd\n",
    "import pandas as pd\n",
    "import json"
   ]
  },
  {
   "cell_type": "markdown",
   "metadata": {},
   "source": [
    "## RDF for PTB7"
   ]
  },
  {
   "cell_type": "code",
   "execution_count": 2,
   "metadata": {},
   "outputs": [],
   "source": [
    "data_path = \"/home/erjank_project/ptb7-project/workspace\"\n",
    "\n",
    "project = signac.get_project(data_path)"
   ]
  },
  {
   "cell_type": "code",
   "execution_count": 12,
   "metadata": {},
   "outputs": [
    {
     "name": "stdout",
     "output_type": "stream",
     "text": [
      "JobsCursor(project=Project.get_project('/home/erjank_project/ptb7-project'), filter={'size': 'medium', 'molecule': 'PTB7_5mer_smiles', 'process': 'quench', 'density': 0.9, 'kT_reduced': 1.7}, doc_filter=None)\n"
     ]
    }
   ],
   "source": [
    "state_dict = {\"size\":\"medium\",\n",
    "              \"molecule\": \"PTB7_5mer_smiles\",\n",
    "              \"process\":\"quench\",\n",
    "              \"density\": 0.9,\n",
    "              \"kT_reduced\": 1.7}\n",
    "\n",
    "job_list = project.find_jobs(state_dict)\n",
    "\n",
    "print(job_list)"
   ]
  },
  {
   "cell_type": "code",
   "execution_count": 13,
   "metadata": {},
   "outputs": [
    {
     "name": "stdout",
     "output_type": "stream",
     "text": [
      "f082f27bfe6890e697a969d934b678f0\n"
     ]
    }
   ],
   "source": [
    "for job in job_list:\n",
    "    print(job)\n",
    "    #temp = job.sp.kT_reduced\n",
    "    #print(temp)\n",
    "\n"
   ]
  },
  {
   "cell_type": "code",
   "execution_count": 14,
   "metadata": {},
   "outputs": [],
   "source": [
    "def atom_type_pos(frame, atom_types): \n",
    "    positions = []\n",
    "    for idx, type_id in enumerate(frame.particles.typeid):\n",
    "        if frame.particles.types[type_id] in atom_types:\n",
    "            positions.append(frame.particles.position[idx])\n",
    "    return positions"
   ]
  },
  {
   "cell_type": "code",
   "execution_count": 15,
   "metadata": {},
   "outputs": [],
   "source": [
    "def rdf_from_gsd(rdf_path,\n",
    "                 atom_types='all',\n",
    "                 r_max = None,\n",
    "                 r_min = 0.1,\n",
    "                 nbins = 50,\n",
    "                 start = 100):\n",
    "    \n",
    "    \n",
    "    f = gsd.pygsd.GSDFile(open(rdf_path, \"rb\"))\n",
    "    trajectory = gsd.hoomd.HOOMDTrajectory(f) \n",
    "    if r_max is None:\n",
    "        r_max = max(trajectory[-1].configuration.box[:3]) * 0.45 \n",
    "    freud_rdf = freud.density.RDF(bins=nbins, r_max=r_max, r_min=r_min)\n",
    "    for frame in trajectory[start:]:\n",
    "        if atom_types == 'all':\n",
    "            freud_rdf.compute(system=frame, reset=False)\n",
    "        else:\n",
    "            query_points = atom_type_pos(frame, atom_types)\n",
    "            box = frame.configuration.box\n",
    "            freud_rdf.compute(system=(box, query_points), reset = False)\n",
    "        \n",
    " \n",
    "    x = freud_rdf.bin_centers\n",
    "    y = freud_rdf.rdf\n",
    "    filename = job.fn('{}-trajectory.txt').format(atom_types[0])\n",
    "    np.savetxt(filename, np.transpose([x,y]), delimiter=',', header= \"bin_centers, rdf\")\n",
    "    f.close()\n",
    "    return freud_rdf, filename"
   ]
  },
  {
   "cell_type": "code",
   "execution_count": 17,
   "metadata": {},
   "outputs": [],
   "source": [
    "def rdf_analysis(job_list): \n",
    "    \n",
    "    for job in job_list:\n",
    "        rdf_path = job.fn(\"trajectory.gsd\")\n",
    "        freud_rdf, filename = rdf_from_gsd(rdf_path, atom_types=['f'], start = 95)\n",
    "        txt_path = job.fn('f-trajectory.txt')\n",
    "        \n",
    "\n",
    "    line = np.genfromtxt(txt_path, names = True, delimiter = \",\") \n",
    "    \n",
    "    a_type = (txt_path[-16])\n",
    "    print(a_type)\n",
    "\n",
    "    x = line[\"bin_centers\"]\n",
    "    y = line[\"rdf\"]\n",
    "    \n",
    "    plt.plot(x, y, color = '#ffc08a')\n",
    "\n",
    "    plt.xlabel(\"r\")\n",
    "    plt.ylabel(\"g(r)\")\n",
    "    plt.ylim(0, 1.6)\n",
    "    plt.title(state_dict)\n",
    "    \n",
    "    mypath = \"/home/emilyepstein/projects/ptb7-itic/ptb7-project/jup_notebooks\"\n",
    "    \n",
    "    pngpath = \"{}/plots-ptb7/{}-{}.png\".format(mypath, a_type, job)\n",
    "    #pngpath = \"{}/plots-ptb7/{}.png\".format(mypath, job)\n",
    "    \n",
    "    plt.savefig(pngpath)\n",
    "    \n",
    "    #still looking for atom type in title"
   ]
  },
  {
   "cell_type": "code",
   "execution_count": 18,
   "metadata": {},
   "outputs": [
    {
     "ename": "AttributeError",
     "evalue": "Property not computed. Call compute first.",
     "output_type": "error",
     "traceback": [
      "\u001b[0;31m---------------------------------------------------------------------------\u001b[0m",
      "\u001b[0;31mAttributeError\u001b[0m                            Traceback (most recent call last)",
      "\u001b[0;32m<ipython-input-18-c445583c2029>\u001b[0m in \u001b[0;36m<module>\u001b[0;34m\u001b[0m\n\u001b[0;32m----> 1\u001b[0;31m \u001b[0mrdf_analysis\u001b[0m\u001b[0;34m(\u001b[0m\u001b[0mjob_list\u001b[0m\u001b[0;34m)\u001b[0m\u001b[0;34m\u001b[0m\u001b[0;34m\u001b[0m\u001b[0m\n\u001b[0m",
      "\u001b[0;32m<ipython-input-17-69ff9e5f2eb0>\u001b[0m in \u001b[0;36mrdf_analysis\u001b[0;34m(job_list)\u001b[0m\n\u001b[1;32m      3\u001b[0m     \u001b[0;32mfor\u001b[0m \u001b[0mjob\u001b[0m \u001b[0;32min\u001b[0m \u001b[0mjob_list\u001b[0m\u001b[0;34m:\u001b[0m\u001b[0;34m\u001b[0m\u001b[0;34m\u001b[0m\u001b[0m\n\u001b[1;32m      4\u001b[0m         \u001b[0mrdf_path\u001b[0m \u001b[0;34m=\u001b[0m \u001b[0mjob\u001b[0m\u001b[0;34m.\u001b[0m\u001b[0mfn\u001b[0m\u001b[0;34m(\u001b[0m\u001b[0;34m\"trajectory.gsd\"\u001b[0m\u001b[0;34m)\u001b[0m\u001b[0;34m\u001b[0m\u001b[0;34m\u001b[0m\u001b[0m\n\u001b[0;32m----> 5\u001b[0;31m         \u001b[0mfreud_rdf\u001b[0m\u001b[0;34m,\u001b[0m \u001b[0mfilename\u001b[0m \u001b[0;34m=\u001b[0m \u001b[0mrdf_from_gsd\u001b[0m\u001b[0;34m(\u001b[0m\u001b[0mrdf_path\u001b[0m\u001b[0;34m,\u001b[0m \u001b[0matom_types\u001b[0m\u001b[0;34m=\u001b[0m\u001b[0;34m[\u001b[0m\u001b[0;34m'f'\u001b[0m\u001b[0;34m]\u001b[0m\u001b[0;34m,\u001b[0m \u001b[0mstart\u001b[0m \u001b[0;34m=\u001b[0m \u001b[0;36m95\u001b[0m\u001b[0;34m)\u001b[0m\u001b[0;34m\u001b[0m\u001b[0;34m\u001b[0m\u001b[0m\n\u001b[0m\u001b[1;32m      6\u001b[0m         \u001b[0mtxt_path\u001b[0m \u001b[0;34m=\u001b[0m \u001b[0mjob\u001b[0m\u001b[0;34m.\u001b[0m\u001b[0mfn\u001b[0m\u001b[0;34m(\u001b[0m\u001b[0;34m'f-trajectory.txt'\u001b[0m\u001b[0;34m)\u001b[0m\u001b[0;34m\u001b[0m\u001b[0;34m\u001b[0m\u001b[0m\n\u001b[1;32m      7\u001b[0m \u001b[0;34m\u001b[0m\u001b[0m\n",
      "\u001b[0;32m<ipython-input-15-453c17d7f44f>\u001b[0m in \u001b[0;36mrdf_from_gsd\u001b[0;34m(rdf_path, atom_types, r_max, r_min, nbins, start)\u001b[0m\n\u001b[1;32m     22\u001b[0m \u001b[0;34m\u001b[0m\u001b[0m\n\u001b[1;32m     23\u001b[0m     \u001b[0mx\u001b[0m \u001b[0;34m=\u001b[0m \u001b[0mfreud_rdf\u001b[0m\u001b[0;34m.\u001b[0m\u001b[0mbin_centers\u001b[0m\u001b[0;34m\u001b[0m\u001b[0;34m\u001b[0m\u001b[0m\n\u001b[0;32m---> 24\u001b[0;31m     \u001b[0my\u001b[0m \u001b[0;34m=\u001b[0m \u001b[0mfreud_rdf\u001b[0m\u001b[0;34m.\u001b[0m\u001b[0mrdf\u001b[0m\u001b[0;34m\u001b[0m\u001b[0;34m\u001b[0m\u001b[0m\n\u001b[0m\u001b[1;32m     25\u001b[0m     \u001b[0mfilename\u001b[0m \u001b[0;34m=\u001b[0m \u001b[0mjob\u001b[0m\u001b[0;34m.\u001b[0m\u001b[0mfn\u001b[0m\u001b[0;34m(\u001b[0m\u001b[0;34m'{}-trajectory.txt'\u001b[0m\u001b[0;34m)\u001b[0m\u001b[0;34m.\u001b[0m\u001b[0mformat\u001b[0m\u001b[0;34m(\u001b[0m\u001b[0matom_types\u001b[0m\u001b[0;34m[\u001b[0m\u001b[0;36m0\u001b[0m\u001b[0;34m]\u001b[0m\u001b[0;34m)\u001b[0m\u001b[0;34m\u001b[0m\u001b[0;34m\u001b[0m\u001b[0m\n\u001b[1;32m     26\u001b[0m     \u001b[0mnp\u001b[0m\u001b[0;34m.\u001b[0m\u001b[0msavetxt\u001b[0m\u001b[0;34m(\u001b[0m\u001b[0mfilename\u001b[0m\u001b[0;34m,\u001b[0m \u001b[0mnp\u001b[0m\u001b[0;34m.\u001b[0m\u001b[0mtranspose\u001b[0m\u001b[0;34m(\u001b[0m\u001b[0;34m[\u001b[0m\u001b[0mx\u001b[0m\u001b[0;34m,\u001b[0m\u001b[0my\u001b[0m\u001b[0;34m]\u001b[0m\u001b[0;34m)\u001b[0m\u001b[0;34m,\u001b[0m \u001b[0mdelimiter\u001b[0m\u001b[0;34m=\u001b[0m\u001b[0;34m','\u001b[0m\u001b[0;34m,\u001b[0m \u001b[0mheader\u001b[0m\u001b[0;34m=\u001b[0m \u001b[0;34m\"bin_centers, rdf\"\u001b[0m\u001b[0;34m)\u001b[0m\u001b[0;34m\u001b[0m\u001b[0;34m\u001b[0m\u001b[0m\n",
      "\u001b[0;32mfreud/util.pyx\u001b[0m in \u001b[0;36mfreud.util._Compute.__getattribute__\u001b[0;34m()\u001b[0m\n",
      "\u001b[0;32mfreud/util.pyx\u001b[0m in \u001b[0;36mfreud.util._Compute._computed_property.wrapper\u001b[0;34m()\u001b[0m\n",
      "\u001b[0;31mAttributeError\u001b[0m: Property not computed. Call compute first."
     ]
    }
   ],
   "source": [
    "rdf_analysis(job_list)"
   ]
  },
  {
   "cell_type": "markdown",
   "metadata": {},
   "source": [
    "for plotting max:"
   ]
  },
  {
   "cell_type": "code",
   "execution_count": null,
   "metadata": {},
   "outputs": [],
   "source": [
    "#ymax = max(y)\n",
    "#n_max = y.argmax()\n",
    "#plt.plot(x[n_max],y[n_max],'o')\n",
    "#n_min = y.argmin() \n",
    "#plt.plot(x[n_min],y[n_min],'x')\n",
    "#\n",
    "##unsure how many decimals?\n",
    "#plt.annotate(\"local max {}\".format(\"%10.5f\"% y[n_max]), xy=(x[n_max],y[n_max]), xytext=(x[n_max]+15,y[n_max]+15), textcoords='offset points', arrowprops=dict(arrowstyle=\"->\", connectionstyle=\"arc3,rad=-0.2\"))\n",
    "#\n",
    "#print(\"max is:\" \"%10.5f\"% y[n_max]) "
   ]
  },
  {
   "cell_type": "markdown",
   "metadata": {},
   "source": [
    "## RDF for ITIC"
   ]
  },
  {
   "cell_type": "code",
   "execution_count": null,
   "metadata": {},
   "outputs": [],
   "source": [
    "data_path = \"/home/erjank_project/itic-project/workspace\"\n",
    "\n",
    "project = signac.get_project(data_path)"
   ]
  },
  {
   "cell_type": "code",
   "execution_count": null,
   "metadata": {},
   "outputs": [],
   "source": [
    "state_dict={\"size\": \"small\", \n",
    "            \"process\": \"quench\",\n",
    "            \"kT_reduced\":1.2, \n",
    "            \"density\":0.9}\n",
    "\n",
    "job_list = project.find_jobs(state_dict)\n",
    "\n",
    "#print(project.detect_schema())"
   ]
  },
  {
   "cell_type": "code",
   "execution_count": null,
   "metadata": {},
   "outputs": [],
   "source": [
    "for job in job_list:\n",
    "    rdf_path = job.fn(\"trajectory.gsd\")\n",
    "    print(job)"
   ]
  },
  {
   "cell_type": "code",
   "execution_count": null,
   "metadata": {},
   "outputs": [],
   "source": []
  },
  {
   "cell_type": "markdown",
   "metadata": {},
   "source": [
    "#### note: atom types defined above"
   ]
  },
  {
   "cell_type": "code",
   "execution_count": null,
   "metadata": {},
   "outputs": [],
   "source": [
    "def rdf_from_gsd(rdf_path,\n",
    "                 atom_types='all',\n",
    "                 r_max = None,\n",
    "                 r_min = 0.1,\n",
    "                 nbins = 50,\n",
    "                 start = 100):\n",
    "    \n",
    "    \n",
    "    f = gsd.pygsd.GSDFile(open(rdf_path, \"rb\"))\n",
    "    trajectory = gsd.hoomd.HOOMDTrajectory(f) \n",
    "    if r_max is None:\n",
    "        r_max = max(trajectory[-1].configuration.box[:3]) * 0.45 \n",
    "    freud_rdf = freud.density.RDF(bins=nbins, r_max=r_max, r_min=r_min)\n",
    "    for frame in trajectory[start:]:\n",
    "        if atom_types == 'all':\n",
    "            freud_rdf.compute(system=frame, reset=False)\n",
    "        else:\n",
    "            query_points = atom_type_pos(frame, atom_types)\n",
    "            box = frame.configuration.box\n",
    "            freud_rdf.compute(system=(box, query_points), reset = False)\n",
    "        \n",
    " \n",
    "    x = freud_rdf.bin_centers\n",
    "    y = freud_rdf.rdf\n",
    "    filename = job.fn('{}-trajectory.txt').format(atom_types[0])\n",
    "    np.savetxt(filename, np.transpose([x,y]), delimiter=',', header= \"bin_centers, rdf\")\n",
    "    f.close()\n",
    "    return freud_rdf, filename"
   ]
  },
  {
   "cell_type": "code",
   "execution_count": null,
   "metadata": {},
   "outputs": [],
   "source": [
    "def rdf_analysis(job_list): \n",
    "    \n",
    "    for job in job_list:\n",
    "        rdf_path = job.fn(\"trajectory.gsd\")\n",
    "        freud_rdf, filename = rdf_from_gsd(rdf_path, atom_types=['ss'], start = 0)\n",
    "        txt_path = job.fn('ss-trajectory.txt')\n",
    "\n",
    "    line = np.genfromtxt(txt_path, names = True, delimiter = \",\") \n",
    "\n",
    "    x = line[\"bin_centers\"]\n",
    "    y = line[\"rdf\"]\n",
    "    \n",
    "    plt.plot(x, y, color = '#ffc08a')\n",
    "\n",
    "    plt.xlabel(\"r\")\n",
    "    plt.ylabel(\"g(r)\")\n",
    "    plt.ylim(0, 3.0)\n",
    "    plt.title(state_dict)\n",
    "    \n",
    "    ppath = \"/home/emilyepstein/projects/ptb7-itic/ptb7-project/jup_notebooks/plots-itic/{}.png\".format(job)\n",
    "    \n",
    "    plt.savefig(ppath)\n",
    "    \n",
    "    #still looking for atom type in title"
   ]
  },
  {
   "cell_type": "code",
   "execution_count": null,
   "metadata": {},
   "outputs": [],
   "source": [
    "rdf_analysis(job_list)"
   ]
  },
  {
   "cell_type": "code",
   "execution_count": null,
   "metadata": {},
   "outputs": [],
   "source": []
  },
  {
   "cell_type": "code",
   "execution_count": null,
   "metadata": {},
   "outputs": [],
   "source": []
  },
  {
   "cell_type": "code",
   "execution_count": null,
   "metadata": {},
   "outputs": [],
   "source": []
  },
  {
   "cell_type": "code",
   "execution_count": null,
   "metadata": {},
   "outputs": [],
   "source": []
  },
  {
   "cell_type": "code",
   "execution_count": null,
   "metadata": {},
   "outputs": [],
   "source": []
  },
  {
   "cell_type": "code",
   "execution_count": null,
   "metadata": {},
   "outputs": [],
   "source": []
  }
 ],
 "metadata": {
  "kernelspec": {
   "display_name": "Python 3",
   "language": "python",
   "name": "python3"
  },
  "language_info": {
   "codemirror_mode": {
    "name": "ipython",
    "version": 3
   },
   "file_extension": ".py",
   "mimetype": "text/x-python",
   "name": "python",
   "nbconvert_exporter": "python",
   "pygments_lexer": "ipython3",
   "version": "3.7.7"
  }
 },
 "nbformat": 4,
 "nbformat_minor": 4
}
