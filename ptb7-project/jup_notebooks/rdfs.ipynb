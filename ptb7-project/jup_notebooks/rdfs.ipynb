{
 "cells": [
  {
   "cell_type": "code",
   "execution_count": 1,
   "metadata": {},
   "outputs": [],
   "source": [
    "import signac\n",
    "import numpy as np\n",
    "import matplotlib.pyplot as plt\n",
    "import freud\n",
    "import gsd\n",
    "import hoomd\n",
    "import gsd.pygsd\n",
    "import gsd.hoomd"
   ]
  },
  {
   "cell_type": "markdown",
   "metadata": {},
   "source": [
    "## RDF for PTB7"
   ]
  },
  {
   "cell_type": "code",
   "execution_count": 18,
   "metadata": {},
   "outputs": [],
   "source": [
    "data_path = \"/home/erjank_project/ptb7-project/workspace\"\n",
    "\n",
    "project = signac.get_project(data_path)"
   ]
  },
  {
   "cell_type": "code",
   "execution_count": 17,
   "metadata": {},
   "outputs": [],
   "source": [
    "state_dict = {\"size\":\"medium\",\n",
    "              \"molecule\": \"PTB7_5mer_smiles\",\n",
    "              \"process\":\"quench\",\n",
    "              \"density\": 0.9,\n",
    "              \"kT_reduced\": 1.7}\n",
    "\n",
    "job_list = project.find_jobs(state_dict)"
   ]
  },
  {
   "cell_type": "code",
   "execution_count": 4,
   "metadata": {},
   "outputs": [
    {
     "name": "stdout",
     "output_type": "stream",
     "text": [
      "5mer\n"
     ]
    },
    {
     "data": {
      "text/plain": [
       "'5mer'"
      ]
     },
     "execution_count": 4,
     "metadata": {},
     "output_type": "execute_result"
    }
   ],
   "source": [
    "def checkkey(state_dict, key): \n",
    "      \n",
    "    if state_dict[key] ==  \"PTB7_10mer_smiles\":\n",
    "        print(\"10mer\")\n",
    "        mol = \"10mer\"\n",
    "    elif state_dict[key] ==  \"PTB7_5mer_smiles\":\n",
    "        print(\"5mer\")\n",
    "        mol = \"5mer\"\n",
    "        return mol\n",
    "\n",
    "key = 'molecule'        \n",
    "        \n",
    "checkkey(state_dict, key)         \n",
    "        \n",
    "        \n",
    "    #if key in state_dict.keys(): \n",
    "     #   print(state_dict[key])\n",
    "        \n",
    "        #mol = state_dict[key]\n",
    "    #else: \n",
    "    #    print(\"Not present\") \n",
    "#checkKey(state_dict, key) "
   ]
  },
  {
   "cell_type": "code",
   "execution_count": 14,
   "metadata": {},
   "outputs": [
    {
     "name": "stdout",
     "output_type": "stream",
     "text": [
      "f082f27bfe6890e697a969d934b678f0\n",
      "fe36ee4052a01cae041ef5988477de10\n",
      "65feb942cb0b50717126f2962839c708\n",
      "639f334452ca975a425617708f6b2c39\n",
      "32a6f4ec357646c780654e1528dff84b\n",
      "ae3549e69df51ff0ddcaa887f1be44f6\n",
      "8772b23514d891a8ccccf3c9285f8544\n",
      "8a5d42d03f1bfd6d1e0fa0e5495e8837\n",
      "c416c7bebdae90a23eee7b808b10b1ed\n",
      "f66ea0b83e09c1f3637ab58150272f22\n",
      "af95362e840c5599fcba670a0daf4975\n"
     ]
    }
   ],
   "source": [
    "for job in job_list:\n",
    "    rdf_path = job.fn(\"trajectory.gsd\")\n",
    "    print(job)"
   ]
  },
  {
   "cell_type": "code",
   "execution_count": 6,
   "metadata": {},
   "outputs": [
    {
     "ename": "NameError",
     "evalue": "name 'mol' is not defined",
     "output_type": "error",
     "traceback": [
      "\u001b[0;31m---------------------------------------------------------------------------\u001b[0m",
      "\u001b[0;31mNameError\u001b[0m                                 Traceback (most recent call last)",
      "\u001b[0;32m<ipython-input-6-6c83bc7b6440>\u001b[0m in \u001b[0;36m<module>\u001b[0;34m\u001b[0m\n\u001b[0;32m----> 1\u001b[0;31m \u001b[0mprint\u001b[0m\u001b[0;34m(\u001b[0m\u001b[0mmol\u001b[0m\u001b[0;34m)\u001b[0m\u001b[0;34m\u001b[0m\u001b[0;34m\u001b[0m\u001b[0m\n\u001b[0m",
      "\u001b[0;31mNameError\u001b[0m: name 'mol' is not defined"
     ]
    }
   ],
   "source": [
    "print(mol)"
   ]
  },
  {
   "cell_type": "code",
   "execution_count": null,
   "metadata": {},
   "outputs": [],
   "source": [
    "def atom_type_pos(frame, atom_types): \n",
    "    positions = []\n",
    "    for idx, type_id in enumerate(frame.particles.typeid):\n",
    "        if frame.particles.types[type_id] in atom_types:\n",
    "            positions.append(frame.particles.position[idx])\n",
    "    return positions"
   ]
  },
  {
   "cell_type": "code",
   "execution_count": null,
   "metadata": {},
   "outputs": [],
   "source": [
    "def rdf_from_gsd(rdf_path,\n",
    "                 atom_types='all',\n",
    "                 r_max = None,\n",
    "                 r_min = 0.1,\n",
    "                 nbins = 50,\n",
    "                 start = 100):\n",
    "    \n",
    "    \n",
    "    f = gsd.pygsd.GSDFile(open(rdf_path, \"rb\"))\n",
    "    trajectory = gsd.hoomd.HOOMDTrajectory(f) \n",
    "    if r_max is None:\n",
    "        r_max = max(trajectory[-1].configuration.box[:3]) * 0.45 \n",
    "    freud_rdf = freud.density.RDF(bins=nbins, r_max=r_max, r_min=r_min)\n",
    "    for frame in trajectory[start:]:\n",
    "        if atom_types == 'all':\n",
    "            freud_rdf.compute(system=frame, reset=False)\n",
    "        else:\n",
    "            query_points = atom_type_pos(frame, atom_types)\n",
    "            box = frame.configuration.box\n",
    "            freud_rdf.compute(system=(box, query_points), reset = False)\n",
    "        \n",
    " \n",
    "    x = freud_rdf.bin_centers\n",
    "    y = freud_rdf.rdf\n",
    "    filename = job.fn('{}-trajectory.txt').format(atom_types[0])\n",
    "    np.savetxt(filename, np.transpose([x,y]), delimiter=',', header= \"bin_centers, rdf\")\n",
    "    f.close()\n",
    "    return freud_rdf, filename"
   ]
  },
  {
   "cell_type": "code",
   "execution_count": null,
   "metadata": {},
   "outputs": [],
   "source": [
    "def rdf_analysis(job_list): \n",
    "    \n",
    "    for job in job_list:\n",
    "        rdf_path = job.fn(\"trajectory.gsd\")\n",
    "        freud_rdf, filename = rdf_from_gsd(rdf_path, atom_types=['f'], start = 95)\n",
    "        txt_path = job.fn('f-trajectory.txt')\n",
    "        \n",
    "\n",
    "    line = np.genfromtxt(txt_path, names = True, delimiter = \",\") \n",
    "    \n",
    "    a_type = (txt_path[-16])\n",
    "    print(a_type)\n",
    "\n",
    "    x = line[\"bin_centers\"]\n",
    "    y = line[\"rdf\"]\n",
    "    \n",
    "    plt.plot(x, y, color = '#ffc08a')\n",
    "\n",
    "    plt.xlabel(\"r\")\n",
    "    plt.ylabel(\"g(r)\")\n",
    "    plt.ylim(0, 1.6)\n",
    "    plt.title(state_dict)\n",
    "    \n",
    "    mypath = \"/home/emilyepstein/projects/ptb7-itic/ptb7-project/jup_notebooks\"\n",
    "    \n",
    "    pngpath = \"{}/plots-ptb7/{}-{}.png\".format(mypath, a_type, job)\n",
    "    #pngpath = \"{}/plots-ptb7/{}.png\".format(mypath, job)\n",
    "    \n",
    "    plt.savefig(pngpath)\n",
    "    \n",
    "    #still looking for atom type in title"
   ]
  },
  {
   "cell_type": "code",
   "execution_count": null,
   "metadata": {},
   "outputs": [],
   "source": [
    "rdf_analysis(job_list)"
   ]
  },
  {
   "cell_type": "markdown",
   "metadata": {},
   "source": [
    "for plotting max:"
   ]
  },
  {
   "cell_type": "code",
   "execution_count": null,
   "metadata": {},
   "outputs": [],
   "source": [
    "#ymax = max(y)\n",
    "#n_max = y.argmax()\n",
    "#plt.plot(x[n_max],y[n_max],'o')\n",
    "#n_min = y.argmin() \n",
    "#plt.plot(x[n_min],y[n_min],'x')\n",
    "#\n",
    "##unsure how many decimals?\n",
    "#plt.annotate(\"local max {}\".format(\"%10.5f\"% y[n_max]), xy=(x[n_max],y[n_max]), xytext=(x[n_max]+15,y[n_max]+15), textcoords='offset points', arrowprops=dict(arrowstyle=\"->\", connectionstyle=\"arc3,rad=-0.2\"))\n",
    "#\n",
    "#print(\"max is:\" \"%10.5f\"% y[n_max]) "
   ]
  },
  {
   "cell_type": "markdown",
   "metadata": {},
   "source": [
    "## RDF for ITIC"
   ]
  },
  {
   "cell_type": "code",
   "execution_count": null,
   "metadata": {},
   "outputs": [],
   "source": [
    "data_path = \"/home/erjank_project/itic-project/workspace\"\n",
    "\n",
    "project = signac.get_project(data_path)"
   ]
  },
  {
   "cell_type": "code",
   "execution_count": null,
   "metadata": {},
   "outputs": [],
   "source": [
    "state_dict={\"size\": \"small\", \n",
    "            \"process\": \"quench\",\n",
    "            \"kT_reduced\":1.2, \n",
    "            \"density\":0.9}\n",
    "\n",
    "job_list = project.find_jobs(state_dict)\n",
    "\n",
    "#print(project.detect_schema())"
   ]
  },
  {
   "cell_type": "code",
   "execution_count": null,
   "metadata": {},
   "outputs": [],
   "source": [
    "for job in job_list:\n",
    "    rdf_path = job.fn(\"trajectory.gsd\")\n",
    "    print(job)"
   ]
  },
  {
   "cell_type": "markdown",
   "metadata": {},
   "source": [
    "#### note: atom types defined above"
   ]
  },
  {
   "cell_type": "code",
   "execution_count": null,
   "metadata": {},
   "outputs": [],
   "source": [
    "def rdf_from_gsd(rdf_path,\n",
    "                 atom_types='all',\n",
    "                 r_max = None,\n",
    "                 r_min = 0.1,\n",
    "                 nbins = 50,\n",
    "                 start = 100):\n",
    "    \n",
    "    \n",
    "    f = gsd.pygsd.GSDFile(open(rdf_path, \"rb\"))\n",
    "    trajectory = gsd.hoomd.HOOMDTrajectory(f) \n",
    "    if r_max is None:\n",
    "        r_max = max(trajectory[-1].configuration.box[:3]) * 0.45 \n",
    "    freud_rdf = freud.density.RDF(bins=nbins, r_max=r_max, r_min=r_min)\n",
    "    for frame in trajectory[start:]:\n",
    "        if atom_types == 'all':\n",
    "            freud_rdf.compute(system=frame, reset=False)\n",
    "        else:\n",
    "            query_points = atom_type_pos(frame, atom_types)\n",
    "            box = frame.configuration.box\n",
    "            freud_rdf.compute(system=(box, query_points), reset = False)\n",
    "        \n",
    " \n",
    "    x = freud_rdf.bin_centers\n",
    "    y = freud_rdf.rdf\n",
    "    filename = job.fn('{}-trajectory.txt').format(atom_types[0])\n",
    "    np.savetxt(filename, np.transpose([x,y]), delimiter=',', header= \"bin_centers, rdf\")\n",
    "    f.close()\n",
    "    return freud_rdf, filename"
   ]
  },
  {
   "cell_type": "code",
   "execution_count": null,
   "metadata": {},
   "outputs": [],
   "source": [
    "def rdf_analysis(job_list): \n",
    "    \n",
    "    for job in job_list:\n",
    "        rdf_path = job.fn(\"trajectory.gsd\")\n",
    "        freud_rdf, filename = rdf_from_gsd(rdf_path, atom_types=['ss'], start = 0)\n",
    "        txt_path = job.fn('ss-trajectory.txt')\n",
    "\n",
    "    line = np.genfromtxt(txt_path, names = True, delimiter = \",\") \n",
    "\n",
    "    x = line[\"bin_centers\"]\n",
    "    y = line[\"rdf\"]\n",
    "    \n",
    "    plt.plot(x, y, color = '#ffc08a')\n",
    "\n",
    "    plt.xlabel(\"r\")\n",
    "    plt.ylabel(\"g(r)\")\n",
    "    plt.ylim(0, 3.0)\n",
    "    plt.title(state_dict)\n",
    "    \n",
    "    ppath = \"/home/emilyepstein/projects/ptb7-itic/ptb7-project/jup_notebooks/plots-itic/{}.png\".format(job)\n",
    "    \n",
    "    plt.savefig(ppath)\n",
    "    \n",
    "    #still looking for atom type in title"
   ]
  },
  {
   "cell_type": "code",
   "execution_count": null,
   "metadata": {},
   "outputs": [],
   "source": [
    "rdf_analysis(job_list)"
   ]
  }
 ],
 "metadata": {
  "kernelspec": {
   "display_name": "Python 3",
   "language": "python",
   "name": "python3"
  },
  "language_info": {
   "codemirror_mode": {
    "name": "ipython",
    "version": 3
   },
   "file_extension": ".py",
   "mimetype": "text/x-python",
   "name": "python",
   "nbconvert_exporter": "python",
   "pygments_lexer": "ipython3",
   "version": "3.7.7"
  }
 },
 "nbformat": 4,
 "nbformat_minor": 4
}
